{
 "cells": [
  {
   "cell_type": "markdown",
   "metadata": {
    "collapsed": true
   },
   "source": [
    "# 第3章 基本数据类型\n",
    "Python语言的基本数据类型包括：数字类型、字符串类型、布尔类型\n",
    "五种基本对象类型  \n",
    "•\t字符串 (string)，简记为 str  \n",
    "o\t使用 ' ' 或 \" \" 括起来的一系列字符  \n",
    "•\t整数(integer)，简记为 int  \n",
    "o\t十进制：21，八进制：025，十六进制：0x15  \n",
    "•\t浮点数(float)  \n",
    "o\t1.48，21.0，21.，.21，2.1E2  \n",
    "•\t布尔数(boolean)，简记为 bool  \n",
    "o\tTrue，False  \n",
    "•\t复数(complex)  \n",
    "o\t1+1j  \n",
    "  \n",
    "## 数字类型\n",
    "包括：整数、浮点数和复数三种类型\n",
    "<table class=\"reference\">\n",
    "<tbody><tr><th>int</th><th>long</th><th>float</th><th>complex</th></tr>\n",
    "<tr><td>10</td><td>51924361L</td><td>0.0</td><td>3.14j</td></tr>\n",
    "<tr><td>100</td><td>-0x19323L</td><td>15.20</td><td>45.j</td></tr>\n",
    "<tr><td>-786</td><td>0122L</td><td>-21.9</td><td>9.322e-36j</td></tr>\n",
    "<tr><td>080</td><td>0xDEFABCECBDAECBFBAEl</td><td>32.3e+18</td><td>.876j</td></tr>\n",
    "<tr><td>-0490</td><td>535633629843L</td><td>-90.</td><td>-.6545+0J</td></tr>\n",
    "<tr><td>-0x260</td><td>-052318172735L</td><td>-32.54e100</td><td>3e+26J</td></tr>\n",
    "<tr><td>0x69</td><td>-4721885298529L</td><td>70.2E-12</td><td>4.53e-7j</td></tr>\n",
    "</tbody></table>\n"
   ]
  },
  {
   "cell_type": "markdown",
   "metadata": {},
   "source": [
    "### 整数类型\n",
    "和其它编程语言不同的是，没有取值范围的限制，只取决于机器能表示的范围。  \n",
    "例如：pow(x,y)函数计算 $ x^y $"
   ]
  },
  {
   "cell_type": "code",
   "execution_count": 1,
   "metadata": {},
   "outputs": [
    {
     "data": {
      "text/plain": [
       "1024"
      ]
     },
     "execution_count": 1,
     "metadata": {},
     "output_type": "execute_result"
    }
   ],
   "source": [
    "pow(2,10)"
   ]
  },
  {
   "cell_type": "code",
   "execution_count": 2,
   "metadata": {},
   "outputs": [
    {
     "data": {
      "text/plain": [
       "32768"
      ]
     },
     "execution_count": 2,
     "metadata": {},
     "output_type": "execute_result"
    }
   ],
   "source": [
    "pow(2,15)"
   ]
  },
  {
   "cell_type": "code",
   "execution_count": 3,
   "metadata": {},
   "outputs": [
    {
     "data": {
      "text/plain": [
       "10715086071862673209484250490600018105614048117055336074437503883703510511249361224931983788156958581275946729175531468251871452856923140435984577574698574803934567774824230985421074605062371141877954182153046474983581941267398767559165543946077062914571196477686542167660429831652624386837205668069376"
      ]
     },
     "execution_count": 3,
     "metadata": {},
     "output_type": "execute_result"
    }
   ],
   "source": [
    "pow(2,1000)"
   ]
  },
  {
   "cell_type": "code",
   "execution_count": null,
   "metadata": {
    "collapsed": true,
    "scrolled": false
   },
   "outputs": [],
   "source": [
    "pow(2,pow(2,15))"
   ]
  },
  {
   "cell_type": "code",
   "execution_count": 3,
   "metadata": {},
   "outputs": [
    {
     "name": "stdout",
     "output_type": "stream",
     "text": [
      "10000000000000000000000000000000000000000000000000000000000000000000000000000000000000000000000000000\n"
     ]
    }
   ],
   "source": [
    "googol = 10 ** 100\n",
    "print(googol)"
   ]
  },
  {
   "cell_type": "markdown",
   "metadata": {},
   "source": [
    "### 浮点数类型\n",
    "Python语言中浮点数的数值范围存在限制，小数精度也存在限制。这种限制与在不同计算机系统有关。"
   ]
  },
  {
   "cell_type": "code",
   "execution_count": 5,
   "metadata": {},
   "outputs": [
    {
     "data": {
      "text/plain": [
       "sys.float_info(max=1.7976931348623157e+308, max_exp=1024, max_10_exp=308, min=2.2250738585072014e-308, min_exp=-1021, min_10_exp=-307, dig=15, mant_dig=53, epsilon=2.220446049250313e-16, radix=2, rounds=1)"
      ]
     },
     "execution_count": 5,
     "metadata": {},
     "output_type": "execute_result"
    }
   ],
   "source": [
    "import sys\n",
    "sys.float_info"
   ]
  },
  {
   "cell_type": "code",
   "execution_count": 1,
   "metadata": {},
   "outputs": [
    {
     "data": {
      "text/plain": [
       "sys.int_info(bits_per_digit=30, sizeof_digit=4)"
      ]
     },
     "execution_count": 1,
     "metadata": {},
     "output_type": "execute_result"
    }
   ],
   "source": [
    "import sys\n",
    "sys.int_info"
   ]
  },
  {
   "cell_type": "markdown",
   "metadata": {},
   "source": [
    "### 复数类型\n",
    "与数学中的复数概念一致, z = a + bj， a是实数部分，b是虚数部分，a和b都是浮点类型，虚数部分用j或者J标识。"
   ]
  },
  {
   "cell_type": "markdown",
   "metadata": {},
   "source": [
    "## 数字类型的操作\n",
    "加减乘除运算，注意：\\**是乘方运算，//是整除运算，%是取余运算"
   ]
  },
  {
   "cell_type": "code",
   "execution_count": 6,
   "metadata": {},
   "outputs": [
    {
     "name": "stdout",
     "output_type": "stream",
     "text": [
      "32\n",
      "2\n",
      "1\n"
     ]
    }
   ],
   "source": [
    "print(2 ** 5)\n",
    "print(5 // 2)\n",
    "print(5 % 2)"
   ]
  },
  {
   "cell_type": "markdown",
   "metadata": {},
   "source": [
    "内置的数值运算函数：abs、pow、round、max、min、divmod\n",
    "<h2>Python数学函数</h2>\n",
    "<table class=\"reference\">\n",
    "<tbody><tr>\n",
    "<th>函数</th><th>返回值 ( 描述 )</th></tr>\n",
    "<tr><td><a target=\"_blank\" href=\"/python/func-number-abs.html\">abs(x)</a></td><td>返回数字的绝对值，如abs(-10) 返回 10</td></tr>\n",
    "<tr><td><a target=\"_blank\" href=\"/python/func-number-ceil.html\">ceil(x) </a></td><td>返回数字的上入整数，如math.ceil(4.1) 返回 5</td></tr>\n",
    "<tr><td><a target=\"_blank\" href=\"/python/func-number-cmp.html\">cmp(x, y)</a></td><td> 如果 x &lt; y 返回 -1, 如果  x == y 返回 0,  如果 x &gt; y 返回 1</td></tr>\n",
    "<tr><td><a target=\"_blank\" href=\"/python/func-number-exp.html\">exp(x) </a></td><td>返回e的x次幂(e<sup>x</sup>),如math.exp(1) 返回2.718281828459045</td></tr>\n",
    "<tr><td><a target=\"_blank\" href=\"/python/func-number-fabs.html\">fabs(x)</a></td><td>返回数字的绝对值，如math.fabs(-10) 返回10.0</td></tr>\n",
    "<tr><td><a target=\"_blank\" href=\"/python/func-number-floor.html\">floor(x) </a></td><td>返回数字的下舍整数，如math.floor(4.9)返回 4</td></tr>\n",
    "<tr><td><a target=\"_blank\" href=\"/python/func-number-log.html\">log(x) </a></td><td>如math.log(math.e)返回1.0,math.log(100,10)返回2.0</td></tr>\n",
    "<tr><td><a target=\"_blank\" href=\"/python/func-number-log10.html\">log10(x) </a></td><td>返回以10为基数的x的对数，如math.log10(100)返回 2.0</td></tr>\n",
    "<tr><td><a target=\"_blank\" href=\"/python/func-number-max.html\">max(x1, x2,...) </a></td><td>返回给定参数的最大值，参数可以为序列。</td></tr>\n",
    "<tr><td><a target=\"_blank\" href=\"/python/func-number-min.html\">min(x1, x2,...) </a></td><td>返回给定参数的最小值，参数可以为序列。</td></tr>\n",
    "<tr><td><a target=\"_blank\" href=\"/python/func-number-modf.html\">modf(x) </a></td><td>返回x的整数部分与小数部分，两部分的数值符号与x相同，整数部分以浮点型表示。</td></tr>\n",
    "<tr><td><a target=\"_blank\" href=\"/python/func-number-pow.html\">pow(x, y)</a></td><td> x**y 运算后的值。</td></tr>\n",
    "<tr><td><a target=\"_blank\" href=\"/python/func-number-round.html\">round(x [,n])</a></td><td>返回浮点数x的四舍五入值，如给出n值，则代表舍入到小数点后的位数。</td></tr>\n",
    "<tr><td><a target=\"_blank\" href=\"/python/func-number-sqrt.html\">sqrt(x) </a></td><td>返回数字x的平方根</td></tr>\n",
    "</tbody></table>\n"
   ]
  },
  {
   "cell_type": "code",
   "execution_count": 7,
   "metadata": {},
   "outputs": [
    {
     "data": {
      "text/plain": [
       "5"
      ]
     },
     "execution_count": 7,
     "metadata": {},
     "output_type": "execute_result"
    }
   ],
   "source": [
    "abs(-5)"
   ]
  },
  {
   "cell_type": "code",
   "execution_count": 8,
   "metadata": {},
   "outputs": [
    {
     "data": {
      "text/plain": [
       "243"
      ]
     },
     "execution_count": 8,
     "metadata": {},
     "output_type": "execute_result"
    }
   ],
   "source": [
    "pow(3,5)"
   ]
  },
  {
   "cell_type": "code",
   "execution_count": 9,
   "metadata": {},
   "outputs": [
    {
     "data": {
      "text/plain": [
       "1.67"
      ]
     },
     "execution_count": 9,
     "metadata": {},
     "output_type": "execute_result"
    }
   ],
   "source": [
    "round(5 / 3, 2 )"
   ]
  },
  {
   "cell_type": "code",
   "execution_count": 10,
   "metadata": {},
   "outputs": [
    {
     "data": {
      "text/plain": [
       "4"
      ]
     },
     "execution_count": 10,
     "metadata": {},
     "output_type": "execute_result"
    }
   ],
   "source": [
    "max(2,1,4)"
   ]
  },
  {
   "cell_type": "code",
   "execution_count": 11,
   "metadata": {},
   "outputs": [
    {
     "data": {
      "text/plain": [
       "1"
      ]
     },
     "execution_count": 11,
     "metadata": {},
     "output_type": "execute_result"
    }
   ],
   "source": [
    "min(2,1,4)"
   ]
  },
  {
   "cell_type": "code",
   "execution_count": 12,
   "metadata": {},
   "outputs": [
    {
     "data": {
      "text/plain": [
       "(2, 1)"
      ]
     },
     "execution_count": 12,
     "metadata": {},
     "output_type": "execute_result"
    }
   ],
   "source": [
    "divmod(5,2)"
   ]
  },
  {
   "cell_type": "markdown",
   "metadata": {},
   "source": [
    "数字类型的转换：int(),float()函数可以实现整数和浮点数之间的转换  \n",
    "强制类型转换  \n",
    "int('123') -> 123  \n",
    "str(123) -> '123'  \n",
    "float('123') -> 123.0  \n",
    "float(123) -> 123.0  \n",
    "bool(123) -> True  \n",
    "bool(0) -> False  \n",
    "<h2>Python Number 类型转换</h2>\n",
    "<pre>\n",
    "int(x [,base ])         将x转换为一个整数  \n",
    "long(x [,base ])        将x转换为一个长整数  \n",
    "float(x )               将x转换到一个浮点数  \n",
    "complex(real [,imag ])  创建一个复数  \n",
    "str(x )                 将对象 x 转换为字符串  \n",
    "repr(x )                将对象 x 转换为表达式字符串  \n",
    "eval(str )              用来计算在字符串中的有效Python表达式,并返回一个对象  \n",
    "tuple(s )               将序列 s 转换为一个元组  \n",
    "list(s )                将序列 s 转换为一个列表  \n",
    "chr(x )                 将一个整数转换为一个字符  \n",
    "unichr(x )              将一个整数转换为Unicode字符  \n",
    "ord(x )                 将一个字符转换为它的整数值  \n",
    "hex(x )                 将一个整数转换为一个十六进制字符串  \n",
    "oct(x )                 将一个整数转换为一个八进制字符串  \n",
    "</pre>\n"
   ]
  },
  {
   "cell_type": "code",
   "execution_count": 13,
   "metadata": {},
   "outputs": [
    {
     "data": {
      "text/plain": [
       "3"
      ]
     },
     "execution_count": 13,
     "metadata": {},
     "output_type": "execute_result"
    }
   ],
   "source": [
    "int(3.1415)"
   ]
  },
  {
   "cell_type": "code",
   "execution_count": 14,
   "metadata": {},
   "outputs": [
    {
     "data": {
      "text/plain": [
       "5.0"
      ]
     },
     "execution_count": 14,
     "metadata": {},
     "output_type": "execute_result"
    }
   ],
   "source": [
    "float(5)"
   ]
  },
  {
   "cell_type": "markdown",
   "metadata": {},
   "source": [
    "## math库的使用\n",
    "- math库是Python提供的内置数学类函数库  \n",
    "- math库不支持复数类型  \n",
    "- math库一共提供了4个数学常数和44个函数  \n",
    "两种引入方式"
   ]
  },
  {
   "cell_type": "code",
   "execution_count": 15,
   "metadata": {},
   "outputs": [
    {
     "data": {
      "text/plain": [
       "11"
      ]
     },
     "execution_count": 15,
     "metadata": {},
     "output_type": "execute_result"
    }
   ],
   "source": [
    "#第一种方式\n",
    "import math\n",
    "math.ceil(10.2)"
   ]
  },
  {
   "cell_type": "code",
   "execution_count": 5,
   "metadata": {},
   "outputs": [
    {
     "data": {
      "text/plain": [
       "10"
      ]
     },
     "execution_count": 5,
     "metadata": {},
     "output_type": "execute_result"
    }
   ],
   "source": [
    "#第二种方式\n",
    "from math import floor\n",
    "floor(10.25)"
   ]
  },
  {
   "cell_type": "markdown",
   "metadata": {},
   "source": [
    "math库中的四个数学常数\n",
    "- math.pi：圆周率，值为3.141592653589793  \n",
    "- math.e：自然对数，值为2.718281828459045  \n",
    "- math.inf：正无穷大，负无穷大为-math.inf    \n",
    "- math.nan：Not a Number，非正常值"
   ]
  },
  {
   "cell_type": "code",
   "execution_count": 17,
   "metadata": {},
   "outputs": [
    {
     "data": {
      "text/plain": [
       "3.141592653589793"
      ]
     },
     "execution_count": 17,
     "metadata": {},
     "output_type": "execute_result"
    }
   ],
   "source": [
    "import math\n",
    "math.pi"
   ]
  },
  {
   "cell_type": "code",
   "execution_count": 18,
   "metadata": {},
   "outputs": [
    {
     "data": {
      "text/plain": [
       "2.718281828459045"
      ]
     },
     "execution_count": 18,
     "metadata": {},
     "output_type": "execute_result"
    }
   ],
   "source": [
    "math.e"
   ]
  },
  {
   "cell_type": "code",
   "execution_count": 19,
   "metadata": {},
   "outputs": [
    {
     "data": {
      "text/plain": [
       "inf"
      ]
     },
     "execution_count": 19,
     "metadata": {},
     "output_type": "execute_result"
    }
   ],
   "source": [
    "math.inf"
   ]
  },
  {
   "cell_type": "code",
   "execution_count": 20,
   "metadata": {},
   "outputs": [
    {
     "data": {
      "text/plain": [
       "nan"
      ]
     },
     "execution_count": 20,
     "metadata": {},
     "output_type": "execute_result"
    }
   ],
   "source": [
    "math.nan"
   ]
  },
  {
   "cell_type": "markdown",
   "metadata": {},
   "source": [
    "math库中包含的函数主要有：数值表示函数、幂对数函数、三角双曲函数、高等特殊函数。"
   ]
  },
  {
   "cell_type": "markdown",
   "metadata": {},
   "source": [
    "## 实例3: 天天向上的力量\n",
    "一年365天，以第1天的能力值为基数，记为1.0，当好好学习时能力值相比前一天提高1‰，当没有学习时由于遗忘等原因能力值相比前一天下降1‰。每天努力和每天放任，一年下来的能力值相差多少呢？"
   ]
  },
  {
   "cell_type": "code",
   "execution_count": 1,
   "metadata": {
    "collapsed": true
   },
   "outputs": [],
   "source": [
    "#天天向上-1\n"
   ]
  },
  {
   "cell_type": "markdown",
   "metadata": {},
   "source": [
    "> 修改代码中的参数，如果每天努力和放任的比例改为5‰呢？改成1%呢？"
   ]
  },
  {
   "cell_type": "code",
   "execution_count": 2,
   "metadata": {
    "collapsed": true
   },
   "outputs": [],
   "source": [
    "#天天向上-2\n"
   ]
  },
  {
   "cell_type": "markdown",
   "metadata": {},
   "source": [
    "继续思考：一年365天，一周5个工作日，如果每个工作日都很努力，可以提高1%，仅在周末放任一下，能力值每天下降1%，效果如何呢？ "
   ]
  },
  {
   "cell_type": "code",
   "execution_count": 3,
   "metadata": {
    "code_folding": [],
    "collapsed": true
   },
   "outputs": [],
   "source": [
    "#天天向上-3\n"
   ]
  },
  {
   "cell_type": "markdown",
   "metadata": {},
   "source": [
    "再来：每周工作5天，休息2天，休息日水平下降0.01，工作日要努力到什么程度一年后的水平才与每天努力1%所取得的效果一样呢？"
   ]
  },
  {
   "cell_type": "code",
   "execution_count": 4,
   "metadata": {
    "code_folding": [],
    "collapsed": true
   },
   "outputs": [],
   "source": [
    "#天天向上-4\n"
   ]
  },
  {
   "cell_type": "markdown",
   "metadata": {},
   "source": [
    "### 思考与练习\n",
    "教材P77页：3.12-3.15"
   ]
  },
  {
   "cell_type": "markdown",
   "metadata": {},
   "source": [
    "## 字符串类型及其操作\n",
    "- 字符串是用双引号\"\"或者单引号''括起来的一个或多个字符  \n",
    "- 字符串可以保存在变量中，也可以单独存在  \n",
    "- 可以用type()函数测试一个字符串的类型  \n",
    "- Python语言转义符： \\  "
   ]
  },
  {
   "cell_type": "markdown",
   "metadata": {},
   "source": [
    "### 字符串类型"
   ]
  },
  {
   "cell_type": "code",
   "execution_count": 4,
   "metadata": {},
   "outputs": [
    {
     "name": "stdout",
     "output_type": "stream",
     "text": [
      "He said:\"hello!\"\n",
      "He said:'hello!'\n",
      "我们的口号是：\n",
      "\"没有蛀牙\"\n",
      "\n"
     ]
    }
   ],
   "source": [
    "#字符串定义\n",
    "s = \"Hello,world\"\n",
    "s1 = \"He said:\\\"hello!\\\"\"\n",
    "print(s1)\n",
    "s2 = \"He said:'hello!'\"\n",
    "print(s2)\n",
    "s3 = \"\"\"我们的口号是：\n",
    "\"没有蛀牙\"\n",
    "\"\"\"\n",
    "print(s3)"
   ]
  },
  {
   "cell_type": "markdown",
   "metadata": {},
   "source": [
    "#### 字符串索引\n",
    "![](attach/stringindex.png)\n",
    "\n",
    "<h2>Python字符串运算符</h2>\n",
    "<p>下表实例变量 a 值为字符串 \"Hello\"，b 变量值为 \"Python\"：</p>\n",
    "<table class=\"reference\">\n",
    "<tbody><tr>\n",
    "<th width=\"10%\">操作符</th><th width=\"60%\">描述</th><th>实例</th>\n",
    "</tr>\n",
    "<tr>\n",
    "<td>+</td><td>字符串连接</td><td>\n",
    "<div class=\"hl-main\"><span class=\"hl-code\">&gt;&gt;&gt;</span><span class=\"hl-identifier\">a</span><span class=\"hl-code\"> + </span><span class=\"hl-identifier\">b</span><span class=\"hl-code\">\n",
    "</span><span class=\"hl-quotes\">'</span><span class=\"hl-string\">HelloPython</span><span class=\"hl-quotes\">'</span></div> \n",
    "</td>\n",
    "</tr>\n",
    "<tr>\n",
    "<td>\\*</td><td>重复输出字符串</td><td>\n",
    "<div class=\"hl-main\"><span class=\"hl-code\">&gt;&gt;&gt;</span><span class=\"hl-identifier\">a</span><span class=\"hl-code\"> * </span><span class=\"hl-number\">2</span><span class=\"hl-code\">\n",
    "</span><span class=\"hl-quotes\">'</span><span class=\"hl-string\">HelloHello</span><span class=\"hl-quotes\">'</span></div> \n",
    "</td>\n",
    "</tr>\n",
    "<tr>\n",
    "<td>[]</td><td>通过索引获取字符串中字符</td><td>\n",
    "<div class=\"hl-main\"><span class=\"hl-code\">&gt;&gt;&gt;</span><span class=\"hl-identifier\">a</span><span class=\"hl-brackets\">[</span><span class=\"hl-number\">1</span><span class=\"hl-brackets\">]</span><span class=\"hl-code\">\n",
    "</span><span class=\"hl-quotes\">'</span><span class=\"hl-string\">e</span><span class=\"hl-quotes\">'</span></div> \n",
    "</td>\n",
    "</tr>\n",
    "<tr>\n",
    "<td>[ : ]</td><td>截取字符串中的一部分</td><td>\n",
    "<div class=\"hl-main\"><span class=\"hl-code\">&gt;&gt;&gt;</span><span class=\"hl-identifier\">a</span><span class=\"hl-brackets\">[</span><span class=\"hl-number\">1</span><span class=\"hl-code\">:</span><span class=\"hl-number\">4</span><span class=\"hl-brackets\">]</span><span class=\"hl-code\">\n",
    "</span><span class=\"hl-quotes\">'</span><span class=\"hl-string\">ell</span><span class=\"hl-quotes\">'</span></div> \n",
    "</td>\n",
    "</tr>\n",
    "<tr>\n",
    "<td>in</td><td>成员运算符 - 如果字符串中包含给定的字符返回 True </td><td> \n",
    "<div class=\"hl-main\"><span class=\"hl-code\">&gt;&gt;&gt;</span><span class=\"hl-quotes\">&quot;</span><span class=\"hl-string\">H</span><span class=\"hl-quotes\">&quot;</span><span class=\"hl-code\"> </span><span class=\"hl-reserved\">in</span><span class=\"hl-code\"> </span><span class=\"hl-identifier\">a</span><span class=\"hl-code\">\n",
    "</span><span class=\"hl-reserved\">True</span></div> \n",
    "</td>\n",
    "</tr>\n",
    "<tr>\n",
    "<td>not in </td><td>成员运算符 - 如果字符串中不包含给定的字符返回 True </td><td> \n",
    "<div class=\"hl-main\"><span class=\"hl-code\">&gt;&gt;&gt;</span><span class=\"hl-quotes\">&quot;</span><span class=\"hl-string\">M</span><span class=\"hl-quotes\">&quot;</span><span class=\"hl-code\"> </span><span class=\"hl-reserved\">not</span><span class=\"hl-code\"> </span><span class=\"hl-reserved\">in</span><span class=\"hl-code\"> </span><span class=\"hl-identifier\">a</span><span class=\"hl-code\">\n",
    "</span><span class=\"hl-reserved\">True</span></div> \n",
    "</td>\n",
    "</tr>\n",
    "<tr>\n",
    "<td>r/R</td><td>原始字符串 - 原始字符串：所有的字符串都是直接按照字面的意思来使用，没有转义特殊或不能打印的字符。\n",
    "\n",
    "原始字符串除在字符串的第一个引号前加上字母\"r\"（可以大小写）以外，与普通字符串有着几乎完全相同的语法。</td><td> <div class=\"hl-main\"><span class=\"hl-code\">&gt;&gt;&gt;</span><span class=\"hl-reserved\">print(</span><span class=\"hl-code\"> </span><span class=\"hl-identifier\">r</span><span class=\"hl-quotes\">'</span><span class=\"hl-special\">\\n</span><span class=\"hl-quotes\">')</span><span class=\"hl-code\">\n",
    "\\</span><span class=\"hl-identifier\">n</span><span class=\"hl-code\">\n",
    "&gt;&gt;&gt; </span><span class=\"hl-reserved\">print(</span><span class=\"hl-code\"> </span><span class=\"hl-identifier\">R</span><span class=\"hl-quotes\">'</span><span class=\"hl-special\">\\n</span><span class=\"hl-quotes\">')</span><span class=\"hl-code\">\n",
    "\\</span><span class=\"hl-identifier\">n</span></div> </td>\n",
    "</tr>\n",
    "\n",
    "</tbody></table>\n"
   ]
  },
  {
   "cell_type": "code",
   "execution_count": 1,
   "metadata": {},
   "outputs": [
    {
     "name": "stdout",
     "output_type": "stream",
     "text": [
      "l\n",
      "llo\n",
      "j\n",
      "\\n\n"
     ]
    }
   ],
   "source": [
    "#字符串索引\n",
    "greet = \"Hello,john\"\n",
    "print(greet[2])\n",
    "print(greet[2:5])\n",
    "print(greet[-4])\n",
    "print(r\"\\n\")"
   ]
  },
  {
   "cell_type": "code",
   "execution_count": 10,
   "metadata": {},
   "outputs": [
    {
     "name": "stdout",
     "output_type": "stream",
     "text": [
      "helloworld\n",
      "helloworldhelloworldhelloworld\n",
      "10\n"
     ]
    }
   ],
   "source": [
    "#字符串连接\n",
    "s = \"hello\" + \"world\"\n",
    "print(s)\n",
    "print(s * 3)\n",
    "print(len(s))"
   ]
  },
  {
   "cell_type": "code",
   "execution_count": 11,
   "metadata": {},
   "outputs": [
    {
     "name": "stdout",
     "output_type": "stream",
     "text": [
      "123123123\n"
     ]
    }
   ],
   "source": [
    "#字符串类型转换\n",
    "d = 123\n",
    "s = str(d)\n",
    "print (s * 3)"
   ]
  },
  {
   "cell_type": "markdown",
   "metadata": {},
   "source": [
    "### 微实例3.1 获取星期字符串  \n",
    "小技巧：eval(str)函数很强大，官方解释为：将字符串str当成有效的表达式来求值并返回计算结果。所以，结合math当成一个计算器很好用。\n"
   ]
  },
  {
   "cell_type": "code",
   "execution_count": 5,
   "metadata": {
    "collapsed": true
   },
   "outputs": [],
   "source": [
    "#获取星期字符串，P80\n"
   ]
  },
  {
   "cell_type": "markdown",
   "metadata": {},
   "source": [
    "### 内置字符串处理函数"
   ]
  },
  {
   "cell_type": "code",
   "execution_count": 25,
   "metadata": {},
   "outputs": [
    {
     "name": "stdout",
     "output_type": "stream",
     "text": [
      "[72, 101, 108, 108, 111]\n",
      "['H', 'e', 'l', 'l', 'o']\n",
      "HELLO\n",
      "hello\n",
      "HeLLo\n"
     ]
    }
   ],
   "source": [
    "s = \"Hello\"\n",
    "ords = [ord(i) for i in s]\n",
    "print(ords)\n",
    "chrs = [chr(i) for i in ords]\n",
    "print(chrs)\n",
    "print(s.upper())\n",
    "print(s.lower())\n",
    "print(s.replace('l','L'))"
   ]
  },
  {
   "cell_type": "markdown",
   "metadata": {},
   "source": [
    "### 微实例3.2 凯撒密码\n",
    "凯撒密码是古罗马凯撒大帝用来对军事情报进行加密的算法，它采用了替换方法对信息中的每一个英文字符循环替换为字母表序列该字符后面第三个字符，对应关系如下：  \n",
    "原文：A B C D E F G H I J K L M N O P Q R S T U V W X Y Z  \n",
    "密文：D E F G H I J K L M N O P Q R S T U V W X Y Z A B C  \n",
    "原文字符P，其密文字符C满足如下条件：  \n",
    "C = ( P + 3 ) mod 26  \n",
    "解密方法反之，满足：  \n",
    "P = ( C – 3 ) mod 26  \n",
    "假设只使用小写字母"
   ]
  },
  {
   "cell_type": "code",
   "execution_count": 7,
   "metadata": {
    "collapsed": true
   },
   "outputs": [],
   "source": [
    "#凯撒密码-加密，P83\n"
   ]
  },
  {
   "cell_type": "code",
   "execution_count": 8,
   "metadata": {
    "collapsed": true
   },
   "outputs": [],
   "source": [
    "#凯撒密码-解密，+3变为-3\n"
   ]
  },
  {
   "cell_type": "markdown",
   "metadata": {},
   "source": [
    "## 字符串类型的格式化\n",
    "### format()方法的基本使用\n",
    "字符串format()方法的基本使用格式是：  \n",
    "<模板字符串>.format(<逗号分隔的参数>)  "
   ]
  },
  {
   "cell_type": "code",
   "execution_count": 28,
   "metadata": {},
   "outputs": [
    {
     "name": "stdout",
     "output_type": "stream",
     "text": [
      "2017-07-03：计算机PYTHON的CPU占有率为10%\n"
     ]
    }
   ],
   "source": [
    "s = \"{}：计算机{}的CPU占有率为{}%\".format(\"2017-07-03\",'PYTHON',10)\n",
    "print(s)"
   ]
  },
  {
   "cell_type": "markdown",
   "metadata": {},
   "source": [
    "### format()方法的格式控制\n",
    "format()方法中模板字符串的槽除了包括参数序号，还可以包括格式控制信息。此时，槽的内部样式如下：{<参数序号>: <格式控制标记>}    \n",
    "  \n",
    "其中，格式控制标记用来控制参数显示时的格式 。格式控制标记包括：<填充><对齐><宽度>,<.精度><类型>6个字段，这些字段都是可选的，可以组合使用，这里按照使用方式逐一介绍。  "
   ]
  },
  {
   "cell_type": "code",
   "execution_count": 33,
   "metadata": {},
   "outputs": [
    {
     "name": "stdout",
     "output_type": "stream",
     "text": [
      "123.46\n",
      "x=123.46,y=98.765\n",
      "                        Python\n"
     ]
    }
   ],
   "source": [
    "print(\"{:.2f}\".format(123.456789))\n",
    "print(\"x={0:.2f},y={1:.3f}\".format(123.456789,98.7654321))\n",
    "print(\"{0:>30}\".format(\"Python\"))"
   ]
  },
  {
   "cell_type": "markdown",
   "metadata": {},
   "source": [
    "## 实例4： 文本进度条\n",
    "基本思想是按照任务执行百分比将整个任务划分为100个单位，每执行N%输出一次进度条。每一行输出包含进度百分比，代表已完成的部分(\\*\\*)和未完成的部分(..)的两种字符，以及一个跟随完成度前进的小箭头，风格如下：  \n",
    "%10 [*****->.............................................]"
   ]
  },
  {
   "cell_type": "code",
   "execution_count": 9,
   "metadata": {
    "collapsed": true
   },
   "outputs": [],
   "source": [
    "#文本进度条-1，P89\n"
   ]
  },
  {
   "cell_type": "code",
   "execution_count": 11,
   "metadata": {
    "collapsed": true
   },
   "outputs": [],
   "source": [
    "#示例单行动态刷新，P90\n"
   ]
  },
  {
   "cell_type": "code",
   "execution_count": 10,
   "metadata": {
    "collapsed": true
   },
   "outputs": [],
   "source": [
    "#文本进度条-2，P91\n"
   ]
  },
  {
   "cell_type": "markdown",
   "metadata": {
    "collapsed": true
   },
   "source": [
    "## 程序练习题"
   ]
  },
  {
   "cell_type": "code",
   "execution_count": 1,
   "metadata": {
    "collapsed": true
   },
   "outputs": [],
   "source": [
    "#输出9*9乘法表"
   ]
  },
  {
   "cell_type": "markdown",
   "metadata": {},
   "source": [
    "“Pig Latin”是一个英语儿童文字改写游戏，整个游戏遵从下述规则：  \n",
    "\n",
    "(1). 元音字母是‘a’、‘e’、‘i’、‘o’、‘u’。字母‘y’在不是第一个字母的情况下，也被视作元音字母。其他字母均为辅音字母。例如，单词“yearly”有三个元音字母（分别为‘e’、‘a’和最后一个‘y’）和三个辅音字母（第一个‘y’、‘r’和‘l’）。  \n",
    "\n",
    "(2). 如果英文单词以元音字母开始，则在单词末尾加入“hay”后得到“Pig Latin”对应单词。例如，“ask”变为“askhay”，“use”变为“usehay”。  \n",
    "\n",
    "(3). 如果英文单词以‘q’字母开始，并且后面有个字母‘u’，将“qu”移动到单词末尾加入“ay”后得到“Pig Latin”对应单词。例如，“quiet”变为“ietquay”，“quay”变为“ayquay”。  \n",
    "\n",
    "(4). 如果英文单词以辅音字母开始，所有连续的辅音字母一起移动到单词末尾加入“ay”后得到“Pig Latin”对应单词。例如，“tomato”变为“omatotay”， “school” 变为“oolschay”，“you” 变为“ouyay”，“my” 变为“ymay ”，“ssssh” 变为“sssshay”。  \n",
    "\n",
    "(5). 如果英文单词中有大写字母，必须所有字母均转换为小写。   \n",
    "输入格式:  \n",
    "一系列单词，单词之间使用空格分隔。  \n",
    "\n",
    "输出格式：  \n",
    "按照以上规则转化每个单词，单词之间使用空格分隔。  \n",
    "\n",
    "输入样例：  \n",
    "Welcome to the Python world Are you ready  \n",
    "\n",
    "输出样例：  \n",
    "elcomeway otay ethay ythonpay orldway arehay ouyay eadyray"
   ]
  },
  {
   "cell_type": "markdown",
   "metadata": {},
   "source": [
    "题目内容：  \n",
    "依次判断一系列给定的字符串是否为合法的 python 标识符。  \n",
    "输入格式:  \n",
    "一系列字符串，每个字符串占一行。  \n",
    "输出格式：  \n",
    "判断每行字符串是否为合法的 Python 标示符，如果合法则输出 True，否则输出 False。  \n",
    "输入样例：  \n",
    "abc  \n",
    "_def  \n",
    "21gh  \n",
    "输出样例：  \n",
    "True  \n",
    "True  \n",
    "False  "
   ]
  },
  {
   "cell_type": "markdown",
   "metadata": {},
   "source": [
    "标识符(Identifier)  \n",
    "•\t标识符  \n",
    "  o\t变量，函数，模块等的名字  \n",
    "•\t命名规则  \n",
    "  o\t可以任意长    \n",
    "  o\t包含数字和字母、下划线  \n",
    "  o\t但首个必须是字母或下划线  \n",
    "  o\t大小写敏感  \n",
    "  o\t标识符不能是关键字"
   ]
  }
 ],
 "metadata": {
  "hide_input": false,
  "kernelspec": {
   "display_name": "Python 3",
   "language": "python",
   "name": "python3"
  },
  "language_info": {
   "codemirror_mode": {
    "name": "ipython",
    "version": 3
   },
   "file_extension": ".py",
   "mimetype": "text/x-python",
   "name": "python",
   "nbconvert_exporter": "python",
   "pygments_lexer": "ipython3",
   "version": "3.6.5"
  },
  "toc": {
   "colors": {
    "hover_highlight": "#DAA520",
    "navigate_num": "#000000",
    "navigate_text": "#333333",
    "running_highlight": "#FF0000",
    "selected_highlight": "#FFD700",
    "sidebar_border": "#EEEEEE",
    "wrapper_background": "#FFFFFF"
   },
   "moveMenuLeft": true,
   "nav_menu": {
    "height": "12px",
    "width": "252px"
   },
   "navigate_menu": true,
   "number_sections": false,
   "sideBar": true,
   "threshold": 4,
   "toc_cell": false,
   "toc_section_display": "block",
   "toc_window_display": true,
   "widenNotebook": false
  }
 },
 "nbformat": 4,
 "nbformat_minor": 1
}
