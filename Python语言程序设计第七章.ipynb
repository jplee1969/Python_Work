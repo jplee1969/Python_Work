{
 "cells": [
  {
   "cell_type": "markdown",
   "metadata": {},
   "source": [
    "# 第七章 文件和数据格式化\n",
    "## 文件的使用\n",
    "### 文件概述\n",
    "文件是一个存储在辅助存储器上的数据序列，可以包含任何数据内容。概念上，文件是数据的集合和抽象，类似地，函数是程序的集合和抽象。用文件形式组织和表达数据更有效也更为灵活。文件包括两种类型：文本文件和二进制文件。  \n",
    "二进制文件直接由比特0和比特1组成，没有统一字符编码，文件内部数据的组织格式与文件用途有关。二进制文件和文本文件最主要的区别在于是否有统一的字符编码  \n",
    "无论文件创建为文本文件或者二进制文件，都可以用“文本文件方式”和“二进制文件方式”打开，打开后的操作不同。  \n"
   ]
  },
  {
   "cell_type": "code",
   "execution_count": 3,
   "metadata": {},
   "outputs": [
    {
     "name": "stdout",
     "output_type": "stream",
     "text": [
      "中国是个伟大的国家\n",
      "b'\\xd6\\xd0\\xb9\\xfa\\xca\\xc7\\xb8\\xf6\\xce\\xb0\\xb4\\xf3\\xb5\\xc4\\xb9\\xfa\\xbc\\xd2'\n"
     ]
    }
   ],
   "source": [
    "#理解文本文件和二进制文件的区别\n",
    "textFile = open(\"f:/Code/Python/PythonCourse/7-1.txt\",\"rt\") #t表示文本文件方式\n",
    "print(textFile.readline())\n",
    "textFile.close()\n",
    "binFile = open(\"f:/Code/Python/PythonCourse/7-1.txt\",\"rb\")   #r表示二进制文件方式\n",
    "print(binFile.readline())\n",
    "binFile.close()\n"
   ]
  },
  {
   "cell_type": "markdown",
   "metadata": {},
   "source": [
    "采用文本方式读入文件，文件经过编码形成字符串，打印出有含义的字符；采用二进制方式打开文件，文件被解析为字节（byte）流。由于存在编码，字符串中的一个字符由2个字节表示。  \n",
    "### 文件的打开关闭\n",
    "Python对文本文件和二进制文件采用统一的操作步骤，即“打开-操作-关闭”  \n",
    "Python通过解释器内置的open()函数打开一个文件，并实现该文件与一个程序变量的关联，open()函数格式如下：  \n",
    "```\n",
    "<变量名> = open(<文件名>, <打开模式>)  \n",
    "```\n",
    "open()函数有两个参数：文件名和打开模式。文件名可以是文件的实际名字，也可以是包含完整路径的名字 \n",
    "open()函数有7中基本的打开模式"
   ]
  },
  {
   "cell_type": "markdown",
   "metadata": {},
   "source": [
    "### 文件的读写\n",
    "根据打开方式不同可以对文件进行相应的读写操作，Python提供4个常用的文件内容读取方法   \n"
   ]
  },
  {
   "cell_type": "code",
   "execution_count": 4,
   "metadata": {},
   "outputs": [
    {
     "name": "stdout",
     "output_type": "stream",
     "text": [
      "请输入要打开的文件: f:/code/Python/PythonCourse/7-2.txt\n",
      "中国是个伟大的国家！\n",
      "\n",
      "中国地大物博\n",
      "\n",
      "中国有五千年的文明\n"
     ]
    }
   ],
   "source": [
    "#文本文件逐行打印\n",
    "fname = input(\"请输入要打开的文件: \")\n",
    "fo = open(fname, \"r\")\n",
    "for line in fo.readlines():\n",
    "    print(line)\n",
    "fo.close()\n"
   ]
  },
  {
   "cell_type": "code",
   "execution_count": 5,
   "metadata": {},
   "outputs": [
    {
     "name": "stdout",
     "output_type": "stream",
     "text": [
      "请输入要打开的文件: f:/code/Python/PythonCourse/7-2.txt\n",
      "中国是个伟大的国家！\n",
      "\n",
      "中国地大物博\n",
      "\n",
      "中国有五千年的文明\n"
     ]
    }
   ],
   "source": [
    "fname = input(\"请输入要打开的文件: \")\n",
    "fo = open(fname, \"r\")\n",
    "for line in fo:\n",
    "    print(line)\n",
    "fo.close()\n"
   ]
  },
  {
   "cell_type": "markdown",
   "metadata": {},
   "source": [
    "如果程序需要逐行处理文件内容，建议采用上述代码格式：  \n",
    "```\n",
    "fo = open(fname, \"r\")\n",
    "for line in fo:\n",
    "    # 处理一行数据\n",
    "fo.close()\n",
    "```\n",
    "Python提供3个与文件内容写入有关的方法  \n"
   ]
  },
  {
   "cell_type": "code",
   "execution_count": 8,
   "metadata": {},
   "outputs": [
    {
     "name": "stdout",
     "output_type": "stream",
     "text": [
      "请输入要写入的文件: f:/code/Python/PythonCourse/test.txt\n",
      "唐诗宋词元曲\n"
     ]
    }
   ],
   "source": [
    "fname = input(\"请输入要写入的文件: \") \n",
    "fo = open(fname, \"w+\")\n",
    "ls = [\"唐诗\", \"宋词\", \"元曲\"]\n",
    "fo.writelines(ls)\n",
    "fo.close()\n",
    "\n",
    "f=open(fname,\"r\")\n",
    "for line in f:\n",
    "    print(line)\n",
    "f.close()\n"
   ]
  },
  {
   "cell_type": "markdown",
   "metadata": {},
   "source": [
    "## PIL库的使用\n",
    "### PIL库概述\n",
    "PIL（Python Image Library）库是Python语言的第三方库，需要通过pip工具安装。  \n",
    "```\n",
    "pip install pillow   # 或者 pip3 install pillow\n",
    "```\n",
    "PIL库支持图像存储、显示和处理，它能够处理几乎所有图片格式，可以完成对图像的缩放、剪裁、叠加以及向图像添加线条、图像和文字等操作。  \n",
    "PIL库可以完成图像归档和图像处理两方面功能需求：  \n",
    "- 图像归档：对图像进行批处理、生成图像预览、图像格式转换等；\n",
    "- 图像处理：图像基本处理、像素处理、颜色处理等。\n"
   ]
  },
  {
   "cell_type": "markdown",
   "metadata": {},
   "source": [
    "### PIL库Image类解析\n",
    "在PIL中，任何一个图像文件都可以用Image对象表示  \n",
    "要加载一个图像文件，最简单的形式如下，之后所有操作对im起作用 \n",
    "```\n",
    "from PIL import Image\n",
    "im = Image.open(\"D:\\\\pycodes\\\\birdnest.jpg\")\n",
    "```\n"
   ]
  },
  {
   "cell_type": "code",
   "execution_count": 5,
   "metadata": {},
   "outputs": [
    {
     "name": "stdout",
     "output_type": "stream",
     "text": [
      "no more images in GIF file\n",
      "处理结束\n"
     ]
    }
   ],
   "source": [
    "#GIF文件图像提取\n",
    "#对一个GIF格式动态文件，提取其中各帧图像，并保存为文件。\n",
    "from PIL import Image\n",
    "im = Image.open('f:/PythonCourse/birdnest.gif')      # 读入一个GIF文件\n",
    "try:\n",
    "    im.save('f:/PythonCourse/picframe{:02d}.png'.format(im.tell()))\n",
    "    while True:\n",
    "        im.seek(im.tell()+1)\n",
    "        im.save('f:/PythonCourse/picframe{:02d}.png'.format(im.tell()))\n",
    "except Exception as e:\n",
    "    print(e)\n",
    "    print(\"处理结束\")\n"
   ]
  },
  {
   "cell_type": "code",
   "execution_count": 8,
   "metadata": {},
   "outputs": [],
   "source": [
    "#图像的颜色交换\n",
    "#交换图像中的颜色。可以通过分离RGB图片的三个颜色通道实现颜色交换\n",
    "from PIL import Image\n",
    "im = Image.open('f:/PythonCourse/birdnest.jpg')\n",
    "r, g, b = im.split()\n",
    "om = Image.merge(\"RGB\", (b, g, r))\n",
    "om.save('f:/PythonCourse/birdnestBGR.jpg')\n"
   ]
  },
  {
   "cell_type": "code",
   "execution_count": 9,
   "metadata": {},
   "outputs": [],
   "source": [
    "#操作图像的每个像素点需要通过函数实现，采用lambda函数和point()方法搭配使用\n",
    "im = Image.open('f:/PythonCourse/birdnest.jpg') #打开鸟巢文件\n",
    "r, g, b = im.split() #获得RGB通道数据\n",
    "newg = g.point(lambda i: i * 0.9) # 将G通道颜色值变为原来的0.9倍\n",
    "newb = b.point(lambda i: i < 100) # 选择B通道值低于100的像素点\n",
    "om = Image.merge(im.mode, (r, newg, newb)) # 将3个通道合形成新图像\n",
    "om.save('f:/PythonCourse/birdnestMerge.jpg') #输出图片\n"
   ]
  },
  {
   "cell_type": "markdown",
   "metadata": {},
   "source": [
    "### 图像的过滤和增强\n",
    "PIL库的ImageFilter类和ImageEnhance类提供了过滤图像和增强图像的方法，共10种  \n",
    "利用Image类的filter()方法可以使用ImageFilter类，如下：   \n",
    "Image.filter(ImageFilter.fuction)  \n"
   ]
  },
  {
   "cell_type": "code",
   "execution_count": 10,
   "metadata": {},
   "outputs": [],
   "source": [
    "#图像的轮廓获取\n",
    "from PIL import Image\n",
    "from PIL import ImageFilter\n",
    "im = Image.open('f:/PythonCourse/birdnest.jpg')\n",
    "om = im.filter(ImageFilter.CONTOUR)\n",
    "om.save('f:/PythonCourse/birdnestContour.jpg')\n"
   ]
  },
  {
   "cell_type": "markdown",
   "metadata": {},
   "source": [
    "ImageEnhance类提供了更高级的图像增强需求，它提供调整色彩度、亮度、对比度、锐化等功能。  \n"
   ]
  },
  {
   "cell_type": "code",
   "execution_count": 11,
   "metadata": {},
   "outputs": [],
   "source": [
    "#图像的对比度增强。\n",
    "#增强图像的对比度为初始的20倍。\n",
    "from PIL import Image\n",
    "from PIL import ImageEnhance\n",
    "im = Image.open('f:/PythonCourse/birdnest.jpg')\n",
    "om = ImageEnhance.Contrast(im)\n",
    "om.enhance(20).save('f:/PythonCourse/birdnestEnContrast.jpg')\n"
   ]
  },
  {
   "cell_type": "markdown",
   "metadata": {},
   "source": [
    "## 图像字符画绘制\n",
    "位图图片是由不同颜色像素点组成的规则分布，如果采用字符串代替像素，图像就成为了字符画。  \n",
    "定义一个字符集，将这个字符集替代图像中的像素点。  \n",
    "```\n",
    "ascii_char =list(\"$@B%8&WM#*oahkbdpqwmZO0QLCJUYXzcvunxrjf1234568795t/\\|()1{}[]?-_+~<>i!;:,\\\"^`'.\")\n",
    "```\n",
    "定义彩色向灰度的转换公式如下，其中R、G、B分别是像素点的RGB颜色值：   \n",
    "Gray = R * 0.2126 + G * 0.7152 + B * 0.0722  \n",
    "因此，像素的RGB颜色值与字符集的对应函数如下：  \n"
   ]
  },
  {
   "cell_type": "code",
   "execution_count": 15,
   "metadata": {
    "collapsed": true
   },
   "outputs": [],
   "source": [
    "def get_char(r, b, g, alpha=256):\n",
    "    if alpha == 0:\n",
    "        return ' '\n",
    "    gray = int(0.2126 * r + 0.7152 * g + 0.0722 * b)\n",
    "    unit = 256 / len(ascii_char)\n",
    "    return ascii_char[gray//unit]\n"
   ]
  },
  {
   "cell_type": "code",
   "execution_count": 12,
   "metadata": {},
   "outputs": [],
   "source": [
    "from PIL import Image\n",
    "ascii_char  = list('\"$%_&WM#*oahkbdpqwmZO0QLCJUYXzcvunxrjft/\\|()1{}[]?-/+@<>i!;:,\\^`.')\n",
    "def get_char(r, b, g, alpha=256):\n",
    "    if alpha == 0:\n",
    "        return ' '\n",
    "    gray = int(0.2126 * r + 0.7152 * g + 0.0722 * b)\n",
    "    unit = 256 / len(ascii_char)\n",
    "    return ascii_char[int(gray//unit)]\n",
    "def main():\n",
    "    im = Image.open('f:/PythonCourse/birdnest.jpg')\n",
    "    WIDTH, HEIGHT = 100, 60\n",
    "    im = im.resize((WIDTH, HEIGHT))\n",
    "    txt = \"\"\n",
    "    for i in range(HEIGHT):\n",
    "        for j in range(WIDTH):\n",
    "            txt += get_char(*im.getpixel((j, i)))\n",
    "        txt += '\\n'\n",
    "    fo = open(\"f:/PythonCourse/pic_char.txt\",\"w\")\n",
    "    fo.write(txt)\n",
    "    fo.close()\n",
    "main()\n"
   ]
  },
  {
   "cell_type": "markdown",
   "metadata": {},
   "source": [
    "## 一二维数据格式化和处理\n",
    "### 数据组织的维度\n",
    "一维数据由对等关系的有序或无序数据构成，采用线性方式组织，对应于数学中的数组和集合等概念。  \n",
    "二维数据，也称表格数据，由关联关系数据构成，采用表格方式组织，对应于数学中的矩阵，常见的表格都属于二维数据。  \n",
    "高维数据由键值对类型的数据构成，采用对象方式组织，属于整合度更好的数据组织方式。高维数据在网络系统中十分常用，HTML、XML、JSON等都是高维数据组织的语法结构  \n",
    "\n",
    "### 一二维数据的存储格式\n",
    "一维数据是最简单的数据组织类型，有多种存储格式，常用特殊字符分隔：  \n",
    "（1）用一个或多个空格分隔，例如：  \n",
    "中国  美国  日本  德国  法国  英国  意大利  \n",
    "（2）用逗号分隔，例如：  \n",
    "中国,美国,日本,德国,法国,英国,意大利  \n",
    "（3）用其他符号或符号组合分隔，建议采用不出现在数据中的特殊符号  \n",
    "中国; 美国; 日本; 德国; 法国; 英国; 意大利  \n",
    "\n",
    "逗号分割数值的存储格式叫做CSV格式（Comma-Separated Values，即逗号分隔值），它是一种通用的、相对简单的文件格式，在商业和科学上广泛应用，尤其应用在程序之间转移表格数据。  \n",
    "（1）纯文本格式，通过单一编码表示字符；  \n",
    "（2）以行为单位，开头不留空行，行之间没有空行；  \n",
    "（3）每行表示一个一维数据，多行表示二维数据；  \n",
    "（4）以逗号分隔每列数据，列数据为空也要保留逗号；  \n",
    "（5）可以包含或不包含列名，包含时列名放置在文件第一行。  \n",
    "\n",
    "二维数据采用CSV存储后的内容如下： \n",
    "城市,环比,同比,定基  \n",
    "北京,101.5,120.7,121.4  \n",
    "上海,101.2,127.3,127.8  \n",
    "广州,101.3,119.4,120  \n",
    "深圳,102,140.9,145.5  \n",
    "沈阳,100.1,101.4,101.6  \n",
    "CSV格式存储的文件一般采用.csv为扩展名，可以通过Windows平台上的记事本或微软Office Excel工具打开，也可以在其他操作系统平台上用文本编辑工具打开。  \n",
    "\n",
    "### 一二维数据的表示和读写\n",
    "CSV文件的每一行是一维数据，可以使用Python中的列表类型表示，整个CSV文件是一个二维数据，由表示每一行的列表类型作为元素，组成一个二维列表。  \n",
    "```\n",
    "[ \t\n",
    "['城市', '环比', '同比', '定基'], \n",
    "['北京', '101.5', '120.7', '121.4'], \n",
    "['上海', '101.2', '127.3', '127.8'], \n",
    "['广州', '101.3', '119.4', '120.0'], \n",
    "['深圳', '102.0', '140.9', '145.5'],\n",
    "['沈阳', '100.1', '101.4', '101.6'] \n",
    "]\n",
    "```\n"
   ]
  },
  {
   "cell_type": "code",
   "execution_count": 16,
   "metadata": {},
   "outputs": [],
   "source": [
    "l = [\n",
    "['城市', '环比', '同比', '定基'], \n",
    "['北京', '101.5', '120.7', '121.4'], \n",
    "['上海', '101.2', '127.3', '127.8'], \n",
    "['广州', '101.3', '119.4', '120.0'], \n",
    "['深圳', '102.0', '140.9', '145.5'],\n",
    "['沈阳', '100.1', '101.4', '101.6'] \n",
    "]\n",
    "f = open(\"f:/PythonCourse/price2016.csv\",\"w\")\n",
    "for ll in l:\n",
    "    f.write(\",\".join(ll)+ \"\\n\")\n",
    "f.close()"
   ]
  },
  {
   "cell_type": "code",
   "execution_count": 18,
   "metadata": {},
   "outputs": [
    {
     "name": "stdout",
     "output_type": "stream",
     "text": [
      "[['城市', '环比', '同比', '定基'], ['北京', '101.5', '120.7', '121.4'], ['上海', '101.2', '127.3', '127.8'], ['广州', '101.3', '119.4', '120.0'], ['深圳', '102.0', '140.9', '145.5'], ['沈阳', '100.1', '101.4', '101.6']]\n"
     ]
    }
   ],
   "source": [
    "#导入CSV格式数据到列表\n",
    "fo = open(\"f:/PythonCourse/price2016.csv\", \"r\")\n",
    "ls = []\n",
    "for line in fo:\n",
    "    line = line.replace(\"\\n\",\"\")\n",
    "    ls.append(line.split(\",\"))\n",
    "print(ls)\n",
    "fo.close()\n"
   ]
  },
  {
   "cell_type": "markdown",
   "metadata": {},
   "source": [
    "需要注意，以split(\",\")方法从CSV文件中获得内容时，每行最后一个元素后面包含了一个换行符（\"\\n\"）。对于数据的表达和使用来说，这个换行符是多余的，可以通过使用字符串的replace()方法将其去掉，如第4行。  \n"
   ]
  },
  {
   "cell_type": "code",
   "execution_count": 20,
   "metadata": {},
   "outputs": [
    {
     "name": "stdout",
     "output_type": "stream",
     "text": [
      "城市\t环比\t同比\t定基\t\n",
      "北京\t101.5\t120.7\t121.4\t\n",
      "上海\t101.2\t127.3\t127.8\t\n",
      "广州\t101.3\t119.4\t120.0\t\n",
      "深圳\t102.0\t140.9\t145.5\t\n",
      "沈阳\t100.1\t101.4\t101.6\t\n"
     ]
    }
   ],
   "source": [
    "#逐行处理CSV格式数据。\n",
    "fo = open(\"f:/PythonCourse/price2016.csv\", \"r\")\n",
    "ls = []\n",
    "for line in fo:\n",
    "    line = line.replace(\"\\n\",\"\")\n",
    "    ls = line.split(\",\")\n",
    "    lns = \"\"\n",
    "    for s in ls:\n",
    "          lns += \"{}\\t\".format(s)\n",
    "    print(lns)\n",
    "fo.close()\n"
   ]
  },
  {
   "cell_type": "code",
   "execution_count": 22,
   "metadata": {
    "collapsed": true
   },
   "outputs": [],
   "source": [
    "#一维数据写入CSV文件\n",
    "fo = open(\"f:/PythonCourse/price2016bj.csv\", \"w\")\n",
    "ls = ['北京', '101.5', '120.7', '121.4']\n",
    "fo.write(\",\".join(ls)+ \"\\n\")\n",
    "fo.close()\n"
   ]
  },
  {
   "cell_type": "markdown",
   "metadata": {},
   "source": [
    "对于列表中存储的二维数据，可以通过循环写入一维数据的方式写入CSV文件，参考代码样式如下：\n",
    "```\n",
    "for row in ls:\n",
    "\n",
    "      <输出文件>.write(\",\".join(row)+\"\\n\")\n",
    "```\n"
   ]
  },
  {
   "cell_type": "code",
   "execution_count": 23,
   "metadata": {},
   "outputs": [
    {
     "name": "stdout",
     "output_type": "stream",
     "text": [
      "['城市', '环比', '同比', '定基']\n",
      "['北京', '1.0%', '1.2%', '1.2%']\n",
      "['上海', '1.0%', '1.3%', '1.3%']\n",
      "['广州', '1.0%', '1.2%', '1.2%']\n",
      "['深圳', '1.0%', '1.4%', '1.5%']\n",
      "['沈阳', '1.0%', '1.0%', '1.0%']\n"
     ]
    }
   ],
   "source": [
    "#二维数据写入CSV文件\n",
    "fr = open(\"f:/PythonCourse/price2016.csv\", \"r\")\n",
    "fw = open(\"f:/PythonCourse/price2016out.csv\", \"w\")\n",
    "ls = []\n",
    "for line in fr:     #将CSV文件中的二维数据读入到列表变量\n",
    "    line = line.replace(\"\\n\",\"\")\n",
    "    ls.append(line.split(\",\"))\n",
    "for i in range(len(ls)):   #遍历列表变量计算百分数\n",
    "    for j in range(len(ls[i])):\n",
    "        if ls[i][j].replace(\".\",\"\").isnumeric():\n",
    "            ls[i][j] = \"{:.2}%\".format(float(ls[i][j])/100)\n",
    "for row in ls:    #将列表变量中的二位数据输出到CSV文件\n",
    "    print(row)\n",
    "    fw.write(\",\".join(row)+\"\\n\")\n",
    "fr.close()\n",
    "fw.close()\n"
   ]
  },
  {
   "cell_type": "markdown",
   "metadata": {},
   "source": [
    "## CSV格式的HTML展示\n",
    "展示二位数据的对应的HTML代码：\n",
    "```\n",
    "<!DOCTYPE HTML>\n",
    "<html>\n",
    "<body>\n",
    "<meta charset=utf-8>\n",
    "<h2 align=center>2016年7月部分大中城市新建住宅价格指数</h2>\n",
    "<table border='1' align=center width=70%>\n",
    "<tr bgcolor='orange'>\n",
    "<th width=\"25%\">城市</th>\n",
    "<th width=\"25%\">环比</th>\n",
    "<th width=\"25%\">同比</th>\n",
    "<th width=\"25%\">定基</th>\n",
    "</tr>\n",
    "<tr><td>北京</td><td>101.5</td><td>120.7</td><td>121.4</td></tr>\n",
    "<tr><td>上海</td><td>101.2</td><td>127.3</td><td>127.8</td></tr>\n",
    "<tr><td>广州</td><td>101.3</td><td>119.4</td><td>120.0</td></tr>\n",
    "<tr><td>深圳</td><td>102.0</td><td>140.9</td><td>145.5</td></tr>\n",
    "<tr><td>沈阳</td><td>100.1</td><td>101.4</td><td>101.6</td></tr>\n",
    "</table>\n",
    "</body>\n",
    "</html>\n",
    "```\n"
   ]
  },
  {
   "cell_type": "code",
   "execution_count": 26,
   "metadata": {},
   "outputs": [
    {
     "name": "stdout",
     "output_type": "stream",
     "text": [
      "[['城市', '环比', '同比', '定基'], ['北京', '101.5', '120.7', '121.4'], ['上海', '101.2', '127.3', '127.8'], ['广州', '101.3', '119.4', '120.0'], ['深圳', '102.0', '140.9', '145.5'], ['沈阳', '100.1', '101.4', '101.6']]\n"
     ]
    }
   ],
   "source": [
    "seg1 = '''\n",
    "<!DOCTYPE HTML>\\n<html>\\n<body>\\n<meta charset=gb2312>\n",
    "<h2 align=center>2016年7月部分大中城市新建住宅价格指数</h2>\n",
    "<table border='1' align=\"center\" width=70%>\n",
    "<tr bgcolor='orange'>\\n '''\n",
    "seg2 = \"</tr>\\n\"\n",
    "seg3 = \"</table>\\n</body>\\n</html>\"\n",
    "def fill_data(locls):\n",
    "    seg = '<tr><td align=\"center\">{}</td><td align=\"center\">\\\n",
    "    {}</td><td align=\"center\">{}</td><td align=\"center\">\\\n",
    "    {}</td></tr>\\n'.format(*locls)\n",
    "    return seg\n",
    "fr = open(\"f:/PythonCourse/price2016.csv\", \"r\")\n",
    "ls = []\n",
    "for line in fr:\n",
    "    line = line.replace(\"\\n\",\"\")\n",
    "    ls.append(line.split(\",\"))\n",
    "print(ls)\n",
    "fr.close()\n",
    "fw = open(\"f:/PythonCourse/price2016.html\", \"w\")\n",
    "fw.write(seg1)\n",
    "fw.write('<th width=\"25%\">{}</th>\\n<th width=\"25%\">{}</th>\\n<th width=\"25%\">{}</th>\\n<th width=\"25%\">{}</th>\\n'.format(*ls[0]))\n",
    "fw.write(seg2)\n",
    "for i in range(len(ls)-1):\n",
    "    fw.write(fill_data(ls[i+1]))\n",
    "fw.write(seg3)\n",
    "fw.close()\n"
   ]
  },
  {
   "cell_type": "markdown",
   "metadata": {},
   "source": [
    "## 高维数据的格式化\n",
    "与一维二维数据不同，高维数据能展示数据间更为复杂的组织关系。为了保持灵活性，表示高维数据不采用任何结构形式，仅采用最基本的二元关系，即键值对。万维网是高维数据最成功的典型应用。  \n",
    "JSON格式可以对高维数据进行表达和存储。JSON（JavaScript Object Notation）是一种轻量级的数据交换格式，易于阅读和理解。JSON格式表达键值对基本格式如下，键值对都保存在双引号中：  \n",
    "\"key\" : \"value\"  \n",
    "当多个键值对放在一起时，JSON有如下一些约定：  \n",
    "- 数据保存在键值对中；  \n",
    "- 键值对之间由逗号分隔；  \n",
    "- 括号用于保存键值对数据组成的对象；  \n",
    "- 方括号用于保存键值对数据组成的数组。  \n",
    "```\n",
    "\"本书作者\" : [\t\n",
    "{   \"姓氏\" : \"嵩\",\n",
    "\"名字\" : \"天\",\n",
    "\"单位\" : \"北京理工大学\"   }, \n",
    "{\t\"姓氏\" : \"礼\",\n",
    "\"名字\" : \"欣\",\n",
    "\"单位\" : \"北京理工大学\"   },\n",
    "{   \"姓氏\" : \"黄\",\n",
    "\"名字\" : \"天羽\",\n",
    "\"单位\" : \"北京理工大学\"   }  \n",
    "]\n",
    "```\n"
   ]
  },
  {
   "cell_type": "markdown",
   "metadata": {},
   "source": [
    "## json库的使用\n",
    "### Json库的概述\n",
    "json库主要包括两类函数：操作类函数和解析类函数  \n",
    "- 操作类函数主要完成外部JSON格式和程序内部数据类型之间的转换功能  \n",
    "- 解析类函数主要用于解析键值对内容。  \n",
    "### Json库的解析\n",
    "dumps()和loads()分别对应编码和解码功能。  \n"
   ]
  },
  {
   "cell_type": "code",
   "execution_count": 24,
   "metadata": {},
   "outputs": [
    {
     "name": "stdout",
     "output_type": "stream",
     "text": [
      "{\"b\": 2, \"c\": 4, \"a\": 6}\n",
      "{\n",
      "    \"a\": 6,\n",
      "    \"b\": 2,\n",
      "    \"c\": 4\n",
      "}\n",
      "False\n",
      "{'a': 6, 'b': 2, 'c': 4} <class 'dict'>\n"
     ]
    }
   ],
   "source": [
    "import json\n",
    "dt = {'b':2,'c':4,'a':6}\n",
    "s1 = json.dumps(dt)  #dumps返回JSON格式的字符串类型\n",
    "s2 = json.dumps(dt,sort_keys=True,indent=4)\n",
    "print(s1)\n",
    "print(s2)\n",
    "print(s1==s2)\n",
    "dt2 = json.loads(s2)\n",
    "print(dt2, type(dt2))\n"
   ]
  },
  {
   "cell_type": "markdown",
   "metadata": {},
   "source": [
    "## CSV和JSON格式相互转换\n",
    "CSV格式常用于一二维数据表示和存储，JSON也可以表示一二维数据。在网络信息传输中，可能需要统一表示方式，因此，需要在CSV和JSON格式间进行相互转换。  \n"
   ]
  },
  {
   "cell_type": "code",
   "execution_count": 27,
   "metadata": {},
   "outputs": [],
   "source": [
    "#将CSV转换成JSON格式的代码如下 \n",
    "import json\n",
    "fr = open(\"f:/PythonCourse/price2016.csv\", \"r\")\n",
    "ls = []\n",
    "for line in fr:\n",
    "    line = line.replace(\"\\n\",\"\")\n",
    "    ls.append(line.split(','))\n",
    "fr.close()\n",
    "fw = open(\"f:/PythonCourse/price2016.json\", \"w\")\n",
    "for i in range(1,len(ls)):\n",
    "    ls[i] = dict(zip(ls[0], ls[i]))\n",
    "json.dump(ls[1:],fw, sort_keys=True, indent=4)\n",
    "fw.close()\n"
   ]
  },
  {
   "cell_type": "code",
   "execution_count": 28,
   "metadata": {},
   "outputs": [],
   "source": [
    "#将二维JSON格式数据转换成CSV格式\n",
    "import json\n",
    "fr = open(\"f:/PythonCourse/price2016.json\", \"r\")\n",
    "ls = json.load(fr)\n",
    "data = [ list(ls[0].keys()) ]\n",
    "for item in ls:\n",
    "    data.append(list(item.values()))\n",
    "fr.close()\n",
    "fw = open(\"f:/PythonCourse/price2016_from_json.csv\", \"w\")\n",
    "for item in data:\n",
    "    fw.write(\",\".join(item) + \"\\n\")\n",
    "fw.close()\n"
   ]
  },
  {
   "cell_type": "code",
   "execution_count": null,
   "metadata": {
    "collapsed": true
   },
   "outputs": [],
   "source": []
  }
 ],
 "metadata": {
  "hide_input": false,
  "kernelspec": {
   "display_name": "Python 3",
   "language": "python",
   "name": "python3"
  },
  "language_info": {
   "codemirror_mode": {
    "name": "ipython",
    "version": 3
   },
   "file_extension": ".py",
   "mimetype": "text/x-python",
   "name": "python",
   "nbconvert_exporter": "python",
   "pygments_lexer": "ipython3",
   "version": "3.6.1"
  },
  "toc": {
   "colors": {
    "hover_highlight": "#DAA520",
    "navigate_num": "#000000",
    "navigate_text": "#333333",
    "running_highlight": "#FF0000",
    "selected_highlight": "#FFD700",
    "sidebar_border": "#EEEEEE",
    "wrapper_background": "#FFFFFF"
   },
   "moveMenuLeft": true,
   "nav_menu": {
    "height": "372px",
    "width": "252px"
   },
   "navigate_menu": true,
   "number_sections": true,
   "sideBar": true,
   "threshold": 4,
   "toc_cell": false,
   "toc_section_display": "block",
   "toc_window_display": false,
   "widenNotebook": false
  }
 },
 "nbformat": 4,
 "nbformat_minor": 2
}
