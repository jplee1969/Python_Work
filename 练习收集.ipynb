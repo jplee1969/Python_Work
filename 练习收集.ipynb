{
 "cells": [
  {
   "cell_type": "markdown",
   "metadata": {},
   "source": [
    "# Python编程练习 "
   ]
  },
  {
   "cell_type": "markdown",
   "metadata": {},
   "source": [
    "如果列出10以内自然数中3或5的倍数，则包括3,5,6,9。那么这些数字的和为23。要求计算得出任意正整数n以内中3或5的倍数的自然数之和。"
   ]
  },
  {
   "cell_type": "code",
   "execution_count": 1,
   "metadata": {},
   "outputs": [
    {
     "name": "stdout",
     "output_type": "stream",
     "text": [
      "23\n"
     ]
    }
   ],
   "source": [
    "#n = int(input())\n",
    "n = 10\n",
    "sum = 0;\n",
    "for i in range(1,n):\n",
    "    if i % 3 == 0 or i % 5 == 0:\n",
    "        sum += i\n",
    "print(sum)"
   ]
  },
  {
   "cell_type": "markdown",
   "metadata": {},
   "source": [
    "10以内的素数2,3,5,7的和为17。要求计算得出任意正整数n以内的所有素数的和。"
   ]
  },
  {
   "cell_type": "code",
   "execution_count": 5,
   "metadata": {},
   "outputs": [
    {
     "name": "stdout",
     "output_type": "stream",
     "text": [
      "76127\n",
      "Wall time: 5.05 ms\n"
     ]
    }
   ],
   "source": [
    "%%time\n",
    "import math\n",
    "def isprime(x):\n",
    "    if x < 2:\n",
    "        return False\n",
    "    for i in range(2,int(math.sqrt(x))+1):\n",
    "        if x % i == 0:\n",
    "            return False\n",
    "    return True\n",
    "\n",
    "#n = int(input())\n",
    "n=1000\n",
    "sum = 0\n",
    "for i in range(n):\n",
    "    if isprime(i):\n",
    "        sum += i\n",
    "print(sum)"
   ]
  },
  {
   "cell_type": "markdown",
   "metadata": {},
   "source": [
    "根据下列信息计算在1901年1月1日至2000年12月31日间共有多少个星期天落在每月的第一天上？  \n",
    "a)  1900.1.1是星期一  \n",
    "b)  1月，3月，5月，7月，8月，10月和12月是31天  \n",
    "c)  4月，6月，9月和11月是30天  \n",
    "d)  2月是28天，在闰年是29天  \n",
    "e)  公元年数能被4整除且又不能被100整除是闰年  \n",
    "f)  能直接被400整除也是闰年  "
   ]
  },
  {
   "cell_type": "code",
   "execution_count": 3,
   "metadata": {},
   "outputs": [
    {
     "name": "stdout",
     "output_type": "stream",
     "text": [
      "171\n"
     ]
    }
   ],
   "source": [
    "mondays=0\n",
    "def getmonthdays(year):\n",
    "    isleapyear=year%400==0 or (year%4==0 and (not year%100==0))\n",
    "    if isleapyear:\n",
    "        return [31,29,31,30,31,30,31,31,30,31,30,31]\n",
    "    return [31,28,31,30,31,30,31,31,30,31,30,31]\n",
    "\n",
    "pastdays=1  \n",
    "monthdays=getmonthdays(1900)\n",
    "for month in range (0,12):\n",
    "    pastdays+=monthdays[month]\n",
    "\n",
    "for year in range(1901,2001):\n",
    "    monthdays=getmonthdays(year)\n",
    "    for month in range(0,12):\n",
    "        if pastdays%7==0:\n",
    "            mondays+=1\n",
    "        pastdays+=monthdays[month]\n",
    "print(mondays)"
   ]
  },
  {
   "cell_type": "markdown",
   "metadata": {},
   "source": [
    "数字197可以被称为循环素数，因为197的三个数位循环移位后的数字：197,971,719均为素数。100以内这样的数字包括13个，2,3,5,7,11,13,17,31,37,71,73,79,97。要求任意正整数n以内一共有多少个这样的循环素数。"
   ]
  },
  {
   "cell_type": "code",
   "execution_count": 7,
   "metadata": {},
   "outputs": [
    {
     "name": "stdout",
     "output_type": "stream",
     "text": [
      "1000\n",
      "25\n",
      "[2, 3, 5, 7, 11, 13, 17, 19, 23, 29, 31, 37, 41, 43, 47, 53, 59, 61, 67, 71, 73, 79, 83, 89, 97, 101, 103, 107, 109, 113, 127, 131, 137, 139, 149, 151, 157, 163, 167, 173, 179, 181, 191, 193, 197, 199, 211, 223, 227, 229, 233, 239, 241, 251, 257, 263, 269, 271, 277, 281, 283, 293, 307, 311, 313, 317, 331, 337, 347, 349, 353, 359, 367, 373, 379, 383, 389, 397, 401, 409, 419, 421, 431, 433, 439, 443, 449, 457, 461, 463, 467, 479, 487, 491, 499, 503, 509, 521, 523, 541, 547, 557, 563, 569, 571, 577, 587, 593, 599, 601, 607, 613, 617, 619, 631, 641, 643, 647, 653, 659, 661, 673, 677, 683, 691, 701, 709, 719, 727, 733, 739, 743, 751, 757, 761, 769, 773, 787, 797, 809, 811, 821, 823, 827, 829, 839, 853, 857, 859, 863, 877, 881, 883, 887, 907, 911, 919, 929, 937, 941, 947, 953, 967, 971, 977, 983, 991, 997]\n",
      "[2, 3, 5, 7, 11, 13, 17, 31, 37, 71, 73, 79, 97, 113, 131, 197, 199, 311, 337, 373, 719, 733, 919, 971, 991]\n"
     ]
    }
   ],
   "source": [
    "import math\n",
    "def isprime(x):\n",
    "    if x <= 1:\n",
    "        return False\n",
    "    for i in range(2,int(math.sqrt(x))+1):\n",
    "        if x % i == 0:\n",
    "            return False\n",
    "    return True\n",
    "\n",
    "def get_num_of_int(x):\n",
    "    num = 1\n",
    "    tmp = x % 10\n",
    "    while tmp != x:\n",
    "        x = x // 10\n",
    "        num += 1\n",
    "        tmp = x % 10\n",
    "    return num\n",
    "\n",
    "def get_move_circle(x):\n",
    "    n = get_num_of_int(x)\n",
    "    l = []\n",
    "    for i in range(n):\n",
    "        y = (x % 10) * (10 ** (n-1)) + x // 10\n",
    "        l.append(y)\n",
    "        x = y\n",
    "    return l\n",
    "\n",
    "prime_dic = {}\n",
    "prime_list = []\n",
    "n = int(input())\n",
    "for i in range(2, n + 1):\n",
    "    prime_dic[i] = 1\n",
    "for i in range(2, int(n ** .5) + 1):\n",
    "    for j in range(i * i, n + 1, i):\n",
    "        if prime_dic[i] == 1:\n",
    "            prime_dic[j] = 0\n",
    "for k,v in prime_dic.items():\n",
    "    if v == 1:\n",
    "        prime_list.append(k)\n",
    "\n",
    "lst=[]\n",
    "for p in prime_list:\n",
    "    flag = True\n",
    "    l = get_move_circle(p)\n",
    "    for j in l:\n",
    "        if not isprime(j):\n",
    "            flag = False\n",
    "            break\n",
    "    if flag:\n",
    "        lst.append(j)\n",
    "print(len(lst))\n",
    "print(prime_list)\n",
    "print(lst)"
   ]
  },
  {
   "cell_type": "markdown",
   "metadata": {
    "collapsed": true
   },
   "source": [
    "“Pig Latin”是一个英语儿童文字改写游戏，整个游戏遵从下述规则：  \n",
    "\n",
    "(1). 元音字母是‘a’、‘e’、‘i’、‘o’、‘u’。字母‘y’在不是第一个字母的情况下，也被视作元音字母。其他字母均为辅音字母。例如，单词“yearly”有三个元音字母（分别为‘e’、‘a’和最后一个‘y’）和三个辅音字母（第一个‘y’、‘r’和‘l’）。  \n",
    "\n",
    "(2). 如果英文单词以元音字母开始，则在单词末尾加入“hay”后得到“Pig Latin”对应单词。例如，“ask”变为“askhay”，“use”变为“usehay”。  \n",
    "\n",
    "(3). 如果英文单词以‘q’字母开始，并且后面有个字母‘u’，将“qu”移动到单词末尾加入“ay”后得到“Pig Latin”对应单词。例如，“quiet”变为“ietquay”，“quay”变为“ayquay”。  \n",
    "\n",
    "(4). 如果英文单词以辅音字母开始，所有连续的辅音字母一起移动到单词末尾加入“ay”后得到“Pig Latin”对应单词。例如，“tomato”变为“omatotay”， “school” 变为“oolschay”，“you” 变为“ouyay”，“my” 变为“ymay ”，“ssssh” 变为“sssshay”。  \n",
    "\n",
    "(5). 如果英文单词中有大写字母，必须所有字母均转换为小写。   \n",
    "输入格式:  \n",
    "一系列单词，单词之间使用空格分隔。  \n",
    "\n",
    "输出格式：  \n",
    "按照以上规则转化每个单词，单词之间使用空格分隔。  \n",
    "\n",
    "输入样例：  \n",
    "Welcome to the Python world Are you ready  \n",
    "\n",
    "输出样例：  \n",
    "elcomeway otay ethay ythonpay orldway arehay ouyay eadyray  "
   ]
  },
  {
   "cell_type": "code",
   "execution_count": 2,
   "metadata": {},
   "outputs": [
    {
     "name": "stdout",
     "output_type": "stream",
     "text": [
      "Welcome to the Python world Are you ready\n",
      "elcomeway otay ethay ythonpay orldway arehay ouyay eadyray "
     ]
    }
   ],
   "source": [
    "def PigLatin():\n",
    "    s = input();\n",
    "    list =  s.lower().split(\" \")\n",
    "    for i in range(len(list)):\n",
    "        if ((list[i][:1] in \"aeiou\")): \n",
    "            list[i] = list[i]+\"hay\"\n",
    "        elif(list[i][:2]==\"qu\"):\n",
    "            list[i]=list[i][2:]+\"quay\"\n",
    "        else:\n",
    "            num =getIndex(list[i])\n",
    "            list[i] = list[i][num:]+list[i][0:num]+\"ay\"\n",
    "    return list\n",
    " \n",
    "def getIndex(s):\n",
    "    for i in range(len(s)):\n",
    "        if((s[i] in \"aeiou\") or (i!=0 and s[i] ==\"y\")):\n",
    "            return i\n",
    "    return len(s)\n",
    " \n",
    "result = PigLatin()\n",
    "for i in range(len(result)):\n",
    "   print(result[i],end = ' ')"
   ]
  },
  {
   "cell_type": "markdown",
   "metadata": {},
   "source": [
    "题目内容：  \n",
    "依次判断一系列给定的字符串是否为合法的 python 标识符。  \n",
    "输入格式:  \n",
    "一系列字符串，每个字符串占一行。  \n",
    "输出格式：  \n",
    "判断每行字符串是否为合法的 Python 标示符，如果合法则输出 True，否则输出 False。  \n",
    "输入样例：  \n",
    "abc  \n",
    "\\_def  \n",
    "21gh  \n",
    "输出样例：  \n",
    "True  \n",
    "True  \n",
    "False  "
   ]
  },
  {
   "cell_type": "code",
   "execution_count": 3,
   "metadata": {},
   "outputs": [
    {
     "name": "stdout",
     "output_type": "stream",
     "text": [
      "abc\n",
      "_def\n",
      "21gh\n",
      "\n",
      "True\n",
      "True\n",
      "False\n"
     ]
    }
   ],
   "source": [
    "import re\n",
    " \n",
    "def isIentifier (s):\n",
    "    if re.match('[a-zA-Z_][a-zA-Z0-9_]*', s):\n",
    "        return True\n",
    "    else:\n",
    "        return False\n",
    "\n",
    "params = []\n",
    "while True:\n",
    "    s = input()\n",
    "    if s == '':\n",
    "        break\n",
    "    else:\n",
    "        params.append(s)\n",
    "for s in params:\n",
    "    if isIentifier (s):\n",
    "        print('True')\n",
    "    else:\n",
    "        print('False')"
   ]
  },
  {
   "cell_type": "markdown",
   "metadata": {},
   "source": [
    "题目内容：  \n",
    "依次计算一系列给定字符串的字母值，字母值为字符串中每个字母对应的编号值（A对应1，B对应2，以此类推，不区分大小写字母，非字母字符对应的值为0）的总和。例如，Colin 的字母值为 3 + 15 + 12 + 9 + 14 = 53  \n",
    "\n",
    "输入格式:  \n",
    "一系列字符串，每个字符串占一行。  \n",
    "\n",
    "输出格式：  \n",
    "计算并输出每行字符串的字母值。  \n",
    "\n",
    "输入样例：  \n",
    "Colin  \n",
    "ABC  \n",
    "\n",
    "输出样例：  \n",
    "53  \n",
    "6  "
   ]
  },
  {
   "cell_type": "code",
   "execution_count": 4,
   "metadata": {},
   "outputs": [
    {
     "name": "stdout",
     "output_type": "stream",
     "text": [
      "Colin\n",
      "ABC\n",
      "\n",
      "53\n",
      "6\n"
     ]
    }
   ],
   "source": [
    "def getStrValue (letter):\n",
    "    alph = \"abcdefghijklmnopqrstuvwxyz\" \n",
    "    letter = letter.lower() \n",
    "    return alph.find(letter) + 1  \n",
    "\n",
    "params = []  \n",
    "while True:  \n",
    "    s = input()  \n",
    "    if s == '':  \n",
    "        break  \n",
    "    else:  \n",
    "        params.append(s)  \n",
    "\n",
    "for word in params:  \n",
    "    sum = 0  \n",
    "    for letter in word:  \n",
    "        sum += getStrValue(letter)  \n",
    "    print(sum)"
   ]
  },
  {
   "cell_type": "markdown",
   "metadata": {},
   "source": [
    "有 3 个回文数字，第一个是两位数，第二个是三位数。将这两个数字相加得到第三个数字，这是个四位数。请问第三个数字是多少？"
   ]
  },
  {
   "cell_type": "code",
   "execution_count": 20,
   "metadata": {},
   "outputs": [
    {
     "name": "stdout",
     "output_type": "stream",
     "text": [
      "22 979 1001\n",
      "[11, 22, 33, 44, 55, 66, 77, 88, 99]\n",
      "[101, 111, 121, 131, 141, 151, 161, 171, 181, 191, 202, 212, 222, 232, 242, 252, 262, 272, 282, 292, 303, 313, 323, 333, 343, 353, 363, 373, 383, 393, 404, 414, 424, 434, 444, 454, 464, 474, 484, 494, 505, 515, 525, 535, 545, 555, 565, 575, 585, 595, 606, 616, 626, 636, 646, 656, 666, 676, 686, 696, 707, 717, 727, 737, 747, 757, 767, 777, 787, 797, 808, 818, 828, 838, 848, 858, 868, 878, 888, 898, 909, 919, 929, 939, 949, 959, 969, 979, 989, 999]\n",
      "[1001, 1111, 1221, 1331, 1441, 1551, 1661, 1771, 1881, 1991, 2002, 2112, 2222, 2332, 2442, 2552, 2662, 2772, 2882, 2992, 3003, 3113, 3223, 3333, 3443, 3553, 3663, 3773, 3883, 3993, 4004, 4114, 4224, 4334, 4444, 4554, 4664, 4774, 4884, 4994, 5005, 5115, 5225, 5335, 5445, 5555, 5665, 5775, 5885, 5995, 6006, 6116, 6226, 6336, 6446, 6556, 6666, 6776, 6886, 6996, 7007, 7117, 7227, 7337, 7447, 7557, 7667, 7777, 7887, 7997, 8008, 8118, 8228, 8338, 8448, 8558, 8668, 8778, 8888, 8998, 9009, 9119, 9229, 9339, 9449, 9559, 9669, 9779, 9889, 9999]\n"
     ]
    }
   ],
   "source": [
    "import random\n",
    "#判断回文数\n",
    "\n",
    "def is_huiwen(x):\n",
    "    return(str(x)==str(x)[::-1])\n",
    "\n",
    "\n",
    "#生成（10,100）回文数的列表\n",
    "list1=[i for i in range(10,100)]\n",
    "j=0\n",
    "while True:\n",
    "    if j>=len(list1):\n",
    "        break\n",
    "    if not(is_huiwen(list1[j])):\n",
    "        del list1[j]\n",
    "    else:\n",
    "        j+=1\n",
    "\n",
    "#生成（100,1000）回文数的列表\n",
    "\n",
    "list2=[i for i in range(100,1000)]\n",
    "j=0\n",
    "while True:\n",
    "    if j>=len(list2):\n",
    "        break\n",
    "    if not(is_huiwen(list2[j])):\n",
    "        del list2[j]\n",
    "    else:\n",
    "        j+=1\n",
    "\n",
    "#生成（1000,10000）回文数的列表\n",
    "\n",
    "list3=[i for i in range(1000,10000)]\n",
    "j=0\n",
    "while True:\n",
    "    if j>=len(list3):\n",
    "        break\n",
    "    if not(is_huiwen(list3[j])):\n",
    "        del list3[j]\n",
    "    else:\n",
    "        j+=1\n",
    "\n",
    "\n",
    "#得到三个数的结果\n",
    "for o in list1:\n",
    "    for p in list2:\n",
    "        if (o+p) in list3:        \n",
    "            print(o,p,o+p)\n",
    "            break\n",
    "print(list1)    \n",
    "print(list2)  \n",
    "print(list3)"
   ]
  },
  {
   "cell_type": "markdown",
   "metadata": {},
   "source": [
    "使用 Python 的算术运算符 +、-、\\*、/、\\*\\*（没有%），和数字 2、3、4、5，构造一个表达式，使用所有的4各数字和3各运算符各一次，计算得到 28，在下面的空格中填入不含空格的表达式。提示：构建字符串，然后使用 Python 的 eval() 函数，它的参数为字符串，计算该字符串，并返回计算结果，例如： eval('2*3+4') 返回整数 10。"
   ]
  },
  {
   "cell_type": "code",
   "execution_count": 29,
   "metadata": {},
   "outputs": [
    {
     "name": "stdout",
     "output_type": "stream",
     "text": [
      "2**3+4*5 28\n"
     ]
    }
   ],
   "source": [
    "import random\n",
    "\n",
    "num = ['2','3','4','5']\n",
    "\n",
    "fuhao = ['-','+','/','*','**']\n",
    "\n",
    "stringnew = ''\n",
    "\n",
    "\n",
    "while stringnew != 28:\n",
    "\n",
    "   r = random.sample(fuhao,3)\n",
    "\n",
    "   n = random.sample(num,4)\n",
    "\n",
    "#print r,'ok',r[0],r[1],r[2]\n",
    "\n",
    "#print n,'ok',n[0],n[1],n[2],n[3]\n",
    "\n",
    "   new = n[0]+ r[0]+n[1]+ r[1]+n[2]+ r[2]+n[3]\n",
    "\n",
    "   stringnew = eval(new)\n",
    "\n",
    "print(new,eval(new))"
   ]
  },
  {
   "cell_type": "markdown",
   "metadata": {},
   "source": [
    "题目内容：\n",
    "定义一个 prime() 函数求整数 n 以内（不包括n）的所有素数（1不是素数），并返回一个按照升序排列的素数列表。使用递归来实现一个二分查找算法函数bi_search()，该函数实现检索任意一个整数在 prime() 函数生成的素数列表中位置（索引）的功能，并返回该位置的索引值，若该数不存在则返回 -1。\n",
    "\n",
    "输入格式:\n",
    "第一行为正整数 n\n",
    "接下来若干行为待查找的数字，每行输入一个数字\n",
    "\n",
    "输出格式：\n",
    "每行输出相应的待查找数字的索引值\n",
    "\n",
    "输入样例：  \n",
    "10  \n",
    "2  \n",
    "4  \n",
    "6  \n",
    "7  \n",
    "  \n",
    "输出样例：  \n",
    "0  \n",
    "-1  \n",
    "-1  \n",
    "3  "
   ]
  },
  {
   "cell_type": "code",
   "execution_count": 46,
   "metadata": {},
   "outputs": [
    {
     "name": "stdout",
     "output_type": "stream",
     "text": [
      "10\n",
      "2\n",
      "4\n",
      "6\n",
      "7\n",
      "\n",
      "0\n",
      "-1\n",
      "-1\n",
      "3\n"
     ]
    }
   ],
   "source": [
    "## 判断素数\n",
    "import math\n",
    "def isprime(x):\n",
    "    if x <= 1:\n",
    "        return False\n",
    "    for i in range(2,int(math.sqrt(x))+1):\n",
    "        if x % i == 0:\n",
    "            return False\n",
    "    return True\n",
    "\n",
    "#形成素数表\n",
    "lst_input = []\n",
    "while True:    \n",
    "    inp = input()\n",
    "    if inp == '':\n",
    "        break\n",
    "    else:\n",
    "        lst_input.append(int(inp))\n",
    "    \n",
    "lst_prime=[i for i in range(lst_input[0]) if isprime(i)]\n",
    "#lst_prime\n",
    "#二分查找\n",
    "def bi_search(prime,primelist,start,end):\n",
    "    if start>end :\n",
    "        return -1\n",
    "    mid=(start+end)//2\n",
    "    if primelist[mid]==prime:\n",
    "        return mid\n",
    "    elif primelist[mid]>prime:                \n",
    "        end=mid-1\n",
    "    else:\n",
    "        start=mid+1\n",
    "    return bi_search(prime,primelist,start,end)\n",
    "\n",
    "for x in lst_input[1:]:\n",
    "    print(bi_search(x,lst_prime,0,len(lst_prime)-1))"
   ]
  },
  {
   "cell_type": "markdown",
   "metadata": {},
   "source": [
    "题目内容：\n",
    "帕斯卡三角形，又称杨辉三角形是二项式系数在三角形中的一种几何排列。帕斯卡三角形通常从第0行开始枚举，并且每一行的数字是上一行相邻两个数字的和。在第0行只写一个数字1，然后构造下一行的元素。将上一行中数字左侧上方和右侧上方的数值相加。如果左侧上方或者右侧上方的数字不存在，用0替代。下面给出6行的帕斯卡三角形：\n",
    "```\n",
    "     1\n",
    "    1 1\n",
    "   1 2 1\n",
    "  1 3 3 1\n",
    " 1 4 6 4 1\n",
    "1 5 10 10 5 1\n",
    "```\n",
    "编写程序，输入帕斯卡三角形的高度 n，然后生成和上面例子一样风格的三角形。  \n",
    "\n",
    "输入格式:\n",
    "一个正整数 n  \n",
    "\n",
    "输出格式：\n",
    "相应高度的帕斯卡三角形，两个数字之间有一个空格  \n",
    "\n",
    "输入样例：  \n",
    "6  \n",
    "\n",
    "输出样例：\n",
    "```\n",
    "     1\n",
    "    1 1\n",
    "   1 2 1\n",
    "  1 3 3 1\n",
    " 1 4 6 4 1\n",
    "1 5 10 10 5 1\n",
    "```"
   ]
  },
  {
   "cell_type": "code",
   "execution_count": 61,
   "metadata": {},
   "outputs": [
    {
     "name": "stdout",
     "output_type": "stream",
     "text": [
      "6\n",
      "     1\n",
      "    1 1\n",
      "   1 2 1\n",
      "  1 3 3 1\n",
      " 1 4 6 4 1\n",
      "1 5 10 10 5 1\n"
     ]
    }
   ],
   "source": [
    "NUM = int(input())\n",
    "\n",
    "def printLine(lineList):\n",
    "    lineList = [str(tmpNum) for tmpNum in lineList]\n",
    "    print(\"%s%s\" % (\" \" * (NUM - len(lineList)), \" \".join(lineList)))\n",
    "\n",
    "for i in range(NUM):\n",
    "    if i < 2:\n",
    "        yhList = [1] * (i + 1)\n",
    "    else:\n",
    "        yhList[1:-1] = [(tmpNum + yhList[j]) for j, tmpNum in enumerate(yhList[1:])]\n",
    "    printLine(yhList)"
   ]
  },
  {
   "cell_type": "markdown",
   "metadata": {},
   "source": []
  },
  {
   "cell_type": "markdown",
   "metadata": {
    "collapsed": true
   },
   "source": [
    "题目内容：  \n",
    "\n",
    "倒排索引（Inverted index），也常被称为反向索引，是一种索引方法，用来存储某个单词存在于哪些文档之中。是信息检索系统中最常用的数据结构。通过倒排索引，可以根据单词快速获取包含这个单词的文档列表。  \n",
    "\n",
    "本作业主要完成以下四个功能：  \n",
    "\n",
    "(1). 建立索引：首先输入100行字符串，用于构建倒排索引，每行字符串由若干不含标点符号的、全部小写字母组成的单词构成，每个单词之间以空格分隔。依次读入每个单词，并组成一个由<单词, 每个单词出现的行号集合>构成的字典，其中行号从1开始计数。  \n",
    "\n",
    "(2). 打印索引：按照字母表顺序依次输出每个单词及其出现的位置，每个单词出现的位置则按行号升序输出。例如，如果“created”出现在第3, 20行，“dead”分别出现在14, 20, 22行。则输出结果如下（冒号和逗号后面都有一个空格，行号不重复）：  \n",
    "```\n",
    "created: 3, 20\n",
    "dead: 14, 20, 22\n",
    "```\n",
    "\n",
    "(3). 检索：接下来输入查询(Query)字符串，每行包含一个查询，每个查询由若干关键字(Keywords)组成，每个关键字用空格分隔且全部为小写字母单词。要求输出包含全部单词行的行号（升序排列），每个查询输出一行。若某一关键字在全部行中从没出现过或没有一行字符串包含全部关键字，则输出“None”。遇到空行表示查询输入结束。如对于上面创建的索引，当查询为“created”时，输出为“3, 20”；当查询为“created dead”时，输出为“20”；当查询为“abcde dead”时，输出为“None”；  \n",
    "\n",
    "(4). 高级检索：当输入的Query以“AND: ”开始，则执行“与”检索，即要求输出包含全部关键字的行；如果输入的Query以“OR:”开始，则执行“或”检索，即某行只要出现了一个关键字就满足条件。默认情况（不以“AND: ”或“OR: ”开始），执行“与”检索。  \n",
    "\n",
    "输入格式:  \n",
    "首先输入100行字符串，每行字符串由若干不含标点符号的、全部小写字母组成的单词构成，每个单词之间以空格分隔。  \n",
    "若干个查询，每个查询占一行，既可能是普通检索，也可能是高级检索。  \n",
    "\n",
    "输出格式：  \n",
    "首先打印索引，然后将每个查询的结果输出到一行。  \n"
   ]
  },
  {
   "cell_type": "code",
   "execution_count": null,
   "metadata": {
    "collapsed": true
   },
   "outputs": [],
   "source": [
    "dict1 = {}\n",
    "for i in range(100):\n",
    "    sentence = input()\n",
    "    word_list = sentence.split()\n",
    "    for word in word_list:\n",
    "        if word not in dict1:\n",
    "            dict1[word] = set()\n",
    "        dict1[word].add(i+1)\n",
    "\n",
    "\n",
    "answer_list = sorted(dict1.iteritems(),key=lambda d:d[0]) \n",
    "for word in answer_list:\n",
    "    l = list(word[1])\n",
    "    l.sort()\n",
    "    print(word[0]+': '+', '.join(map(str,l)))\n",
    "\n",
    "\n",
    "def print_answer(answer_set): \n",
    "    empty_set = set() \n",
    "    if empty_set == answer_set:\n",
    "        print 'None'\n",
    "    else:\n",
    "        answer_list=list(answer_set)\n",
    "        answer_list.sort()\n",
    "        print(', '.join(map(str,answer_list)))\n",
    "\n",
    "\n",
    "while True:\n",
    "    Query = input() \n",
    "    if Query == '': break \n",
    "    answer_set = set()         \n",
    "    if 'OR:' in Query: \n",
    "        Query = Query[3:]\n",
    "        Q_word_list = Query.split()\n",
    "        for word in Q_word_list:\n",
    "            if (word != '')and(word in dict1):\n",
    "                answer_set = dict1[word]|answer_set \n",
    "        print_answer(answer_set)\n",
    "    else: \n",
    "        if 'AND:' in Query:Query = Query[4:]\n",
    "        Q_word_list = Query.split()\n",
    "        if Q_word_list!=[]:\n",
    "            for i in range(1,101):answer_set.add(i)          \n",
    "            for word in Q_word_list:\n",
    "                if (word != ''):\n",
    "                    if word in dict1:\n",
    "                        answer_set = dict1[word]&answer_set\n",
    "                    else:answer_set = set()\n",
    "            print_answer(answer_set)                         \n",
    "        else:\n",
    "            print('None')"
   ]
  },
  {
   "cell_type": "markdown",
   "metadata": {},
   "source": [
    "题目内容：  \n",
    "实现逆向最大匹配分词算法，即从右向左扫描，找到最长的词并切分。如句子“研究生命的起源”，逆向最大匹配分词算法的输出结果为“研究 生命 的 起源”。  \n",
    "\n",
    "输入格式:  \n",
    "第一行是以utf-8格式输入的词表，每个词之间以空格分隔。  \n",
    "接下来是若干行以utf-8格式输入的中文句子。  \n",
    "\n",
    "输出格式：  \n",
    "以utf-8格式输出的逆向最大匹配的分词结果，每个词之间使用空格分隔。每个输入对应一行输出。  \n",
    "\n",
    "输入样例：  \n",
    "你 我 他 爱 北京 天安门 研究 研究生 命 生命 的 起源  \n",
    "研究生命的起源  \n",
    "我爱北京天安门  \n",
    "\n",
    "输出样例：  \n",
    "研究 生命 的 起源  \n",
    "我 爱 北京 天安门  "
   ]
  },
  {
   "cell_type": "code",
   "execution_count": 5,
   "metadata": {},
   "outputs": [
    {
     "name": "stdout",
     "output_type": "stream",
     "text": [
      "你 我 他 爱 北京 天安门 研究 研究生 命 生命 的 起源\n",
      "研究生命的起源\n",
      "我爱北京天安门\n",
      "\n",
      "\n"
     ]
    }
   ],
   "source": [
    "def load_dict():\n",
    "    text = input()\n",
    "    word_dict = set()\n",
    "    max_len = 1\n",
    "    words = []\n",
    "    words = text.split( ' ' )\n",
    "\n",
    "\n",
    "    for line in words:\n",
    "        #word = unicode( line.strip(), 'utf-8' )\n",
    "        word = line.strip()\n",
    "        word_dict.add( word )\n",
    "        if len( word ) > max_len:\n",
    "            max_len = len( word )\n",
    "    return max_len, word_dict\n",
    "\n",
    "def back_word_seg( sent, max_len, word_dict ):\n",
    "    begin = 0\n",
    "    end = len( sent )\n",
    "    words = []\n",
    "    #sent = unicode( sent, 'utf-8' )\n",
    "\n",
    "\n",
    "    while end > 0:\n",
    "        for begin in range( max( end - max_len, 0 ), end ):\n",
    "            word = sent[begin:end]\n",
    "            if word in word_dict:\n",
    "                words.append( word )\n",
    "                break\n",
    "            end = begin\n",
    "\n",
    "    return words\n",
    "\n",
    "\n",
    "max_len, word_dict = load_dict()\n",
    "\n",
    "s = input()\n",
    "while len(s)>0:\n",
    "    try:\n",
    "        s = input()\n",
    "    except:\n",
    "        break;\n",
    "my_list = back_word_seg( s, max_len, word_dict )\n",
    "my_list.reverse()\n",
    "new_s = \"\"\n",
    "for on in my_list:\n",
    "    new_s += on + \" \"\n",
    "    new_s.encode( 'utf-8' )\n",
    "print(new_s[:len( new_s ) - 1])"
   ]
  },
  {
   "cell_type": "markdown",
   "metadata": {
    "collapsed": true
   },
   "source": [
    "题目内容：  \n",
    "某些英语单词的字母经过重新排列后，能获得另外一个单词，如可以将“cinema”转换成另一个单词“iceman”。编写程序，将词表中由相同字母组成的单词聚成一类，并按照单词个数由多到少的顺序输出各类中的全部单词（每类占一行，单词按字典序由小到大排列，之间用空格分隔），若每类中单词个数相同，则按每类中第一个单词的字典序由大到小输出各个类别。  \n",
    "\n",
    "输入格式:  \n",
    "按字典序由小到大输入若干个单词，每个单词占一行。  \n",
    "\n",
    "输出格式：  \n",
    "并按照单词个数由多到少的顺序输出各类中的全部单词（每类占一行，单词按字典序由小到大排列，之间用空格分隔），若每类中单词个数相同，则按每类中第一个单词的字典序由大到小输出各个类别。  \n",
    "\n",
    "输入样例：  \n",
    "cinema  \n",
    "iceman  \n",
    "maps  \n",
    "spam  \n",
    "\n",
    "输出样例：  \n",
    "maps spam  \n",
    "cinema iceman  "
   ]
  },
  {
   "cell_type": "code",
   "execution_count": 1,
   "metadata": {},
   "outputs": [
    {
     "name": "stdout",
     "output_type": "stream",
     "text": [
      "cinema\n",
      "iceman\n",
      "maps\n",
      "spam\n",
      "\n",
      "maps spam\n",
      "cinema iceman\n"
     ]
    }
   ],
   "source": [
    "def panduan(n):\n",
    "    n_1 = list(n)\n",
    "    n_1.sort()\n",
    "    return ''.join(n_1)\n",
    "dict = {}\n",
    "while True:\n",
    "    n = input()\n",
    "    if n == '':\n",
    "        break\n",
    "    n_1 = panduan(n)\n",
    "    if n_1 not in dict:\n",
    "        dict[n_1] = []\n",
    "    dict[n_1].append(n)\n",
    "mun = []\n",
    "dict_1 = {}\n",
    "for x,y in dict.items():\n",
    "    len_y = len(y)\n",
    "    if len_y not in mun:\n",
    "        mun.append(len_y)\n",
    "    if len_y not in dict_1:\n",
    "        dict_1[len_y] = [y[0]]\n",
    "    else:\n",
    "        dict_1[len_y].append(y[0])\n",
    "mun.sort(reverse = True)\n",
    "for mun_1 in mun:\n",
    "    dict_1[mun_1].sort(reverse = True)\n",
    "    for line in dict_1[mun_1]:\n",
    "        line_1 = panduan(line)\n",
    "        print(' '.join(sorted(dict[line_1])))"
   ]
  },
  {
   "cell_type": "markdown",
   "metadata": {},
   "source": [
    "题目内容：  \n",
    "两位整数相乘形成的最大回文数是 9009 = 99 × 91。编写程序，求得任意输入的 n 位整数相乘形成的最大回文数。  \n",
    "\n",
    "输入格式:  \n",
    "正整数 n   \n",
    "\n",
    "输出格式：  \n",
    "n 位整数相乘形成的最大回文数  \n",
    "\n",
    "输入样例：  \n",
    "2  \n",
    "\n",
    "输出样例：  \n",
    "9009  "
   ]
  },
  {
   "cell_type": "code",
   "execution_count": 12,
   "metadata": {},
   "outputs": [
    {
     "name": "stdout",
     "output_type": "stream",
     "text": [
      "4\n",
      "99000099=9901*9999\n"
     ]
    }
   ],
   "source": [
    "def panduan(mun_1):\n",
    "    a = str(mun_1)\n",
    "    b = list(a)\n",
    "    b.reverse()\n",
    "    c = ''.join(b)\n",
    "    if a == c:\n",
    "        return True\n",
    "    else:\n",
    "        return False\n",
    "def mun(n):\n",
    "    a = 10**n -1\n",
    "    return a\n",
    "     \n",
    "n = int(input())\n",
    "a = mun(n)\n",
    "b = mun(n)\n",
    "mun_max = 0\n",
    "mun = 0\n",
    "max_b = 0\n",
    "while True:\n",
    "    b -= 1\n",
    "    mun = a * b\n",
    "    if panduan(mun):\n",
    "        if mun >= mun_max:\n",
    "            mun_max = mun\n",
    "            max_b = b\n",
    "    if mun <= mun_max or mun <= 10**(n * 2 - 1):\n",
    "        a -= 1\n",
    "        b = a\n",
    "        if a == max_b:\n",
    "            break\n",
    "print('{}={}*{}'.format(mun_max,a,int(mun_max/a)))"
   ]
  },
  {
   "cell_type": "markdown",
   "metadata": {
    "collapsed": true
   },
   "source": [
    "羊车门问题：有3扇关闭的门，一扇门后停着汽车，另外两扇门后是山羊，主持人知道每扇门后是什么。参赛者首先选择一扇门。在开启它之前，主持人会从另外两扇门中打开一扇门，露出门后的山羊。此时，允许参赛者更换自己的选择。请问，参赛者更换选择后，能否增加猜中汽车的机会？请通过设计并编写程序验证，并给出自己的解释。  \n",
    "> 解答：我认为会增加选中汽车的概率。  \n",
    "\n",
    "> 原因如下：若不更换选择，则选手猜中汽车的概率为1/3；若更换选择，如果第一次选择的羊1，更换选择猜中汽车的概率为1/3；如果第一次选择的是羊2，更换选择猜中汽车的概率为1/3；如果第一次选择的是汽车，更换选择后猜中汽车的概率为0，所以更换选择，选手猜中汽车的概率为2/3.  "
   ]
  },
  {
   "cell_type": "code",
   "execution_count": 1,
   "metadata": {},
   "outputs": [
    {
     "name": "stdout",
     "output_type": "stream",
     "text": [
      "请输入模拟次数:1000000\n",
      "更改后选中汽车的概率为 0.666375\n",
      "不改选中汽车的概率为 0.333625\n"
     ]
    }
   ],
   "source": [
    "import random\n",
    "x=eval(input(\"请输入模拟次数:\"))\n",
    "car = 0\n",
    "car1 = 0\n",
    "\n",
    "for i in range (1,x+1):\n",
    "    a = random.randrange(1,4)\n",
    "    b = random.randrange(1,4)\n",
    "\n",
    "    if a==b:\n",
    "        car1 = car1+1\n",
    "    elif a!=b:\n",
    "        car = car+1\n",
    "print(\"更改后选中汽车的概率为\",car/x)\n",
    "print(\"不改选中汽车的概率为\",car1/x)"
   ]
  },
  {
   "cell_type": "code",
   "execution_count": null,
   "metadata": {
    "collapsed": true
   },
   "outputs": [],
   "source": []
  }
 ],
 "metadata": {
  "hide_input": false,
  "kernelspec": {
   "display_name": "Python 3",
   "language": "python",
   "name": "python3"
  },
  "language_info": {
   "codemirror_mode": {
    "name": "ipython",
    "version": 3
   },
   "file_extension": ".py",
   "mimetype": "text/x-python",
   "name": "python",
   "nbconvert_exporter": "python",
   "pygments_lexer": "ipython3",
   "version": "3.6.1"
  },
  "toc": {
   "colors": {
    "hover_highlight": "#DAA520",
    "navigate_num": "#000000",
    "navigate_text": "#333333",
    "running_highlight": "#FF0000",
    "selected_highlight": "#FFD700",
    "sidebar_border": "#EEEEEE",
    "wrapper_background": "#FFFFFF"
   },
   "moveMenuLeft": true,
   "nav_menu": {
    "height": "30px",
    "width": "252px"
   },
   "navigate_menu": true,
   "number_sections": true,
   "sideBar": true,
   "threshold": 4,
   "toc_cell": false,
   "toc_section_display": "block",
   "toc_window_display": false,
   "widenNotebook": false
  }
 },
 "nbformat": 4,
 "nbformat_minor": 1
}
