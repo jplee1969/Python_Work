{
 "cells": [
  {
   "cell_type": "markdown",
   "metadata": {},
   "source": [
    "# 实训一：大数据及机器学习概述"
   ]
  },
  {
   "cell_type": "markdown",
   "metadata": {},
   "source": [
    "- 大数据+机器学习是AlphoGo取胜的关键  \n",
    "北京时间2016年3月15日下午，谷歌人工智能围棋程序AlphaGo与韩国棋手李世石进行最后一轮较量，AlphaGo获得本场比赛胜利，最终双方总比分定格在4：1。\n",
    "![](images/alphago.jpg)\n",
    "- 机器学习多次成为工业界主角\n",
    "![](images/karbov.jpg) ![](images/answer.jpg) ![](images/google.jpg) ![](images/baidu.jpg) ![](images/Siri.jpg)\n",
    "- 机器学习在学术界炙手可热  \n",
    "![](images/hilinton.jpg)![](images/andrewNg.jpg)\n",
    "- 机器学习是人工智能的核心技术\n"
   ]
  },
  {
   "cell_type": "markdown",
   "metadata": {},
   "source": [
    "## 机器学习原理\n",
    "** 机器学习和人类学习的对比：**  \n",
    "![](images/机器学习vs人类学习.png)"
   ]
  },
  {
   "cell_type": "markdown",
   "metadata": {},
   "source": [
    "** 数据挖掘和机器学习的关系 **\n",
    "![](images/数据挖掘和机器学习.png)"
   ]
  },
  {
   "cell_type": "markdown",
   "metadata": {},
   "source": [
    "** 机器学习 vs. 其他学科 **\n",
    "![](images/机器学习vs其他学科.png)"
   ]
  },
  {
   "cell_type": "markdown",
   "metadata": {},
   "source": [
    "** 大数据 vs. 机器学习 **\n",
    "![](images/大数据vs机器学习.png)"
   ]
  },
  {
   "cell_type": "markdown",
   "metadata": {},
   "source": [
    "** It’s not who has the best algorithm wins, it’s who has the most data. (成功的机器学习应用不是拥有最好的算法，而是拥有最多的数据！) **\n",
    "\n",
    "** 机器学习是大数据技术的重要一环，但大数据不仅仅是机器学习 ** \n",
    "- 语言、工具：Python、Java、SQL、R\n",
    "- 软件开发\n",
    "- 概率统计\n",
    "- 分布式计算 MapReduce、Spark、Storm\n",
    "- 云计算\n",
    "- 可视化\n",
    "- ……"
   ]
  },
  {
   "cell_type": "markdown",
   "metadata": {},
   "source": [
    "### 机器学习的分类\n",
    "- 监督学习(Supervised Learning)：也称为有监督学习，是从已标记(labeling)或者说标注(annotating)的训练数据(或者说样本)中来进行推断的机器学习任务。如分类、回归。\n",
    "\n",
    "- 非监督学习(Unsupervised Learning)：也称无监督学习，它的问题是，在未标记的数据中，试图找到隐藏的结构。如聚类、密度估计。\n",
    "\n",
    "- 强化学习(Reinforcement Learning)：强化学习是机器学习中的一个领域，强调如何基于环境而行动，以取得最大化的预期利益。\n",
    "- 半监督学习\n",
    "- 深度学习"
   ]
  },
  {
   "cell_type": "markdown",
   "metadata": {},
   "source": [
    "### 机器学习的基本过程\n",
    "![](images/机器学习基本过程.png)"
   ]
  },
  {
   "cell_type": "markdown",
   "metadata": {},
   "source": [
    "### 机器学习应用实例\n",
    "![](images/应用-人脸识别.png)\n",
    "![](images/应用-视频跟踪.png)\n",
    "![](images/应用-手写识别.png)\n",
    "![](images/应用-推荐系统.png)"
   ]
  },
  {
   "cell_type": "markdown",
   "metadata": {},
   "source": [
    "### 机器学习的实战框架\n",
    "![](images/机器学习实战框架.png)"
   ]
  },
  {
   "cell_type": "markdown",
   "metadata": {},
   "source": [
    "![](images/scikit-learn.png)"
   ]
  },
  {
   "cell_type": "markdown",
   "metadata": {},
   "source": [
    "## Python的scikit-learn库\n",
    "掌握sklearn库中常用机器学习算法的基本调用方法，避免重复造车"
   ]
  },
  {
   "cell_type": "markdown",
   "metadata": {},
   "source": [
    "### scikit-learn中的数据集\n",
    "![](images/数据集.png)"
   ]
  },
  {
   "cell_type": "markdown",
   "metadata": {},
   "source": [
    "### scikit-learn库的基本功能\n",
    "sklearn库的共分为6大部分，分别用于完成分类任务、回归任务、聚类任务、降维任务、 模型选择以及数据的预处理。"
   ]
  },
  {
   "cell_type": "markdown",
   "metadata": {},
   "source": [
    "![](images/分类.png)\n",
    "![](images/回归.png)\n",
    "![](images/聚类.png)\n",
    "![](images/降维.png)"
   ]
  },
  {
   "cell_type": "markdown",
   "metadata": {},
   "source": [
    "## 实例\n",
    "### 乳腺癌数据分类\n",
    "### 鸢尾花数据分类\n",
    "### 波士顿房价回归\n",
    "### 手写数字识别\n",
    "### 消费人群聚类\n",
    "### 红酒质量检测\n",
    "### 垃圾邮件检测\n",
    "### 人脸识别\n",
    "### 泰坦尼克号获救预测"
   ]
  },
  {
   "cell_type": "code",
   "execution_count": null,
   "metadata": {},
   "outputs": [],
   "source": []
  }
 ],
 "metadata": {
  "kernelspec": {
   "display_name": "Python 3",
   "language": "python",
   "name": "python3"
  },
  "language_info": {
   "codemirror_mode": {
    "name": "ipython",
    "version": 3
   },
   "file_extension": ".py",
   "mimetype": "text/x-python",
   "name": "python",
   "nbconvert_exporter": "python",
   "pygments_lexer": "ipython3",
   "version": "3.6.5"
  }
 },
 "nbformat": 4,
 "nbformat_minor": 2
}
