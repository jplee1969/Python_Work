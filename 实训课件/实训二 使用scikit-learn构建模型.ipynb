{
 "cells": [
  {
   "cell_type": "markdown",
   "metadata": {},
   "source": [
    "# 实训二 使用scikit-learn构建模型"
   ]
  },
  {
   "cell_type": "markdown",
   "metadata": {},
   "source": [
    "sklearn是机器学习中一个常用的python第三方模块，对常用的机器学习算法进行了封装  \n",
    "其中包括：  \n",
    "1.分类（Classification）  \n",
    "2.回归（Regression）  \n",
    "3.聚类（Clustering）  \n",
    "4.数据降维（Dimensionality reduction）  \n",
    "5.常用模型（Model selection）  \n",
    "6.数据预处理（Preprocessing）  \n"
   ]
  },
  {
   "cell_type": "markdown",
   "metadata": {},
   "source": [
    "## 1 使用sklearn转换器处理数据"
   ]
  },
  {
   "cell_type": "raw",
   "metadata": {},
   "source": [
    "名称\t数据包\n",
    "鸢尾花数据集\tload_iris()\n",
    "乳腺癌数据集\tload_breast_cancer()\n",
    "手写数字数据集\tload_digits()\n",
    "糖尿病数据集\tload_diabetes()\n",
    "波士顿房价数据集\tload_boston()\n",
    "体能训练数据集\tload_linnerud()\n",
    "图像数据集\tload_sample_image(name)\n"
   ]
  },
  {
   "cell_type": "markdown",
   "metadata": {},
   "source": [
    "这个数据集包含了威斯康辛州记录的569个病人的乳腺癌恶性/良性（1/0）类别型数据（训练目标），以及与之对应的30个维度的生理指标数据；因此这是个非常标准的二类判别数据集。"
   ]
  },
  {
   "cell_type": "code",
   "execution_count": 1,
   "metadata": {},
   "outputs": [
    {
     "name": "stdout",
     "output_type": "stream",
     "text": [
      "breast_cancer数据集的长度为： 5\n",
      "breast_cancer数据集的类型为： <class 'sklearn.utils.Bunch'>\n"
     ]
    }
   ],
   "source": [
    "# 代码 6-1\n",
    "from sklearn.datasets import load_breast_cancer\n",
    "cancer = load_breast_cancer()##将数据集赋值给iris变量\n",
    "print('breast_cancer数据集的长度为：',len(cancer))\n",
    "print('breast_cancer数据集的类型为：',type(cancer))"
   ]
  },
  {
   "cell_type": "code",
   "execution_count": 5,
   "metadata": {},
   "outputs": [
    {
     "data": {
      "text/plain": [
       "array([1.799e+01, 1.038e+01, 1.228e+02, 1.001e+03, 1.184e-01, 2.776e-01,\n",
       "       3.001e-01, 1.471e-01, 2.419e-01, 7.871e-02, 1.095e+00, 9.053e-01,\n",
       "       8.589e+00, 1.534e+02, 6.399e-03, 4.904e-02, 5.373e-02, 1.587e-02,\n",
       "       3.003e-02, 6.193e-03, 2.538e+01, 1.733e+01, 1.846e+02, 2.019e+03,\n",
       "       1.622e-01, 6.656e-01, 7.119e-01, 2.654e-01, 4.601e-01, 1.189e-01])"
      ]
     },
     "execution_count": 5,
     "metadata": {},
     "output_type": "execute_result"
    }
   ],
   "source": [
    "cancer.data[0,:]"
   ]
  },
  {
   "cell_type": "code",
   "execution_count": 2,
   "metadata": {},
   "outputs": [
    {
     "name": "stdout",
     "output_type": "stream",
     "text": [
      "breast_cancer数据集的数据为： \n",
      " [[1.799e+01 1.038e+01 1.228e+02 ... 2.654e-01 4.601e-01 1.189e-01]\n",
      " [2.057e+01 1.777e+01 1.329e+02 ... 1.860e-01 2.750e-01 8.902e-02]\n",
      " [1.969e+01 2.125e+01 1.300e+02 ... 2.430e-01 3.613e-01 8.758e-02]\n",
      " ...\n",
      " [1.660e+01 2.808e+01 1.083e+02 ... 1.418e-01 2.218e-01 7.820e-02]\n",
      " [2.060e+01 2.933e+01 1.401e+02 ... 2.650e-01 4.087e-01 1.240e-01]\n",
      " [7.760e+00 2.454e+01 4.792e+01 ... 0.000e+00 2.871e-01 7.039e-02]]\n",
      "breast_cancer数据集的标签为：\n",
      " [0 0 0 0 0 0 0 0 0 0 0 0 0 0 0 0 0 0 0 1 1 1 0 0 0 0 0 0 0 0 0 0 0 0 0 0 0\n",
      " 1 0 0 0 0 0 0 0 0 1 0 1 1 1 1 1 0 0 1 0 0 1 1 1 1 0 1 0 0 1 1 1 1 0 1 0 0\n",
      " 1 0 1 0 0 1 1 1 0 0 1 0 0 0 1 1 1 0 1 1 0 0 1 1 1 0 0 1 1 1 1 0 1 1 0 1 1\n",
      " 1 1 1 1 1 1 0 0 0 1 0 0 1 1 1 0 0 1 0 1 0 0 1 0 0 1 1 0 1 1 0 1 1 1 1 0 1\n",
      " 1 1 1 1 1 1 1 1 0 1 1 1 1 0 0 1 0 1 1 0 0 1 1 0 0 1 1 1 1 0 1 1 0 0 0 1 0\n",
      " 1 0 1 1 1 0 1 1 0 0 1 0 0 0 0 1 0 0 0 1 0 1 0 1 1 0 1 0 0 0 0 1 1 0 0 1 1\n",
      " 1 0 1 1 1 1 1 0 0 1 1 0 1 1 0 0 1 0 1 1 1 1 0 1 1 1 1 1 0 1 0 0 0 0 0 0 0\n",
      " 0 0 0 0 0 0 0 1 1 1 1 1 1 0 1 0 1 1 0 1 1 0 1 0 0 1 1 1 1 1 1 1 1 1 1 1 1\n",
      " 1 0 1 1 0 1 0 1 1 1 1 1 1 1 1 1 1 1 1 1 1 0 1 1 1 0 1 0 1 1 1 1 0 0 0 1 1\n",
      " 1 1 0 1 0 1 0 1 1 1 0 1 1 1 1 1 1 1 0 0 0 1 1 1 1 1 1 1 1 1 1 1 0 0 1 0 0\n",
      " 0 1 0 0 1 1 1 1 1 0 1 1 1 1 1 0 1 1 1 0 1 1 0 0 1 1 1 1 1 1 0 1 1 1 1 1 1\n",
      " 1 0 1 1 1 1 1 0 1 1 0 1 1 1 1 1 1 1 1 1 1 1 1 0 1 0 0 1 0 1 1 1 1 1 0 1 1\n",
      " 0 1 0 1 1 0 1 0 1 1 1 1 1 1 1 1 0 0 1 1 1 1 1 1 0 1 1 1 1 1 1 1 1 1 1 0 1\n",
      " 1 1 1 1 1 1 0 1 0 1 1 0 1 1 1 1 1 0 0 1 0 1 0 1 1 1 1 1 0 1 1 0 1 0 1 0 0\n",
      " 1 1 1 0 1 1 1 1 1 1 1 1 1 1 1 0 1 0 0 1 1 1 1 1 1 1 1 1 1 1 1 1 1 1 1 1 1\n",
      " 1 1 1 1 1 1 1 0 0 0 0 0 0 1]\n",
      "breast_cancer数据集的特征名为：\n",
      " ['mean radius' 'mean texture' 'mean perimeter' 'mean area'\n",
      " 'mean smoothness' 'mean compactness' 'mean concavity'\n",
      " 'mean concave points' 'mean symmetry' 'mean fractal dimension'\n",
      " 'radius error' 'texture error' 'perimeter error' 'area error'\n",
      " 'smoothness error' 'compactness error' 'concavity error'\n",
      " 'concave points error' 'symmetry error' 'fractal dimension error'\n",
      " 'worst radius' 'worst texture' 'worst perimeter' 'worst area'\n",
      " 'worst smoothness' 'worst compactness' 'worst concavity'\n",
      " 'worst concave points' 'worst symmetry' 'worst fractal dimension']\n",
      "breast_cancer数据集的描述信息为：\n",
      " Breast Cancer Wisconsin (Diagnostic) Database\n",
      "=============================================\n",
      "\n",
      "Notes\n",
      "-----\n",
      "Data Set Characteristics:\n",
      "    :Number of Instances: 569\n",
      "\n",
      "    :Number of Attributes: 30 numeric, predictive attributes and the class\n",
      "\n",
      "    :Attribute Information:\n",
      "        - radius (mean of distances from center to points on the perimeter)\n",
      "        - texture (standard deviation of gray-scale values)\n",
      "        - perimeter\n",
      "        - area\n",
      "        - smoothness (local variation in radius lengths)\n",
      "        - compactness (perimeter^2 / area - 1.0)\n",
      "        - concavity (severity of concave portions of the contour)\n",
      "        - concave points (number of concave portions of the contour)\n",
      "        - symmetry \n",
      "        - fractal dimension (\"coastline approximation\" - 1)\n",
      "\n",
      "        The mean, standard error, and \"worst\" or largest (mean of the three\n",
      "        largest values) of these features were computed for each image,\n",
      "        resulting in 30 features.  For instance, field 3 is Mean Radius, field\n",
      "        13 is Radius SE, field 23 is Worst Radius.\n",
      "\n",
      "        - class:\n",
      "                - WDBC-Malignant\n",
      "                - WDBC-Benign\n",
      "\n",
      "    :Summary Statistics:\n",
      "\n",
      "    ===================================== ====== ======\n",
      "                                           Min    Max\n",
      "    ===================================== ====== ======\n",
      "    radius (mean):                        6.981  28.11\n",
      "    texture (mean):                       9.71   39.28\n",
      "    perimeter (mean):                     43.79  188.5\n",
      "    area (mean):                          143.5  2501.0\n",
      "    smoothness (mean):                    0.053  0.163\n",
      "    compactness (mean):                   0.019  0.345\n",
      "    concavity (mean):                     0.0    0.427\n",
      "    concave points (mean):                0.0    0.201\n",
      "    symmetry (mean):                      0.106  0.304\n",
      "    fractal dimension (mean):             0.05   0.097\n",
      "    radius (standard error):              0.112  2.873\n",
      "    texture (standard error):             0.36   4.885\n",
      "    perimeter (standard error):           0.757  21.98\n",
      "    area (standard error):                6.802  542.2\n",
      "    smoothness (standard error):          0.002  0.031\n",
      "    compactness (standard error):         0.002  0.135\n",
      "    concavity (standard error):           0.0    0.396\n",
      "    concave points (standard error):      0.0    0.053\n",
      "    symmetry (standard error):            0.008  0.079\n",
      "    fractal dimension (standard error):   0.001  0.03\n",
      "    radius (worst):                       7.93   36.04\n",
      "    texture (worst):                      12.02  49.54\n",
      "    perimeter (worst):                    50.41  251.2\n",
      "    area (worst):                         185.2  4254.0\n",
      "    smoothness (worst):                   0.071  0.223\n",
      "    compactness (worst):                  0.027  1.058\n",
      "    concavity (worst):                    0.0    1.252\n",
      "    concave points (worst):               0.0    0.291\n",
      "    symmetry (worst):                     0.156  0.664\n",
      "    fractal dimension (worst):            0.055  0.208\n",
      "    ===================================== ====== ======\n",
      "\n",
      "    :Missing Attribute Values: None\n",
      "\n",
      "    :Class Distribution: 212 - Malignant, 357 - Benign\n",
      "\n",
      "    :Creator:  Dr. William H. Wolberg, W. Nick Street, Olvi L. Mangasarian\n",
      "\n",
      "    :Donor: Nick Street\n",
      "\n",
      "    :Date: November, 1995\n",
      "\n",
      "This is a copy of UCI ML Breast Cancer Wisconsin (Diagnostic) datasets.\n",
      "https://goo.gl/U2Uwz2\n",
      "\n",
      "Features are computed from a digitized image of a fine needle\n",
      "aspirate (FNA) of a breast mass.  They describe\n",
      "characteristics of the cell nuclei present in the image.\n",
      "\n",
      "Separating plane described above was obtained using\n",
      "Multisurface Method-Tree (MSM-T) [K. P. Bennett, \"Decision Tree\n",
      "Construction Via Linear Programming.\" Proceedings of the 4th\n",
      "Midwest Artificial Intelligence and Cognitive Science Society,\n",
      "pp. 97-101, 1992], a classification method which uses linear\n",
      "programming to construct a decision tree.  Relevant features\n",
      "were selected using an exhaustive search in the space of 1-4\n",
      "features and 1-3 separating planes.\n",
      "\n",
      "The actual linear program used to obtain the separating plane\n",
      "in the 3-dimensional space is that described in:\n",
      "[K. P. Bennett and O. L. Mangasarian: \"Robust Linear\n",
      "Programming Discrimination of Two Linearly Inseparable Sets\",\n",
      "Optimization Methods and Software 1, 1992, 23-34].\n",
      "\n",
      "This database is also available through the UW CS ftp server:\n",
      "\n",
      "ftp ftp.cs.wisc.edu\n",
      "cd math-prog/cpo-dataset/machine-learn/WDBC/\n",
      "\n",
      "References\n",
      "----------\n",
      "   - W.N. Street, W.H. Wolberg and O.L. Mangasarian. Nuclear feature extraction \n",
      "     for breast tumor diagnosis. IS&T/SPIE 1993 International Symposium on \n",
      "     Electronic Imaging: Science and Technology, volume 1905, pages 861-870,\n",
      "     San Jose, CA, 1993.\n",
      "   - O.L. Mangasarian, W.N. Street and W.H. Wolberg. Breast cancer diagnosis and \n",
      "     prognosis via linear programming. Operations Research, 43(4), pages 570-577, \n",
      "     July-August 1995.\n",
      "   - W.H. Wolberg, W.N. Street, and O.L. Mangasarian. Machine learning techniques\n",
      "     to diagnose breast cancer from fine-needle aspirates. Cancer Letters 77 (1994) \n",
      "     163-171.\n",
      "\n"
     ]
    }
   ],
   "source": [
    "# 代码 6-2\n",
    "cancer_data = cancer['data']\n",
    "print('breast_cancer数据集的数据为：','\\n',cancer_data)\n",
    "\n",
    "cancer_target = cancer['target'] ## 取出数据集的标签\n",
    "print('breast_cancer数据集的标签为：\\n',cancer_target)\n",
    "\n",
    "cancer_names = cancer['feature_names'] ## 取出数据集的特征名\n",
    "print('breast_cancer数据集的特征名为：\\n',cancer_names)\n",
    "\n",
    "cancer_desc = cancer['DESCR'] ## 取出数据集的描述信息\n",
    "print('breast_cancer数据集的描述信息为：\\n',cancer_desc)"
   ]
  },
  {
   "cell_type": "code",
   "execution_count": 3,
   "metadata": {},
   "outputs": [
    {
     "name": "stdout",
     "output_type": "stream",
     "text": [
      "原始数据集数据的形状为： (569, 30)\n",
      "原始数据集标签的形状为： (569,)\n",
      "训练集数据的形状为： (455, 30)\n",
      "训练集标签的形状为： (455,)\n",
      "测试集数据的形状为： (114, 30)\n",
      "测试集标签的形状为： (114,)\n"
     ]
    }
   ],
   "source": [
    "# 代码 6-3\n",
    "print('原始数据集数据的形状为：',cancer_data.shape)\n",
    "print('原始数据集标签的形状为：',cancer_target.shape)\n",
    "\n",
    "from sklearn.model_selection import train_test_split\n",
    "cancer_data_train, cancer_data_test,cancer_target_train, cancer_target_test = train_test_split(cancer_data, cancer_target, test_size=0.2, random_state=42)\n",
    "print('训练集数据的形状为：',cancer_data_train.shape)\n",
    "print('训练集标签的形状为：',cancer_target_train.shape)\n",
    "print('测试集数据的形状为：',cancer_data_test.shape)\n",
    "print('测试集标签的形状为：',cancer_target_test.shape)"
   ]
  },
  {
   "cell_type": "code",
   "execution_count": 4,
   "metadata": {},
   "outputs": [
    {
     "name": "stdout",
     "output_type": "stream",
     "text": [
      "离差标准化前训练集数据的最小值为： 0.0\n",
      "离差标准化后训练集数据的最小值为： 0.0\n",
      "离差标准化前训练集数据的最大值为： 4254.0\n",
      "离差标准化后训练集数据的最大值为： 1.0000000000000002\n",
      "离差标准化前测试集数据的最小值为： 0.0\n",
      "离差标准化后测试集数据的最小值为： -0.057127602776294695\n",
      "离差标准化前测试集数据的最大值为： 3432.0\n",
      "离差标准化后测试集数据的最大值为： 1.3264399566986453\n"
     ]
    }
   ],
   "source": [
    "# 代码 6-4\n",
    "import numpy as np\n",
    "from sklearn.preprocessing import MinMaxScaler\n",
    "Scaler = MinMaxScaler().fit(cancer_data_train) ##生成规则\n",
    "##将规则应用于训练集\n",
    "cancer_trainScaler = Scaler.transform(cancer_data_train) \n",
    "##将规则应用于测试集\n",
    "cancer_testScaler = Scaler.transform(cancer_data_test)\n",
    "print('离差标准化前训练集数据的最小值为：',np.min(cancer_data_train))\n",
    "print('离差标准化后训练集数据的最小值为：',np.min(cancer_trainScaler))\n",
    "print('离差标准化前训练集数据的最大值为：',np.max(cancer_data_train))\n",
    "print('离差标准化后训练集数据的最大值为：',np.max(cancer_trainScaler))\n",
    "print('离差标准化前测试集数据的最小值为：',np.min(cancer_data_test))\n",
    "print('离差标准化后测试集数据的最小值为：',np.min(cancer_testScaler))\n",
    "print('离差标准化前测试集数据的最大值为：',np.max(cancer_data_test))\n",
    "print('离差标准化后测试集数据的最大值为：',np.max(cancer_testScaler))"
   ]
  },
  {
   "cell_type": "code",
   "execution_count": 5,
   "metadata": {},
   "outputs": [
    {
     "name": "stdout",
     "output_type": "stream",
     "text": [
      "PCA降维前训练集数据的形状为： (455, 30)\n",
      "PCA降维后训练集数据的形状为： (455, 2)\n",
      "PCA降维前测试集数据的形状为： (114, 30)\n",
      "PCA降维后测试集数据的形状为： (114, 2)\n"
     ]
    }
   ],
   "source": [
    "# 代码 6-5\n",
    "from sklearn.decomposition import PCA\n",
    "pca_model = PCA(n_components=2).fit(cancer_trainScaler) ##生成规则\n",
    "cancer_trainPca = pca_model.transform(cancer_trainScaler) ##将规则应用于训练集\n",
    "cancer_testPca = pca_model.transform(cancer_testScaler) ##将规则应用于测试集\n",
    "print('PCA降维前训练集数据的形状为：',cancer_trainScaler.shape)\n",
    "print('PCA降维后训练集数据的形状为：',cancer_trainPca.shape)\n",
    "print('PCA降维前测试集数据的形状为：',cancer_testScaler.shape)\n",
    "print('PCA降维后测试集数据的形状为：',cancer_testPca.shape)"
   ]
  },
  {
   "cell_type": "code",
   "execution_count": 7,
   "metadata": {},
   "outputs": [
    {
     "data": {
      "text/plain": [
       "<matplotlib.collections.PathCollection at 0x17a92489390>"
      ]
     },
     "execution_count": 7,
     "metadata": {},
     "output_type": "execute_result"
    },
    {
     "data": {
      "image/png": "[encoded data removed]",
      "text/plain": [
       "<Figure size 576x432 with 1 Axes>"
      ]
     },
     "metadata": {},
     "output_type": "display_data"
    }
   ],
   "source": [
    "## 可视化\n",
    "%matplotlib inline\n",
    "import matplotlib.pyplot as plt\n",
    "plt.figure(figsize=(8,6))\n",
    "plt.style.use(\"ggplot\")\n",
    "plt.scatter(cancer_data_train[:,0], cancer_data_train[:,1], c=cancer_target_train)"
   ]
  },
  {
   "cell_type": "code",
   "execution_count": 6,
   "metadata": {},
   "outputs": [
    {
     "name": "stdout",
     "output_type": "stream",
     "text": [
      "boston数据集数据的形状为： (506, 13)\n",
      "boston数据集标签的形状为： (506,)\n",
      "boston数据集特征名的形状为： (13,)\n"
     ]
    }
   ],
   "source": [
    "###############################################################################\n",
    "#######################            任务实现             #######################\n",
    "###############################################################################\n",
    "\n",
    "# 代码 6-6\n",
    "from sklearn.datasets import load_boston\n",
    "boston = load_boston()\n",
    "boston_data = boston['data']\n",
    "boston_target = boston['target']\n",
    "boston_names = boston['feature_names']\n",
    "print('boston数据集数据的形状为：',boston_data.shape)\n",
    "print('boston数据集标签的形状为：',boston_target.shape)\n",
    "print('boston数据集特征名的形状为：',boston_names.shape)"
   ]
  },
  {
   "cell_type": "code",
   "execution_count": 7,
   "metadata": {},
   "outputs": [
    {
     "name": "stdout",
     "output_type": "stream",
     "text": [
      "训练集数据的形状为： (404, 13)\n",
      "训练集标签的形状为： (404,)\n",
      "测试集数据的形状为： (102, 13)\n",
      "测试集标签的形状为： (102,)\n"
     ]
    }
   ],
   "source": [
    "# 代码 6-7\n",
    "from sklearn.model_selection import train_test_split\n",
    "boston_data_train, boston_data_test, \\\n",
    "boston_target_train, boston_target_test = \\\n",
    "train_test_split(boston_data, boston_target, \n",
    "    test_size=0.2, random_state=42)\n",
    "print('训练集数据的形状为：',boston_data_train.shape)\n",
    "print('训练集标签的形状为：',boston_target_train.shape)\n",
    "print('测试集数据的形状为：',boston_data_test.shape)\n",
    "print('测试集标签的形状为：',boston_target_test.shape)"
   ]
  },
  {
   "cell_type": "code",
   "execution_count": 8,
   "metadata": {},
   "outputs": [
    {
     "name": "stdout",
     "output_type": "stream",
     "text": [
      "标准差标准化后训练集数据的方差为： 1.0\n",
      "标准差标准化后训练集数据的均值为： 1.35898739161e-15\n",
      "标准差标准化后测试集数据的方差为： 0.9475364908\n",
      "标准差标准化后测试集数据的均值为： 0.0307530028937\n"
     ]
    }
   ],
   "source": [
    "# 代码 6-8\n",
    "from sklearn.preprocessing import StandardScaler\n",
    "stdScale = StandardScaler().fit(boston_data_train) ## 生成规则\n",
    "## 将规则应用于训练集\n",
    "boston_trainScaler = stdScale.transform(boston_data_train) \n",
    "## 将规则应用于测试集\n",
    "boston_testScaler = stdScale.transform(boston_data_test)\n",
    "print('标准差标准化后训练集数据的方差为：',np.var(boston_trainScaler))\n",
    "print('标准差标准化后训练集数据的均值为：',\n",
    "    np.mean(boston_trainScaler))\n",
    "print('标准差标准化后测试集数据的方差为：',np.var(boston_testScaler))\n",
    "print('标准差标准化后测试集数据的均值为：',np.mean(boston_testScaler))"
   ]
  },
  {
   "cell_type": "code",
   "execution_count": 9,
   "metadata": {},
   "outputs": [
    {
     "name": "stdout",
     "output_type": "stream",
     "text": [
      "降维后boston数据集数据测试集的形状为： (404, 5)\n",
      "降维后boston数据集数据训练集的形状为： (102, 5)\n"
     ]
    }
   ],
   "source": [
    "# 代码 6-9\n",
    "from sklearn.decomposition import PCA\n",
    "pca = PCA(n_components=5).fit(boston_trainScaler) ## 生成规则\n",
    "## 将规则应用于训练集\n",
    "boston_trainPca = pca.transform(boston_trainScaler) \n",
    "## 将规则应用于测试集\n",
    "boston_testPca = pca.transform(boston_testScaler)\n",
    "print('降维后boston数据集数据测试集的形状为：',boston_trainPca.shape)\n",
    "print('降维后boston数据集数据训练集的形状为：',boston_testPca.shape)"
   ]
  },
  {
   "cell_type": "markdown",
   "metadata": {},
   "source": [
    "## 2 构建并评价聚类模型"
   ]
  },
  {
   "cell_type": "code",
   "execution_count": 1,
   "metadata": {},
   "outputs": [
    {
     "name": "stdout",
     "output_type": "stream",
     "text": [
      "构建的K-Means模型为：\n",
      " KMeans(algorithm='auto', copy_x=True, init='k-means++', max_iter=300,\n",
      "    n_clusters=3, n_init=10, n_jobs=1, precompute_distances='auto',\n",
      "    random_state=123, tol=0.0001, verbose=0)\n",
      "花瓣花萼长度宽度全为1.5的鸢尾花预测类别为： 0\n"
     ]
    }
   ],
   "source": [
    "# 代码 6-10\n",
    "from sklearn.datasets import load_iris\n",
    "from sklearn.preprocessing import MinMaxScaler\n",
    "from sklearn.cluster import KMeans\n",
    "iris = load_iris()\n",
    "iris_data = iris['data'] ##提取数据集中的特征\n",
    "iris_target = iris['target'] ## 提取数据集中的标签\n",
    "iris_names = iris['feature_names'] ### 提取特征名\n",
    "scale = MinMaxScaler().fit(iris_data)## 训练规则\n",
    "iris_dataScale = scale.transform(iris_data) ## 应用规则\n",
    "kmeans = KMeans(n_clusters = 3,\n",
    "    random_state=123).fit(iris_dataScale) ##构建并训练模型\n",
    "print('构建的K-Means模型为：\\n',kmeans)\n",
    "\n",
    "result = kmeans.predict([[1.5,1.5,1.5,1.5]])\n",
    "print('花瓣花萼长度宽度全为1.5的鸢尾花预测类别为：', result[0])"
   ]
  },
  {
   "cell_type": "code",
   "execution_count": 5,
   "metadata": {},
   "outputs": [
    {
     "name": "stdout",
     "output_type": "stream",
     "text": [
      "[0 0 0 0 0 0 0 0 0 0 0 0 0 0 0 0 0 0 0 0 0 0 0 0 0 0 0 0 0 0 0 0 0 0 0 0 0\n",
      " 0 0 0 0 0 0 0 0 0 0 0 0 0 1 1 2 1 1 1 1 1 1 1 1 1 1 1 1 1 1 1 1 1 1 1 1 1\n",
      " 1 1 1 2 1 1 1 1 1 1 1 1 1 1 1 1 1 1 1 1 1 1 1 1 1 1 2 1 2 2 2 2 1 2 2 2 2\n",
      " 2 2 1 1 2 2 2 2 1 2 1 2 1 2 2 1 1 2 2 2 2 2 1 2 2 2 2 1 2 2 2 1 2 2 2 1 2\n",
      " 2 1]\n",
      "========================================\n",
      "[0 0 0 0 0 0 0 0 0 0 0 0 0 0 0 0 0 0 0 0 0 0 0 0 0 0 0 0 0 0 0 0 0 0 0 0 0\n",
      " 0 0 0 0 0 0 0 0 0 0 0 0 0 1 1 1 1 1 1 1 1 1 1 1 1 1 1 1 1 1 1 1 1 1 1 1 1\n",
      " 1 1 1 1 1 1 1 1 1 1 1 1 1 1 1 1 1 1 1 1 1 1 1 1 1 1 2 2 2 2 2 2 2 2 2 2 2\n",
      " 2 2 2 2 2 2 2 2 2 2 2 2 2 2 2 2 2 2 2 2 2 2 2 2 2 2 2 2 2 2 2 2 2 2 2 2 2\n",
      " 2 2]\n",
      "134\n"
     ]
    }
   ],
   "source": [
    "from sklearn import datasets\n",
    "from sklearn.cluster import KMeans\n",
    "iris = datasets.load_iris()\n",
    "X = iris.data\n",
    "y = iris.target\n",
    " \n",
    "clf=KMeans(n_clusters=3)\n",
    "model=clf.fit(X)\n",
    " \n",
    "predicted=model.predict(X)\n",
    "print(predicted)\n",
    "print(\"=\"*40)\n",
    "print(y)\n",
    "print(sum(predicted==y))"
   ]
  },
  {
   "cell_type": "code",
   "execution_count": 11,
   "metadata": {},
   "outputs": [
    {
     "data": {
      "image/png": "[encoded data removed]",
      "text/plain": [
       "<matplotlib.figure.Figure at 0x28c15892160>"
      ]
     },
     "metadata": {},
     "output_type": "display_data"
    }
   ],
   "source": [
    "# 代码 6-11\n",
    "import pandas as pd\n",
    "from sklearn.manifold import TSNE\n",
    "import matplotlib.pyplot as plt\n",
    "##使用TSNE进行数据降维,降成两维\n",
    "tsne = TSNE(n_components=2,init='random',\n",
    "    random_state=177).fit(iris_data)\n",
    "df=pd.DataFrame(tsne.embedding_) ##将原始数据转换为DataFrame\n",
    "df['labels'] = kmeans.labels_ ##将聚类结果存储进df数据表\n",
    "##提取不同标签的数据\n",
    "df1 = df[df['labels']==0]\n",
    "df2 = df[df['labels']==1] \n",
    "df3 = df[df['labels']==2] \n",
    "## 绘制图形\n",
    "fig = plt.figure(figsize=(9,6)) ##设定空白画布，并制定大小\n",
    "##用不同的颜色表示不同数据\n",
    "plt.plot(df1[0],df1[1],'bo',df2[0],df2[1],'r*',\n",
    "    df3[0],df3[1],'gD')\n",
    "plt.savefig('tmp/聚类结果.png') \n",
    "plt.show() ##显示图片"
   ]
  },
  {
   "cell_type": "code",
   "execution_count": 12,
   "metadata": {},
   "outputs": [
    {
     "name": "stdout",
     "output_type": "stream",
     "text": [
      "iris数据聚2类FMI评价分值为：0.750473\n",
      "iris数据聚3类FMI评价分值为：0.820808\n",
      "iris数据聚4类FMI评价分值为：0.753970\n",
      "iris数据聚5类FMI评价分值为：0.725483\n",
      "iris数据聚6类FMI评价分值为：0.600691\n"
     ]
    }
   ],
   "source": [
    "# 代码 6-12\n",
    "from sklearn.metrics import fowlkes_mallows_score\n",
    "for i in range(2,7):\n",
    "    ##构建并训练模型\n",
    "    kmeans = KMeans(n_clusters = i,random_state=123).fit(iris_data)\n",
    "    score = fowlkes_mallows_score(iris_target,kmeans.labels_)\n",
    "    print('iris数据聚%d类FMI评价分值为：%f' %(i,score))"
   ]
  },
  {
   "cell_type": "code",
   "execution_count": 13,
   "metadata": {},
   "outputs": [
    {
     "data": {
      "image/png": "[encoded data removed]",
      "text/plain": [
       "<matplotlib.figure.Figure at 0x28c1312d048>"
      ]
     },
     "metadata": {},
     "output_type": "display_data"
    }
   ],
   "source": [
    "# 代码 6-13\n",
    "from sklearn.metrics import silhouette_score\n",
    "import matplotlib.pyplot as plt\n",
    "silhouettteScore = []\n",
    "for i in range(2,15):\n",
    "    ##构建并训练模型\n",
    "    kmeans = KMeans(n_clusters = i,random_state=123).fit(iris_data)\n",
    "    score = silhouette_score(iris_data,kmeans.labels_)\n",
    "    silhouettteScore.append(score)\n",
    "plt.figure(figsize=(10,6))\n",
    "plt.plot(range(2,15),silhouettteScore,linewidth=1.5, linestyle=\"-\")\n",
    "plt.show()"
   ]
  },
  {
   "cell_type": "code",
   "execution_count": 14,
   "metadata": {},
   "outputs": [
    {
     "name": "stdout",
     "output_type": "stream",
     "text": [
      "iris数据聚2类calinski_harabaz指数为：513.303843\n",
      "iris数据聚3类calinski_harabaz指数为：560.399924\n",
      "iris数据聚4类calinski_harabaz指数为：529.120719\n",
      "iris数据聚5类calinski_harabaz指数为：494.094382\n",
      "iris数据聚6类calinski_harabaz指数为：474.753604\n"
     ]
    }
   ],
   "source": [
    "# 代码 6-14\n",
    "from sklearn.metrics import calinski_harabaz_score\n",
    "for i in range(2,7):\n",
    "    ##构建并训练模型\n",
    "    kmeans = KMeans(n_clusters = i,random_state=123).fit(iris_data)\n",
    "    score = calinski_harabaz_score(iris_data,kmeans.labels_)\n",
    "    print('iris数据聚%d类calinski_harabaz指数为：%f'%(i,score))"
   ]
  },
  {
   "cell_type": "code",
   "execution_count": 16,
   "metadata": {},
   "outputs": [
    {
     "name": "stdout",
     "output_type": "stream",
     "text": [
      "数据集形状为： (210, 8)\n",
      "构建的KM-eans模型为：\n",
      " KMeans(algorithm='auto', copy_x=True, init='k-means++', max_iter=300,\n",
      "    n_clusters=3, n_init=10, n_jobs=1, precompute_distances='auto',\n",
      "    random_state=42, tol=0.0001, verbose=0)\n"
     ]
    }
   ],
   "source": [
    "###############################################################################\n",
    "#######################            任务实现             #######################\n",
    "###############################################################################\n",
    "\n",
    "# 代码 6-15\n",
    "import pandas as pd\n",
    "from sklearn.preprocessing import StandardScaler\n",
    "from sklearn.cluster import KMeans\n",
    "seeds = pd.read_csv('data/seeds_dataset.txt',sep = '\\t')\n",
    "print('数据集形状为：', seeds.shape)\n",
    "## 处理数据\n",
    "seeds_data = seeds.iloc[:,:7].values\n",
    "seeds_target = seeds.iloc[:,7].values\n",
    "sees_names = seeds.columns[:7]\n",
    "stdScale = StandardScaler().fit(seeds_data)\n",
    "seeds_dataScale = stdScale.transform(seeds_data)\n",
    "##构建并训练模型\n",
    "kmeans = KMeans(n_clusters = 3,random_state=42).fit(seeds_data)\n",
    "print('构建的KM-eans模型为：\\n',kmeans)"
   ]
  },
  {
   "cell_type": "code",
   "execution_count": 17,
   "metadata": {},
   "outputs": [
    {
     "name": "stdout",
     "output_type": "stream",
     "text": [
      "seeds数据聚2类calinski_harabaz指数为：351.179992\n",
      "seeds数据聚3类calinski_harabaz指数为：375.804961\n",
      "seeds数据聚4类calinski_harabaz指数为：327.835320\n",
      "seeds数据聚5类calinski_harabaz指数为：310.331840\n",
      "seeds数据聚6类calinski_harabaz指数为：302.473069\n"
     ]
    }
   ],
   "source": [
    "# 代码 6-16\n",
    "from sklearn.metrics import calinski_harabaz_score\n",
    "for i in range(2,7):\n",
    "    ##构建并训练模型\n",
    "    kmeans = KMeans(n_clusters = i,random_state=12).fit(seeds_data)\n",
    "    score = calinski_harabaz_score(seeds_data,kmeans.labels_)\n",
    "    print('seeds数据聚%d类calinski_harabaz指数为：%f'%(i,score))"
   ]
  },
  {
   "cell_type": "markdown",
   "metadata": {},
   "source": [
    "## 3 构建并评价分类模型"
   ]
  },
  {
   "cell_type": "code",
   "execution_count": 18,
   "metadata": {},
   "outputs": [
    {
     "name": "stdout",
     "output_type": "stream",
     "text": [
      "建立的SVM模型为：\n",
      " SVC(C=1.0, cache_size=200, class_weight=None, coef0=0.0,\n",
      "  decision_function_shape='ovr', degree=3, gamma='auto', kernel='rbf',\n",
      "  max_iter=-1, probability=False, random_state=None, shrinking=True,\n",
      "  tol=0.001, verbose=False)\n",
      "预测前20个结果为：\n",
      " [1 0 0 0 1 1 1 1 1 1 1 1 0 1 1 1 0 0 1 1]\n"
     ]
    }
   ],
   "source": [
    "# 代码 6-17\n",
    "## 加载所需的函数,\n",
    "import numpy as np\n",
    "from sklearn.datasets import load_breast_cancer\n",
    "from sklearn.svm import SVC\n",
    "from sklearn.model_selection import train_test_split\n",
    "from sklearn.preprocessing import StandardScaler\n",
    "cancer = load_breast_cancer()\n",
    "cancer_data = cancer['data']\n",
    "cancer_target = cancer['target']\n",
    "cancer_names = cancer['feature_names']\n",
    "## 将数据划分为训练集测试集\n",
    "cancer_data_train,cancer_data_test, \\\n",
    "cancer_target_train,cancer_target_test = \\\n",
    "train_test_split(cancer_data,cancer_target,\n",
    "      test_size = 0.2,random_state = 22)\n",
    "## 数据标准化\n",
    "stdScaler = StandardScaler().fit(cancer_data_train)\n",
    "cancer_trainStd = stdScaler.transform(cancer_data_train)\n",
    "cancer_testStd = stdScaler.transform(cancer_data_test)\n",
    "## 建立SVM模型\n",
    "svm = SVC().fit(cancer_trainStd,cancer_target_train)\n",
    "print('建立的SVM模型为：\\n',svm)\n",
    "\n",
    "\n",
    "## 预测训练集结果\n",
    "cancer_target_pred = svm.predict(cancer_testStd)\n",
    "print('预测前20个结果为：\\n',cancer_target_pred[:20])"
   ]
  },
  {
   "cell_type": "code",
   "execution_count": 19,
   "metadata": {},
   "outputs": [
    {
     "name": "stdout",
     "output_type": "stream",
     "text": [
      "预测对的结果数目为： 111\n",
      "预测错的的结果数目为： 3\n",
      "预测结果准确率为： 0.973684210526\n"
     ]
    }
   ],
   "source": [
    "# 代码 6-18\n",
    "## 求出预测和真实一样的数目\n",
    "true = np.sum(cancer_target_pred == cancer_target_test )\n",
    "print('预测对的结果数目为：', true)\n",
    "print('预测错的的结果数目为：', cancer_target_test.shape[0]-true)\n",
    "print('预测结果准确率为：', true/cancer_target_test.shape[0])"
   ]
  },
  {
   "cell_type": "code",
   "execution_count": 20,
   "metadata": {},
   "outputs": [
    {
     "name": "stdout",
     "output_type": "stream",
     "text": [
      "使用SVM预测breast_cancer数据的准确率为： 0.973684210526\n",
      "使用SVM预测breast_cancer数据的精确率为： 0.959459459459\n",
      "使用SVM预测breast_cancer数据的召回率为： 1.0\n",
      "使用SVM预测breast_cancer数据的F1值为： 0.979310344828\n",
      "使用SVM预测breast_cancer数据的Cohen’s Kappa系数为： 0.943208236466\n"
     ]
    }
   ],
   "source": [
    "# 代码 6-19\n",
    "from sklearn.metrics import accuracy_score,precision_score, \\\n",
    "recall_score,f1_score,cohen_kappa_score\n",
    "print('使用SVM预测breast_cancer数据的准确率为：',\n",
    "      accuracy_score(cancer_target_test,cancer_target_pred))\n",
    "print('使用SVM预测breast_cancer数据的精确率为：',\n",
    "      precision_score(cancer_target_test,cancer_target_pred))\n",
    "print('使用SVM预测breast_cancer数据的召回率为：',\n",
    "      recall_score(cancer_target_test,cancer_target_pred))\n",
    "print('使用SVM预测breast_cancer数据的F1值为：',\n",
    "      f1_score(cancer_target_test,cancer_target_pred))\n",
    "print('使用SVM预测breast_cancer数据的Cohen’s Kappa系数为：',\n",
    "      cohen_kappa_score(cancer_target_test,cancer_target_pred))"
   ]
  },
  {
   "cell_type": "code",
   "execution_count": 21,
   "metadata": {},
   "outputs": [
    {
     "name": "stdout",
     "output_type": "stream",
     "text": [
      "使用SVM预测iris数据的分类报告为： \n",
      "              precision    recall  f1-score   support\n",
      "\n",
      "          0       1.00      0.93      0.96        43\n",
      "          1       0.96      1.00      0.98        71\n",
      "\n",
      "avg / total       0.97      0.97      0.97       114\n",
      "\n"
     ]
    }
   ],
   "source": [
    "# 代码 6-20\n",
    "from sklearn.metrics import classification_report\n",
    "print('使用SVM预测iris数据的分类报告为：','\\n',\n",
    "      classification_report(cancer_target_test,\n",
    "            cancer_target_pred))"
   ]
  },
  {
   "cell_type": "code",
   "execution_count": 22,
   "metadata": {},
   "outputs": [
    {
     "data": {
      "image/png": "[encoded data removed]",
      "text/plain": [
       "<matplotlib.figure.Figure at 0x28c15d29240>"
      ]
     },
     "metadata": {},
     "output_type": "display_data"
    }
   ],
   "source": [
    "# 代码 6-21\n",
    "from sklearn.metrics import roc_curve\n",
    "import matplotlib.pyplot as plt\n",
    "## 求出ROC曲线的x轴和y轴\n",
    "fpr, tpr, thresholds = \\\n",
    "roc_curve(cancer_target_test,cancer_target_pred)\n",
    "plt.figure(figsize=(10,6))\n",
    "plt.xlim(0,1) ##设定x轴的范围\n",
    "plt.ylim(0.0,1.1) ## 设定y轴的范围\n",
    "plt.xlabel('False Postive Rate')\n",
    "plt.ylabel('True Postive Rate')\n",
    "plt.plot(fpr,tpr,linewidth=2, linestyle=\"-\",color='red')\n",
    "plt.show()"
   ]
  },
  {
   "cell_type": "code",
   "execution_count": 23,
   "metadata": {},
   "outputs": [
    {
     "name": "stderr",
     "output_type": "stream",
     "text": [
      "D:\\Anaconda\\lib\\site-packages\\sklearn\\model_selection\\_split.py:2010: FutureWarning: From version 0.21, test_size will always complement train_size unless both are specified.\n",
      "  FutureWarning)\n"
     ]
    },
    {
     "name": "stdout",
     "output_type": "stream",
     "text": [
      "建立的SVM模型为： \n",
      " SVC(C=1.0, cache_size=200, class_weight=None, coef0=0.0,\n",
      "  decision_function_shape='ovr', degree=3, gamma='auto', kernel='rbf',\n",
      "  max_iter=-1, probability=False, random_state=None, shrinking=True,\n",
      "  tol=0.001, verbose=False)\n"
     ]
    }
   ],
   "source": [
    "###############################################################################\n",
    "#######################           任务实现             #######################\n",
    "###############################################################################\n",
    "\n",
    "# 代码 6-22\n",
    "import pandas as pd\n",
    "from sklearn.svm import SVC\n",
    "from sklearn.metrics import classification_report\n",
    "from sklearn.model_selection import train_test_split\n",
    "from sklearn.preprocessing import StandardScaler\n",
    "abalone = pd.read_csv('data/abalone.data',sep=',')\n",
    "## 将数据和标签拆开\n",
    "abalone_data = abalone.iloc[:,:8]\n",
    "abalone_target = abalone.iloc[:,8]\n",
    "## 连续型特征离散化\n",
    "sex = pd.get_dummies(abalone_data['sex'])\n",
    "abalone_data = pd.concat([abalone_data,sex],axis = 1 )\n",
    "abalone_data.drop('sex',axis = 1,inplace = True)\n",
    "## 划分训练集，测试集\n",
    "abalone_train,abalone_test, \\\n",
    "abalone_target_train,abalone_target_test = \\\n",
    "train_test_split(abalone_data,abalone_target,\n",
    "      train_size = 0.8,random_state = 42) \n",
    "## 标准化\n",
    "stdScaler = StandardScaler().fit(abalone_train)\n",
    "abalone_std_train = stdScaler.transform(abalone_train)\n",
    "abalone_std_test = stdScaler.transform(abalone_test)\n",
    "## 建模\n",
    "svm_abalone = SVC().fit(abalone_std_train,abalone_target_train)\n",
    "print('建立的SVM模型为：','\\n',svm_abalone)"
   ]
  },
  {
   "cell_type": "code",
   "execution_count": 24,
   "metadata": {},
   "outputs": [
    {
     "name": "stdout",
     "output_type": "stream",
     "text": [
      "abalone数据集的SVM分类报告为：\n",
      "              precision    recall  f1-score   support\n",
      "\n",
      "          3       0.00      0.00      0.00         3\n",
      "          4       0.45      0.69      0.55        13\n",
      "          5       0.54      0.22      0.31        32\n",
      "          6       0.40      0.33      0.36        48\n",
      "          7       0.41      0.44      0.42        84\n",
      "          8       0.37      0.36      0.37        99\n",
      "          9       0.28      0.57      0.38       142\n",
      "         10       0.24      0.33      0.28       139\n",
      "         11       0.25      0.25      0.25        93\n",
      "         12       0.00      0.00      0.00        51\n",
      "         13       0.00      0.00      0.00        31\n",
      "         14       0.00      0.00      0.00        26\n",
      "         15       0.00      0.00      0.00        21\n",
      "         16       0.00      0.00      0.00        13\n",
      "         17       0.00      0.00      0.00         8\n",
      "         18       0.00      0.00      0.00        12\n",
      "         19       0.00      0.00      0.00         7\n",
      "         20       0.00      0.00      0.00         4\n",
      "         21       0.00      0.00      0.00         3\n",
      "         22       0.00      0.00      0.00         3\n",
      "         23       0.00      0.00      0.00         4\n",
      "\n",
      "avg / total       0.25      0.31      0.26       836\n",
      "\n"
     ]
    },
    {
     "name": "stderr",
     "output_type": "stream",
     "text": [
      "D:\\Anaconda\\lib\\site-packages\\sklearn\\metrics\\classification.py:1135: UndefinedMetricWarning: Precision and F-score are ill-defined and being set to 0.0 in labels with no predicted samples.\n",
      "  'precision', 'predicted', average, warn_for)\n"
     ]
    }
   ],
   "source": [
    "# 代码 6-23\n",
    "abalone_target_pred = svm_abalone.predict(abalone_std_test)\n",
    "print('abalone数据集的SVM分类报告为：\\n',\n",
    "      classification_report(abalone_target_test,abalone_target_pred))"
   ]
  },
  {
   "cell_type": "markdown",
   "metadata": {},
   "source": [
    "## 4 构建并评价回归模型"
   ]
  },
  {
   "cell_type": "code",
   "execution_count": 25,
   "metadata": {},
   "outputs": [
    {
     "name": "stdout",
     "output_type": "stream",
     "text": [
      "建立的LinearRegression模型为： \n",
      " LinearRegression(copy_X=True, fit_intercept=True, n_jobs=1, normalize=False)\n",
      "预测前20个结果为： \n",
      " [ 21.12953164  19.67578799  22.01735047  24.62046819  14.45164813\n",
      "  23.32325459  16.6468677   14.9175848   33.58466804  17.48328609\n",
      "  25.50385719  36.60215179  25.95309333  28.48503161  19.34928078\n",
      "  20.16966217  25.9788081   18.25959831  16.52754056  17.08448854]\n"
     ]
    }
   ],
   "source": [
    "# 代码 6-24\n",
    "##加载所需函数\n",
    "from sklearn.linear_model import LinearRegression\n",
    "from sklearn.datasets import load_boston\n",
    "from sklearn.model_selection import train_test_split\n",
    "## 加载boston数据\n",
    "boston = load_boston()\n",
    "X = boston['data']\n",
    "y = boston['target']\n",
    "names = boston['feature_names']\n",
    "## 将数据划分为训练集测试集\n",
    "X_train,X_test,y_train,y_test = train_test_split(X,y,test_size = 0.2,random_state=125)\n",
    "## 建立线性回归模型\n",
    "clf = LinearRegression().fit(X_train,y_train)\n",
    "print('建立的LinearRegression模型为：','\\n',clf)\n",
    "\n",
    "## 预测训练集结果\n",
    "y_pred = clf.predict(X_test)\n",
    "print('预测前20个结果为：','\\n',y_pred[:20])"
   ]
  },
  {
   "cell_type": "code",
   "execution_count": 26,
   "metadata": {},
   "outputs": [
    {
     "data": {
      "image/png": "[encoded data removed]",
      "text/plain": [
       "<matplotlib.figure.Figure at 0x28c15cf3be0>"
      ]
     },
     "metadata": {},
     "output_type": "display_data"
    }
   ],
   "source": [
    "# 代码 6-25\n",
    "import matplotlib.pyplot as plt\n",
    "from matplotlib import rcParams\n",
    "rcParams['font.sans-serif'] = 'SimHei'\n",
    "fig = plt.figure(figsize=(10,6)) ##设定空白画布，并制定大小\n",
    "##用不同的颜色表示不同数据\n",
    "plt.plot(range(y_test.shape[0]),y_test,color=\"blue\", linewidth=1.5, linestyle=\"-\")\n",
    "plt.plot(range(y_test.shape[0]),y_pred,color=\"red\", linewidth=1.5, linestyle=\"-.\")\n",
    "plt.legend(['真实值','预测值'])\n",
    "plt.savefig('tmp/聚类结果.png') \n",
    "plt.show() ##显示图片"
   ]
  },
  {
   "cell_type": "code",
   "execution_count": 27,
   "metadata": {},
   "outputs": [
    {
     "name": "stdout",
     "output_type": "stream",
     "text": [
      "Boston数据线性回归模型的平均绝对误差为： 3.37764269736\n",
      "Boston数据线性回归模型的均方误差为： 31.1505966769\n",
      "Boston数据线性回归模型的中值绝对误差为： 1.77742131574\n",
      "Boston数据线性回归模型的可解释方差值为： 0.710594962628\n",
      "Boston数据线性回归模型的R方值为： 0.706895422578\n"
     ]
    }
   ],
   "source": [
    "# 代码 6-26\n",
    "from sklearn.metrics import explained_variance_score,\\\n",
    "mean_absolute_error,\\\n",
    "mean_squared_error,\\\n",
    "median_absolute_error,r2_score\n",
    "print('Boston数据线性回归模型的平均绝对误差为：',\n",
    "     mean_absolute_error(y_test,y_pred))\n",
    "print('Boston数据线性回归模型的均方误差为：',\n",
    "     mean_squared_error(y_test,y_pred))\n",
    "print('Boston数据线性回归模型的中值绝对误差为：',\n",
    "     median_absolute_error(y_test,y_pred))\n",
    "print('Boston数据线性回归模型的可解释方差值为：',\n",
    "     explained_variance_score(y_test,y_pred))\n",
    "print('Boston数据线性回归模型的R方值为：',\n",
    "     r2_score(y_test,y_pred))"
   ]
  },
  {
   "cell_type": "code",
   "execution_count": 29,
   "metadata": {},
   "outputs": [
    {
     "name": "stdout",
     "output_type": "stream",
     "text": [
      "建立的梯度提升回归模型为： \n",
      " GradientBoostingRegressor(alpha=0.9, criterion='friedman_mse', init=None,\n",
      "             learning_rate=0.1, loss='ls', max_depth=3, max_features=None,\n",
      "             max_leaf_nodes=None, min_impurity_decrease=0.0,\n",
      "             min_impurity_split=None, min_samples_leaf=1,\n",
      "             min_samples_split=2, min_weight_fraction_leaf=0.0,\n",
      "             n_estimators=100, presort='auto', random_state=None,\n",
      "             subsample=1.0, verbose=0, warm_start=False)\n"
     ]
    }
   ],
   "source": [
    "###############################################################################\n",
    "#######################           任务实现             #######################\n",
    "###############################################################################\n",
    "\n",
    "# 代码 6-27\n",
    "import pandas as pd\n",
    "from sklearn.ensemble import GradientBoostingRegressor\n",
    "from sklearn.model_selection import train_test_split\n",
    "house = pd.read_csv('data/cal_housing.data',sep=',')\n",
    "house_data = house.iloc[:,:-1]\n",
    "house_target = house.iloc[:,-1]\n",
    "house_names = ['longitude','latitude',\n",
    "    'housingMedianAge', 'totalRooms',\n",
    "    'totalBedrooms','population', \n",
    "    'households', 'medianIncome']\n",
    "house_train,house_test,house_target_train,house_target_test = \\\n",
    "train_test_split(house_data,house_target,\n",
    "    test_size = 0.2, random_state = 42)\n",
    "GBR_house = GradientBoostingRegressor().fit(house_train,house_target_train)\n",
    "print('建立的梯度提升回归模型为：','\\n',GBR_house)"
   ]
  },
  {
   "cell_type": "code",
   "execution_count": 30,
   "metadata": {},
   "outputs": [
    {
     "name": "stdout",
     "output_type": "stream",
     "text": [
      "california_housing数据梯度提升回归树模型的平均绝对误差为： 38055.1412072\n",
      "california_housing数据梯度提升回归树模型的均方误差为： 3103164894.79\n",
      "california_housing数据梯度提升回归树模型的中值绝对误差为： 26179.4784457\n",
      "california_housing数据梯度提升回归树模型的可解释方差值为： 0.7619004323\n",
      "california_housing数据梯度提升回归树模型的R方值为： 0.761852586263\n"
     ]
    }
   ],
   "source": [
    "# 代码 6-28\n",
    "house_target_pred = GBR_house.predict(house_test)\n",
    "from sklearn.metrics import explained_variance_score,\\\n",
    "mean_absolute_error,\\\n",
    "mean_squared_error,\\\n",
    "median_absolute_error,r2_score\n",
    "print('california_housing数据梯度提升回归树模型的平均绝对误差为：',\n",
    "     mean_absolute_error(house_target_test,house_target_pred))\n",
    "print('california_housing数据梯度提升回归树模型的均方误差为：',\n",
    "     mean_squared_error(house_target_test,house_target_pred))\n",
    "print('california_housing数据梯度提升回归树模型的中值绝对误差为：',\n",
    "     median_absolute_error(house_target_test,house_target_pred))\n",
    "print('california_housing数据梯度提升回归树模型的可解释方差值为：',\n",
    "     explained_variance_score(house_target_test,\n",
    "        house_target_pred))\n",
    "print('california_housing数据梯度提升回归树模型的R方值为：',\n",
    "     r2_score(house_target_test,house_target_pred))"
   ]
  },
  {
   "cell_type": "markdown",
   "metadata": {},
   "source": [
    "## 习题（操作题）"
   ]
  },
  {
   "cell_type": "code",
   "execution_count": 20,
   "metadata": {},
   "outputs": [],
   "source": [
    "###############################################################################\n",
    "########################           第1题             ##########################\n",
    "###############################################################################\n",
    "from sklearn.datasets import load_iris\n",
    "from sklearn.model_selection import train_test_split\n",
    "data = load_iris()\n",
    "iris = data['data']\n",
    "target = data['target']\n",
    "X_train, X_test, y_train, y_test = train_test_split(iris, target, test_size=0.3, random_state=42)"
   ]
  },
  {
   "cell_type": "code",
   "execution_count": 21,
   "metadata": {},
   "outputs": [],
   "source": [
    "###############################################################################\n",
    "########################           第2题             ##########################\n",
    "###############################################################################\n",
    "\n",
    "from sklearn.decomposition import PCA\n",
    "from sklearn.preprocessing import MinMaxScaler\n",
    "Scaler = MinMaxScaler().fit(X_train) ##生成规则\n",
    "X_trainScaler = Scaler.transform(X_train) ##将规则应用于训练集\n",
    "X_testScaler = Scaler.transform(X_test) ##将规则应用于测试集\n",
    "pca_model = PCA(n_components=3).fit(X_trainScaler) ##生成规则\n",
    "X_trainPca = pca_model.transform(X_trainScaler) ##将规则应用于训练集\n",
    "X_testPca = pca_model.transform(X_testScaler) ##将规则应用于测试集"
   ]
  },
  {
   "cell_type": "code",
   "execution_count": 22,
   "metadata": {},
   "outputs": [
    {
     "name": "stdout",
     "output_type": "stream",
     "text": [
      "建立的SVM模型为：\n",
      " SVC(C=1.0, cache_size=200, class_weight=None, coef0=0.0,\n",
      "  decision_function_shape='ovr', degree=3, gamma='auto', kernel='rbf',\n",
      "  max_iter=-1, probability=False, random_state=None, shrinking=True,\n",
      "  tol=0.001, verbose=False)\n",
      "使用SVM预测iris数据的结果分析报告为：\n",
      "              precision    recall  f1-score   support\n",
      "\n",
      "          0       1.00      1.00      1.00        19\n",
      "          1       1.00      1.00      1.00        13\n",
      "          2       1.00      1.00      1.00        13\n",
      "\n",
      "avg / total       1.00      1.00      1.00        45\n",
      "\n",
      "正确率：100.0%\n"
     ]
    }
   ],
   "source": [
    "###############################################################################\n",
    "########################           第3题             ##########################\n",
    "###############################################################################\n",
    "\n",
    "from sklearn.svm import SVC\n",
    "from sklearn.metrics import classification_report\n",
    "svm = SVC().fit(X_trainPca,y_train)\n",
    "print('建立的SVM模型为：\\n',svm)\n",
    "y_pred = svm.predict(X_testPca)\n",
    "print('使用SVM预测iris数据的结果分析报告为：\\n',classification_report(y_test,y_pred))\n",
    "\n",
    "print(f\"正确率：{sum(y_pred==y_test)/len(y_test)*100}%\")"
   ]
  },
  {
   "cell_type": "markdown",
   "metadata": {},
   "source": [
    "precision recall f1-score三列分别为各个类别的精确度/召回率及 F1值  \n",
    "当一个搜索引擎返回30个页面时，只有20页是相关的，而没有返回40个额外的相关页面，其精度为20/30 = 2/3，而其召回率为20/60 = 1/3。在这种情况下，精确度是“搜索结果有多大用处”，而召回是“结果如何完整”。"
   ]
  },
  {
   "cell_type": "code",
   "execution_count": 15,
   "metadata": {},
   "outputs": [
    {
     "name": "stdout",
     "output_type": "stream",
     "text": [
      "建立的SVM模型为：\n",
      " SVC(C=1.0, cache_size=200, class_weight=None, coef0=0.0,\n",
      "  decision_function_shape='ovr', degree=3, gamma='auto', kernel='rbf',\n",
      "  max_iter=-1, probability=False, random_state=None, shrinking=True,\n",
      "  tol=0.001, verbose=False)\n",
      "使用SVM预测iris数据的结果分析报告为：\n",
      "              precision    recall  f1-score   support\n",
      "\n",
      "          0       1.00      1.00      1.00        19\n",
      "          1       1.00      1.00      1.00        13\n",
      "          2       1.00      1.00      1.00        13\n",
      "\n",
      "avg / total       1.00      1.00      1.00        45\n",
      "\n",
      "正确率：100.0%\n"
     ]
    }
   ],
   "source": [
    "from sklearn.svm import SVC\n",
    "from sklearn.metrics import classification_report\n",
    "svm = SVC().fit(X_train,y_train)\n",
    "print('建立的SVM模型为：\\n',svm)\n",
    "y_pred = svm.predict(X_test)\n",
    "print('使用SVM预测iris数据的结果分析报告为：\\n',classification_report(y_test,y_pred))\n",
    "\n",
    "print(f\"正确率：{sum(y_pred==y_test)/len(y_test)*100}%\")"
   ]
  },
  {
   "cell_type": "markdown",
   "metadata": {
    "collapsed": true
   },
   "source": [
    "## 补充\n",
    "### 鸢尾花数据"
   ]
  },
  {
   "cell_type": "code",
   "execution_count": 17,
   "metadata": {},
   "outputs": [
    {
     "name": "stdout",
     "output_type": "stream",
     "text": [
      "[0 1 0 2 0 2 2 1 2 2 0 0 1 1 2 0 1 0 1 2 1 1 1 0 1 0 1 0 1 1 0 2 0 1 1 2 1\n",
      " 2 0 0 1 1 0 0 2]\n",
      "[0 1 0 2 0 2 2 1 2 2 0 0 1 1 1 0 1 0 1 2 1 1 1 0 2 0 1 0 1 1 0 2 0 1 1 2 1\n",
      " 2 0 0 1 1 0 0 2]\n",
      "正确率：95.55555555555556%\n",
      "             precision    recall  f1-score   support\n",
      "\n",
      "          0       1.00      1.00      1.00        16\n",
      "          1       0.94      0.94      0.94        18\n",
      "          2       0.91      0.91      0.91        11\n",
      "\n",
      "avg / total       0.96      0.96      0.96        45\n",
      "\n"
     ]
    }
   ],
   "source": [
    "#导入模块\n",
    "from sklearn.model_selection import train_test_split\n",
    "from sklearn import datasets\n",
    "#k近邻函数\n",
    "from sklearn.neighbors import KNeighborsClassifier\n",
    "iris = datasets.load_iris()\n",
    "#导入数据和标签\n",
    "iris_X = iris.data\n",
    "iris_y = iris.target\n",
    "#划分为训练集和测试集数据\n",
    "X_train, X_test, y_train, y_test = train_test_split(iris_X, iris_y, test_size=0.3)\n",
    "#print(y_train)\n",
    "#设置knn分类器\n",
    "knn = KNeighborsClassifier()\n",
    "#进行训练\n",
    "knn.fit(X_train,y_train)\n",
    "#使用训练好的knn进行数据预测\n",
    "y_pred = knn.predict(X_test)\n",
    "print(y_pred)\n",
    "print(y_test)\n",
    "print(f\"正确率：{sum(y_pred==y_test)/len(y_test)*100}%\")\n",
    "print(classification_report(y_test,y_pred))"
   ]
  },
  {
   "cell_type": "markdown",
   "metadata": {},
   "source": [
    "### 波士顿房价数据"
   ]
  },
  {
   "cell_type": "code",
   "execution_count": 20,
   "metadata": {},
   "outputs": [
    {
     "name": "stdout",
     "output_type": "stream",
     "text": [
      "0.3472860201001363\n",
      "0.4478847109480875\n",
      "[20.5  5.6 13.4 12.6 21.2 19.7 32.4 14.8 33.  21.4]\n",
      "[20.34926642 13.32559767 14.00810976 15.48051264 27.03296161 27.70289121\n",
      " 28.63182256 22.18702239 29.82629438 20.79128477]\n"
     ]
    }
   ],
   "source": [
    "#同样首先，我们调用模块\n",
    "#matplotlib是python专门用于画图的库\n",
    "import matplotlib.pyplot as plt\n",
    "from sklearn import datasets\n",
    "#调用线性回归函数\n",
    "from sklearn.linear_model import LinearRegression\n",
    "from sklearn.decomposition import PCA\n",
    "from sklearn.metrics import classification_report\n",
    "from sklearn.model_selection import train_test_split\n",
    "from sklearn.preprocessing import StandardScaler\n",
    "\n",
    "#导入数据集\n",
    "#这里将全部数据用于训练，并没有对数据进行划分，上例中\n",
    "#将数据划分为训练和测试数据，后面会讲到交叉验证\n",
    "loaded_data = datasets.load_boston()\n",
    "data_X = loaded_data.data\n",
    "data_y = loaded_data.target\n",
    "data_X = StandardScaler().fit_transform(data_X)\n",
    "pca = PCA(n_components = 1)\n",
    "data_X = pca.fit_transform(data_X)\n",
    "X_train, X_test, y_train, y_test = train_test_split(data_X, data_y, test_size=0.25, random_state=33)\n",
    "#设置线性回归模块\n",
    "model = LinearRegression()\n",
    "#训练数据，得出参数\n",
    "model.fit(X_train, y_train)\n",
    "print(model.score(X_train, y_train))\n",
    "print(model.score(X_test, y_test))\n",
    "#利用模型，对新数据，进行预测，与原标签进行比较\n",
    "y_pred = model.predict(X_test)\n",
    "print(y_test[:10])\n",
    "print(y_pred[:10])"
   ]
  },
  {
   "cell_type": "code",
   "execution_count": 21,
   "metadata": {},
   "outputs": [
    {
     "data": {
      "image/png": "[encoded data removed]",
      "text/plain": [
       "<Figure size 576x432 with 1 Axes>"
      ]
     },
     "metadata": {},
     "output_type": "display_data"
    },
    {
     "data": {
      "image/png": "[encoded data removed]",
      "text/plain": [
       "<Figure size 576x432 with 1 Axes>"
      ]
     },
     "metadata": {},
     "output_type": "display_data"
    }
   ],
   "source": [
    "## 绘制图形\n",
    "plt.figure(figsize=(8,6))\n",
    "plt.scatter(X_train, y_train)\n",
    "plt.plot(X_train, model.predict(X_train))\n",
    "plt.show()\n",
    "plt.figure(figsize=(8,6))\n",
    "plt.scatter(X_test, y_test)\n",
    "plt.plot(X_test, model.predict(X_test))\n",
    "plt.show()"
   ]
  },
  {
   "cell_type": "markdown",
   "metadata": {},
   "source": [
    "### 泰坦尼克号存活分析"
   ]
  },
  {
   "cell_type": "code",
   "execution_count": 1,
   "metadata": {},
   "outputs": [
    {
     "name": "stderr",
     "output_type": "stream",
     "text": [
      "d:\\Anaconda\\lib\\site-packages\\ipykernel_launcher.py:62: FutureWarning: Method .as_matrix will be removed in a future version. Use .values instead.\n",
      "d:\\Anaconda\\lib\\site-packages\\ipykernel_launcher.py:63: FutureWarning: Method .as_matrix will be removed in a future version. Use .values instead.\n"
     ]
    },
    {
     "ename": "ValueError",
     "evalue": "Expected 2D array, got 1D array instead:\narray=[22.         38.         26.         35.         35.         23.83895259\n 54.          2.         27.         14.          4.         58.\n 20.         39.         14.         55.          2.         32.06649305\n 31.         29.51820514 35.         34.         15.         28.\n  8.         38.         29.51820514 19.         22.38011324 27.94720616\n 40.         36.10804822 35.2958243  66.         28.         42.\n 22.87630686 21.         18.         14.         40.         27.\n 27.94720616  3.         19.         30.70572678 33.12898535 35.2958243\n 23.45968333 18.          7.         21.         49.         29.\n 65.         44.06483036 21.         28.5         5.         11.\n 22.         38.         45.          4.         41.20008848 17.09991595\n 29.         19.         17.         26.         32.         16.\n 21.         26.         32.         25.         27.94720616 30.70572678\n  0.83       30.         22.         29.         23.32262739 28.\n 17.         33.         16.         30.70572678 23.         24.\n 29.         20.         46.         26.         59.         30.70572678\n 71.         23.         34.         34.         28.         27.94720616\n 21.         33.         37.         28.         21.         27.51545426\n 38.         33.55117591 47.         14.5        22.         20.\n 17.         21.         70.5        29.         24.          2.\n 21.         30.70572678 32.5        32.5        54.         12.\n 35.2958243  24.         25.78337698 45.         33.         20.\n 47.         29.         25.         23.         19.         37.\n 16.         24.         25.34409583 22.         24.         19.\n 18.         19.         27.          9.         36.5        42.\n 51.         22.         55.5        40.5        29.78279613 51.\n 16.         30.         25.52340334 10.86986696 44.         40.\n 26.         17.          1.          9.         26.03188214 45.\n 49.5542756  28.         61.          4.          1.         21.\n 56.         18.          7.30954704 50.         30.         36.\n 10.86986696 31.71894048  9.          1.          4.         46.24976824\n 33.12898535 45.         40.         36.         32.         19.\n 19.          3.         44.         58.         35.2958243  42.\n 35.2958243  24.         28.         10.86986696 34.         45.5\n 18.          2.         32.         26.         16.         40.\n 24.         35.         22.         30.         31.09342985 31.\n 27.         42.         32.         30.         16.         27.\n 51.         27.94720616 38.         22.         19.         20.5\n 18.          7.30954704 35.         29.         59.          5.\n 24.         31.10838452 44.          8.         19.         33.\n 20.80015413 33.12898535 29.         22.         30.         44.\n 25.         24.         37.         54.         29.78279613 29.\n 62.         30.         41.         29.         34.62028571 30.\n 35.         50.         35.2958243   3.         52.         40.\n 35.2958243  36.         16.         25.         58.         35.\n 36.87489821 25.         41.         37.         35.2958243  63.\n 45.         35.05181757  7.         35.         65.         28.\n 16.         19.         57.74249226 33.         30.         22.\n 42.         22.         26.         19.         36.         24.\n 24.         41.20008848 23.5         2.         41.57487718 50.\n 35.2958243  23.31368333 19.         42.57451554 30.70572678  0.92\n 28.57888393 17.         30.         30.         24.         18.\n 26.         28.         43.         26.         24.         54.\n 31.         40.         22.         27.         30.         22.\n 10.86986696 36.         61.         36.         31.         16.\n 23.31368333 45.5        38.         16.         31.42587794 27.94720616\n 29.         41.         45.         45.          2.         24.\n 28.         25.         36.         24.         40.         26.68916849\n  3.         42.         23.         59.96916448 15.         25.\n 29.51820514 28.         22.         38.         22.38011324 22.38011324\n 40.         29.         45.         35.         33.12898535 30.\n 60.         22.87630686 35.2958243  24.         25.         18.\n 19.         22.          3.         31.94479345 22.         27.\n 20.         19.         42.          1.         32.         35.\n 27.94720616 18.          1.         36.         19.89558113 17.\n 36.         21.         28.         23.         24.         22.\n 31.         46.         23.         28.         39.         26.\n 21.         28.         20.         34.         51.          3.\n 21.          7.30954704 27.94720616 20.68131488 33.         35.05181757\n 44.         30.70572678 34.         18.         30.         10.\n 27.94720616 21.         29.         28.         18.         29.78279613\n 28.         19.         35.2958243  32.         28.         26.68916849\n 42.         17.         50.         14.         21.         24.\n 64.         31.         45.         20.         25.         28.\n 23.47643239  4.         13.         34.          5.         52.\n 36.         24.10899881 30.         49.         30.70572678 29.\n 65.         44.06001827 50.         35.2958243  48.         34.\n 47.         48.         30.70572678 38.         35.05181757 56.\n 19.89558113  0.75       29.78279613 38.         33.         23.\n 22.         44.65953056 34.         29.         22.          2.\n  9.         35.05181757 50.         63.         25.          7.30954704\n 35.         58.         30.          9.         24.10899881 21.\n 55.         71.         21.         18.19479484 54.         25.7554753\n 25.         24.         17.         21.         26.82073281 37.\n 16.         18.         33.         49.8994093  28.         26.\n 29.         30.70572678 36.         54.         24.         47.\n 34.         34.17374861 36.         32.         30.         22.\n 29.51820514 44.         22.87630686 40.5        50.         38.5155\n 39.         23.          2.         22.87630686 17.          8.01370298\n 30.          7.         45.         30.         24.33021696 22.\n 36.          9.         11.         32.         50.         64.\n 19.         32.79502428 33.          8.         17.         27.\n 26.3814249  22.         22.         62.         48.         38.5155\n 39.         36.         35.2958243  40.         28.         30.70572678\n 30.70572678 24.         19.         29.         22.87630686 32.\n 62.         53.         36.         35.2958243  16.         19.\n 34.         39.         20.07016773 32.         25.         39.\n 54.         36.         29.04293865 18.         47.         60.\n 22.         30.70572678 35.         52.         47.         27.45639428\n 37.         36.         24.40235514 49.         29.51820514 49.\n 24.         27.94720616 37.51615833 44.         35.         36.\n 30.         27.         22.         40.         39.         27.86873699\n 33.12898535 35.2958243  35.         24.         34.         26.\n  4.         26.         27.         42.         20.         21.\n 21.         61.         57.         21.         26.         19.89558113\n 80.         51.         32.         38.83477484  9.         28.\n 32.         31.         41.         26.68916849 20.         24.\n  2.         29.56889809  0.75       48.         19.         56.\n 31.10838452 23.         27.94720616 18.         21.         26.3814249\n 18.         24.         27.94720616 32.         23.         58.\n 50.         40.         47.         36.         20.         32.\n 25.         27.51545426 43.         39.08817814 40.         31.\n 70.         31.         35.05181757 18.         24.5        18.\n 43.         36.         23.47643239 27.         20.         14.\n 60.         25.         14.         19.         18.         15.\n 31.          4.         29.56889809 25.         60.         52.\n 44.         19.89558113 49.         42.         18.         35.\n 18.         25.         26.         39.         45.         42.\n 22.         17.09991595 24.         49.8994093  48.         29.\n 52.         19.         38.         27.         27.30887391 33.\n  6.         17.         34.         50.         27.         20.\n 30.         19.89558113 25.         25.         29.         11.\n 35.05181757 23.         23.         28.5        48.         35.\n 27.94720616 27.94720616 38.42663175 36.         21.         24.\n 31.         70.         16.         30.         19.         31.\n  4.          6.         33.         23.         48.          0.67\n 28.         18.         34.         33.         24.33021696 41.\n 20.         36.         16.         51.         39.17490238 30.5\n 33.55117591 32.         24.         48.         57.         29.51820514\n 54.         18.         35.2958243   5.         19.89558113 43.\n 13.         17.         29.         16.1939502  25.         25.\n 18.          8.          1.         46.         35.2958243  16.\n 10.86986696 50.38328427 25.         39.         49.         31.\n 30.         30.         34.         31.         11.          0.42\n 27.         31.         39.         18.         39.         33.\n 26.         39.         35.          6.         30.5        38.83477484\n 23.         31.         43.         10.         52.         27.\n 38.         27.          2.         35.09787898 29.56889809  1.\n 35.2958243  62.         15.          0.83       22.87630686 23.\n 18.         39.         21.         30.70572678 32.         50.91095013\n 20.         16.         30.         34.5        17.         42.\n 10.86986696 35.         28.         43.96476448  4.         74.\n  9.         16.         44.         18.         45.         51.\n 24.         22.87630686 41.         21.         48.         10.86986696\n 24.         42.         27.         31.         25.97788916  4.\n 26.         47.         33.         47.         28.         15.\n 20.         19.         27.94720616 56.         25.         33.\n 22.         28.         25.         39.         27.         19.\n 16.1939502  26.         32.        ].\nReshape your data either using array.reshape(-1, 1) if your data has a single feature or array.reshape(1, -1) if it contains a single sample.",
     "output_type": "error",
     "traceback": [
      "\u001b[1;31m---------------------------------------------------------------------------\u001b[0m",
      "\u001b[1;31mValueError\u001b[0m                                Traceback (most recent call last)",
      "\u001b[1;32m<ipython-input-1-b5863f24b74d>\u001b[0m in \u001b[0;36m<module>\u001b[1;34m()\u001b[0m\n\u001b[0;32m    109\u001b[0m \u001b[1;32mimport\u001b[0m \u001b[0msklearn\u001b[0m\u001b[1;33m.\u001b[0m\u001b[0mpreprocessing\u001b[0m \u001b[1;32mas\u001b[0m \u001b[0mpreprocessing\u001b[0m\u001b[1;33m\u001b[0m\u001b[0m\n\u001b[0;32m    110\u001b[0m \u001b[0mscaler\u001b[0m\u001b[1;33m=\u001b[0m\u001b[0mpreprocessing\u001b[0m\u001b[1;33m.\u001b[0m\u001b[0mStandardScaler\u001b[0m\u001b[1;33m(\u001b[0m\u001b[1;33m)\u001b[0m\u001b[1;33m\u001b[0m\u001b[0m\n\u001b[1;32m--> 111\u001b[1;33m \u001b[0mage_scaler_param\u001b[0m\u001b[1;33m=\u001b[0m\u001b[0mscaler\u001b[0m\u001b[1;33m.\u001b[0m\u001b[0mfit\u001b[0m\u001b[1;33m(\u001b[0m\u001b[0mdf\u001b[0m\u001b[1;33m[\u001b[0m\u001b[1;34m'Age'\u001b[0m\u001b[1;33m]\u001b[0m\u001b[1;33m)\u001b[0m\u001b[1;33m\u001b[0m\u001b[0m\n\u001b[0m\u001b[0;32m    112\u001b[0m \u001b[0mdf\u001b[0m\u001b[1;33m[\u001b[0m\u001b[1;34m'Age_scaled'\u001b[0m\u001b[1;33m]\u001b[0m\u001b[1;33m=\u001b[0m\u001b[0mscaler\u001b[0m\u001b[1;33m.\u001b[0m\u001b[0mfit_transform\u001b[0m\u001b[1;33m(\u001b[0m\u001b[0mdf\u001b[0m\u001b[1;33m[\u001b[0m\u001b[1;34m'Age'\u001b[0m\u001b[1;33m]\u001b[0m\u001b[1;33m,\u001b[0m\u001b[0mage_scaler_param\u001b[0m\u001b[1;33m)\u001b[0m\u001b[1;33m\u001b[0m\u001b[0m\n\u001b[0;32m    113\u001b[0m \u001b[1;33m\u001b[0m\u001b[0m\n",
      "\u001b[1;32md:\\Anaconda\\lib\\site-packages\\sklearn\\preprocessing\\data.py\u001b[0m in \u001b[0;36mfit\u001b[1;34m(self, X, y)\u001b[0m\n\u001b[0;32m    588\u001b[0m         \u001b[1;31m# Reset internal state before fitting\u001b[0m\u001b[1;33m\u001b[0m\u001b[1;33m\u001b[0m\u001b[0m\n\u001b[0;32m    589\u001b[0m         \u001b[0mself\u001b[0m\u001b[1;33m.\u001b[0m\u001b[0m_reset\u001b[0m\u001b[1;33m(\u001b[0m\u001b[1;33m)\u001b[0m\u001b[1;33m\u001b[0m\u001b[0m\n\u001b[1;32m--> 590\u001b[1;33m         \u001b[1;32mreturn\u001b[0m \u001b[0mself\u001b[0m\u001b[1;33m.\u001b[0m\u001b[0mpartial_fit\u001b[0m\u001b[1;33m(\u001b[0m\u001b[0mX\u001b[0m\u001b[1;33m,\u001b[0m \u001b[0my\u001b[0m\u001b[1;33m)\u001b[0m\u001b[1;33m\u001b[0m\u001b[0m\n\u001b[0m\u001b[0;32m    591\u001b[0m \u001b[1;33m\u001b[0m\u001b[0m\n\u001b[0;32m    592\u001b[0m     \u001b[1;32mdef\u001b[0m \u001b[0mpartial_fit\u001b[0m\u001b[1;33m(\u001b[0m\u001b[0mself\u001b[0m\u001b[1;33m,\u001b[0m \u001b[0mX\u001b[0m\u001b[1;33m,\u001b[0m \u001b[0my\u001b[0m\u001b[1;33m=\u001b[0m\u001b[1;32mNone\u001b[0m\u001b[1;33m)\u001b[0m\u001b[1;33m:\u001b[0m\u001b[1;33m\u001b[0m\u001b[0m\n",
      "\u001b[1;32md:\\Anaconda\\lib\\site-packages\\sklearn\\preprocessing\\data.py\u001b[0m in \u001b[0;36mpartial_fit\u001b[1;34m(self, X, y)\u001b[0m\n\u001b[0;32m    610\u001b[0m         \"\"\"\n\u001b[0;32m    611\u001b[0m         X = check_array(X, accept_sparse=('csr', 'csc'), copy=self.copy,\n\u001b[1;32m--> 612\u001b[1;33m                         warn_on_dtype=True, estimator=self, dtype=FLOAT_DTYPES)\n\u001b[0m\u001b[0;32m    613\u001b[0m \u001b[1;33m\u001b[0m\u001b[0m\n\u001b[0;32m    614\u001b[0m         \u001b[1;31m# Even in the case of `with_mean=False`, we update the mean anyway\u001b[0m\u001b[1;33m\u001b[0m\u001b[1;33m\u001b[0m\u001b[0m\n",
      "\u001b[1;32md:\\Anaconda\\lib\\site-packages\\sklearn\\utils\\validation.py\u001b[0m in \u001b[0;36mcheck_array\u001b[1;34m(array, accept_sparse, dtype, order, copy, force_all_finite, ensure_2d, allow_nd, ensure_min_samples, ensure_min_features, warn_on_dtype, estimator)\u001b[0m\n\u001b[0;32m    439\u001b[0m                     \u001b[1;34m\"Reshape your data either using array.reshape(-1, 1) if \"\u001b[0m\u001b[1;33m\u001b[0m\u001b[0m\n\u001b[0;32m    440\u001b[0m                     \u001b[1;34m\"your data has a single feature or array.reshape(1, -1) \"\u001b[0m\u001b[1;33m\u001b[0m\u001b[0m\n\u001b[1;32m--> 441\u001b[1;33m                     \"if it contains a single sample.\".format(array))\n\u001b[0m\u001b[0;32m    442\u001b[0m             \u001b[0marray\u001b[0m \u001b[1;33m=\u001b[0m \u001b[0mnp\u001b[0m\u001b[1;33m.\u001b[0m\u001b[0matleast_2d\u001b[0m\u001b[1;33m(\u001b[0m\u001b[0marray\u001b[0m\u001b[1;33m)\u001b[0m\u001b[1;33m\u001b[0m\u001b[0m\n\u001b[0;32m    443\u001b[0m             \u001b[1;31m# To ensure that array flags are maintained\u001b[0m\u001b[1;33m\u001b[0m\u001b[1;33m\u001b[0m\u001b[0m\n",
      "\u001b[1;31mValueError\u001b[0m: Expected 2D array, got 1D array instead:\narray=[22.         38.         26.         35.         35.         23.83895259\n 54.          2.         27.         14.          4.         58.\n 20.         39.         14.         55.          2.         32.06649305\n 31.         29.51820514 35.         34.         15.         28.\n  8.         38.         29.51820514 19.         22.38011324 27.94720616\n 40.         36.10804822 35.2958243  66.         28.         42.\n 22.87630686 21.         18.         14.         40.         27.\n 27.94720616  3.         19.         30.70572678 33.12898535 35.2958243\n 23.45968333 18.          7.         21.         49.         29.\n 65.         44.06483036 21.         28.5         5.         11.\n 22.         38.         45.          4.         41.20008848 17.09991595\n 29.         19.         17.         26.         32.         16.\n 21.         26.         32.         25.         27.94720616 30.70572678\n  0.83       30.         22.         29.         23.32262739 28.\n 17.         33.         16.         30.70572678 23.         24.\n 29.         20.         46.         26.         59.         30.70572678\n 71.         23.         34.         34.         28.         27.94720616\n 21.         33.         37.         28.         21.         27.51545426\n 38.         33.55117591 47.         14.5        22.         20.\n 17.         21.         70.5        29.         24.          2.\n 21.         30.70572678 32.5        32.5        54.         12.\n 35.2958243  24.         25.78337698 45.         33.         20.\n 47.         29.         25.         23.         19.         37.\n 16.         24.         25.34409583 22.         24.         19.\n 18.         19.         27.          9.         36.5        42.\n 51.         22.         55.5        40.5        29.78279613 51.\n 16.         30.         25.52340334 10.86986696 44.         40.\n 26.         17.          1.          9.         26.03188214 45.\n 49.5542756  28.         61.          4.          1.         21.\n 56.         18.          7.30954704 50.         30.         36.\n 10.86986696 31.71894048  9.          1.          4.         46.24976824\n 33.12898535 45.         40.         36.         32.         19.\n 19.          3.         44.         58.         35.2958243  42.\n 35.2958243  24.         28.         10.86986696 34.         45.5\n 18.          2.         32.         26.         16.         40.\n 24.         35.         22.         30.         31.09342985 31.\n 27.         42.         32.         30.         16.         27.\n 51.         27.94720616 38.         22.         19.         20.5\n 18.          7.30954704 35.         29.         59.          5.\n 24.         31.10838452 44.          8.         19.         33.\n 20.80015413 33.12898535 29.         22.         30.         44.\n 25.         24.         37.         54.         29.78279613 29.\n 62.         30.         41.         29.         34.62028571 30.\n 35.         50.         35.2958243   3.         52.         40.\n 35.2958243  36.         16.         25.         58.         35.\n 36.87489821 25.         41.         37.         35.2958243  63.\n 45.         35.05181757  7.         35.         65.         28.\n 16.         19.         57.74249226 33.         30.         22.\n 42.         22.         26.         19.         36.         24.\n 24.         41.20008848 23.5         2.         41.57487718 50.\n 35.2958243  23.31368333 19.         42.57451554 30.70572678  0.92\n 28.57888393 17.         30.         30.         24.         18.\n 26.         28.         43.         26.         24.         54.\n 31.         40.         22.         27.         30.         22.\n 10.86986696 36.         61.         36.         31.         16.\n 23.31368333 45.5        38.         16.         31.42587794 27.94720616\n 29.         41.         45.         45.          2.         24.\n 28.         25.         36.         24.         40.         26.68916849\n  3.         42.         23.         59.96916448 15.         25.\n 29.51820514 28.         22.         38.         22.38011324 22.38011324\n 40.         29.         45.         35.         33.12898535 30.\n 60.         22.87630686 35.2958243  24.         25.         18.\n 19.         22.          3.         31.94479345 22.         27.\n 20.         19.         42.          1.         32.         35.\n 27.94720616 18.          1.         36.         19.89558113 17.\n 36.         21.         28.         23.         24.         22.\n 31.         46.         23.         28.         39.         26.\n 21.         28.         20.         34.         51.          3.\n 21.          7.30954704 27.94720616 20.68131488 33.         35.05181757\n 44.         30.70572678 34.         18.         30.         10.\n 27.94720616 21.         29.         28.         18.         29.78279613\n 28.         19.         35.2958243  32.         28.         26.68916849\n 42.         17.         50.         14.         21.         24.\n 64.         31.         45.         20.         25.         28.\n 23.47643239  4.         13.         34.          5.         52.\n 36.         24.10899881 30.         49.         30.70572678 29.\n 65.         44.06001827 50.         35.2958243  48.         34.\n 47.         48.         30.70572678 38.         35.05181757 56.\n 19.89558113  0.75       29.78279613 38.         33.         23.\n 22.         44.65953056 34.         29.         22.          2.\n  9.         35.05181757 50.         63.         25.          7.30954704\n 35.         58.         30.          9.         24.10899881 21.\n 55.         71.         21.         18.19479484 54.         25.7554753\n 25.         24.         17.         21.         26.82073281 37.\n 16.         18.         33.         49.8994093  28.         26.\n 29.         30.70572678 36.         54.         24.         47.\n 34.         34.17374861 36.         32.         30.         22.\n 29.51820514 44.         22.87630686 40.5        50.         38.5155\n 39.         23.          2.         22.87630686 17.          8.01370298\n 30.          7.         45.         30.         24.33021696 22.\n 36.          9.         11.         32.         50.         64.\n 19.         32.79502428 33.          8.         17.         27.\n 26.3814249  22.         22.         62.         48.         38.5155\n 39.         36.         35.2958243  40.         28.         30.70572678\n 30.70572678 24.         19.         29.         22.87630686 32.\n 62.         53.         36.         35.2958243  16.         19.\n 34.         39.         20.07016773 32.         25.         39.\n 54.         36.         29.04293865 18.         47.         60.\n 22.         30.70572678 35.         52.         47.         27.45639428\n 37.         36.         24.40235514 49.         29.51820514 49.\n 24.         27.94720616 37.51615833 44.         35.         36.\n 30.         27.         22.         40.         39.         27.86873699\n 33.12898535 35.2958243  35.         24.         34.         26.\n  4.         26.         27.         42.         20.         21.\n 21.         61.         57.         21.         26.         19.89558113\n 80.         51.         32.         38.83477484  9.         28.\n 32.         31.         41.         26.68916849 20.         24.\n  2.         29.56889809  0.75       48.         19.         56.\n 31.10838452 23.         27.94720616 18.         21.         26.3814249\n 18.         24.         27.94720616 32.         23.         58.\n 50.         40.         47.         36.         20.         32.\n 25.         27.51545426 43.         39.08817814 40.         31.\n 70.         31.         35.05181757 18.         24.5        18.\n 43.         36.         23.47643239 27.         20.         14.\n 60.         25.         14.         19.         18.         15.\n 31.          4.         29.56889809 25.         60.         52.\n 44.         19.89558113 49.         42.         18.         35.\n 18.         25.         26.         39.         45.         42.\n 22.         17.09991595 24.         49.8994093  48.         29.\n 52.         19.         38.         27.         27.30887391 33.\n  6.         17.         34.         50.         27.         20.\n 30.         19.89558113 25.         25.         29.         11.\n 35.05181757 23.         23.         28.5        48.         35.\n 27.94720616 27.94720616 38.42663175 36.         21.         24.\n 31.         70.         16.         30.         19.         31.\n  4.          6.         33.         23.         48.          0.67\n 28.         18.         34.         33.         24.33021696 41.\n 20.         36.         16.         51.         39.17490238 30.5\n 33.55117591 32.         24.         48.         57.         29.51820514\n 54.         18.         35.2958243   5.         19.89558113 43.\n 13.         17.         29.         16.1939502  25.         25.\n 18.          8.          1.         46.         35.2958243  16.\n 10.86986696 50.38328427 25.         39.         49.         31.\n 30.         30.         34.         31.         11.          0.42\n 27.         31.         39.         18.         39.         33.\n 26.         39.         35.          6.         30.5        38.83477484\n 23.         31.         43.         10.         52.         27.\n 38.         27.          2.         35.09787898 29.56889809  1.\n 35.2958243  62.         15.          0.83       22.87630686 23.\n 18.         39.         21.         30.70572678 32.         50.91095013\n 20.         16.         30.         34.5        17.         42.\n 10.86986696 35.         28.         43.96476448  4.         74.\n  9.         16.         44.         18.         45.         51.\n 24.         22.87630686 41.         21.         48.         10.86986696\n 24.         42.         27.         31.         25.97788916  4.\n 26.         47.         33.         47.         28.         15.\n 20.         19.         27.94720616 56.         25.         33.\n 22.         28.         25.         39.         27.         19.\n 16.1939502  26.         32.        ].\nReshape your data either using array.reshape(-1, 1) if your data has a single feature or array.reshape(1, -1) if it contains a single sample."
     ]
    }
   ],
   "source": [
    "# -*- coding: utf-8 -*-\n",
    "\"\"\"\n",
    "Created on Tue Nov 01 09:04:12 2016\n",
    "\n",
    "@author: Sirius\n",
    "\n",
    "kaggle上的Titanic经典案例，建立一个模型，预测乘客是否获救，二分类问题\n",
    "记：寒老师七月算法ML课程课后笔记\n",
    "\"\"\"\n",
    "\n",
    "import pandas as pd\n",
    "import numpy as np\n",
    "\n",
    "data_train=pd.read_csv('train.csv')\n",
    "data_test=pd.read_csv('test.csv')\n",
    "\n",
    "\"\"\"\n",
    "trian数据集，11个属性+1获救情况\n",
    "Index \n",
    "PassengerId => 乘客ID  --891\n",
    "Pclass => 乘客等级(1/2/3等舱位) --891 --离散值\n",
    "Name => 乘客姓名 --891 --文本特征\n",
    "Sex => 性别 --891 --离散值\n",
    "Age => 年龄  --714,不全  --连续值\n",
    "SibSp => 堂兄弟/妹个数 --891 --离散值\n",
    "Parch => 父母与小孩个数 --891 --离散值\n",
    "Ticket => 船票信息 --891 --文本信息\n",
    "Fare => 票价 --891 --连续值\n",
    "Cabin => 客舱--204，不全 \n",
    "Embarked => 登船港口 --889 --离散值\n",
    "\"\"\"\n",
    "\n",
    "\"\"\"\n",
    "   通过对数据进行统计分析，Age和Cabin这两个属性对是否获救的影响很大，因此要设法不全\n",
    "通常遇到缺值的情况，我们会有几种常见的处理方式：---\n",
    "   1.如果缺值的样本占总数比例极高，我们可能就直接舍弃了，作为特征加入的话，\n",
    "     可能反倒带入noise，影响最后的结果了。\n",
    "   2.如果缺值的样本适中，而该属性非连续值特征属性(比如说类目属性)，\n",
    "     那就把NaN作为一个新类别，加到类别特征中。\n",
    "   3.如果缺值的样本适中，而该属性为连续值特征属性，有时候我们会考\n",
    "     虑给定一个step(比如这里的age，我们可以考虑每隔2/3岁为一个步长)，\n",
    "     然后把它离散化，之后把NaN作为一个type加到属性类目中。\n",
    "   4.有些情况下，缺失的值个数并不是特别多，那我们也可以试着根据已有的值，拟合一下数据，补充上。\n",
    "本例中，后两种处理方式应该都是可行的，我们先试试拟合补全吧(虽然说没有\n",
    "    特别多的背景可供我们拟合，这不一定是一个多么好的选择)\n",
    "\"\"\"\n",
    "\n",
    "#由于Cabin缺失的值较多，因此用方式2处理，有cabin信息则为1，没有则为0\n",
    "def set_Cabin_type(df):\n",
    "    df.loc[(df.Cabin.notnull()),'Cabin']='Yes'\n",
    "    df.loc[(df.Cabin.isnull()),'Cabin']='No'\n",
    "    return df\n",
    "data_train=set_Cabin_type(data_train)\n",
    "\n",
    "#Age信息缺失适中，通过RandForest拟合\n",
    "from sklearn.ensemble import RandomForestRegressor\n",
    "\n",
    "def set_missing_ages(df):\n",
    "    #把已有数值型特征喂给RandomForestRegressor\n",
    "    age_df=df[['Age','Fare','Parch','SibSp','Pclass']]\n",
    "\n",
    "    known_age=age_df[age_df.Age.notnull()].as_matrix()\n",
    "    unknown_age=age_df[age_df.Age.isnull()].as_matrix()\n",
    "\n",
    "    y=known_age[:,0]#目标输出\n",
    "    X=known_age[:,1:]#输入特征值\n",
    "\n",
    "    rfr=RandomForestRegressor(random_state=0,n_estimators=2000,n_jobs=-1)\n",
    "    rfr.fit(X,y)\n",
    "\n",
    "    predictedAges=rfr.predict(unknown_age[:,1::])\n",
    "\n",
    "    #y用预测得到的结果填补缺失数据\n",
    "    df.loc[(df.Age.isnull()),'Age']=predictedAges\n",
    "\n",
    "    return df,rfr \n",
    "\n",
    "data_train,rfr=set_missing_ages(data_train)   \n",
    "\n",
    "\n",
    "\"\"\"\n",
    "----------------------对离散值特征进行one-hot编码处理----------------------------\n",
    "\n",
    "以Embarked为例，原本一个属性维度，因为其取值可以是[‘S’,’C’,’Q‘]，而将其平展开为’Embarked_C’,’Embarked_S’, ‘Embarked_Q’三个属性\n",
    "原本Embarked取值为S的，在此处的”Embarked_S”下取值为1，在’Embarked_C’, ‘Embarked_Q’下取值为0\n",
    "原本Embarked取值为C的，在此处的”Embarked_C”下取值为1，在’Embarked_S’, ‘Embarked_Q’下取值为0\n",
    "原本Embarked取值为Q的，在此处的”Embarked_Q”下取值为1，在’Embarked_C’, ‘Embarked_S’下取值为0\n",
    "\n",
    "\"\"\"\n",
    "#Cabin原本只有yes和no，现在扩展为Cabin_yes和Cabin_no两个属性\n",
    "dummies_Cabin=pd.get_dummies(data_train['Cabin'],prefix='Cabin')\n",
    "\n",
    "#Embarked由原来三个值S\\C\\Q扩展为Embarked_C、Embarked_S、Embarked_C三个属性\n",
    "dummies_Embarked=pd.get_dummies(data_train['Embarked'],prefix='Embarked')\n",
    "\n",
    "dummies_Sex=pd.get_dummies(data_train['Sex'],prefix='Sex')\n",
    "\n",
    "dummies_Pclass=pd.get_dummies(data_train['Pclass'],prefix='Pclass')\n",
    "\n",
    "df=pd.concat([data_train,dummies_Cabin,dummies_Embarked,dummies_Sex,dummies_Pclass],axis=1)\n",
    "\n",
    "df.drop(['Pclass', 'Name', 'Sex', 'Ticket', 'Cabin', 'Embarked'], axis=1, inplace=True)\n",
    "\n",
    "\n",
    "\n",
    "\"\"\"\n",
    "-------------------------对连续值特征进行标准化------------------------\n",
    "\"\"\"\n",
    "import sklearn.preprocessing as preprocessing\n",
    "scaler=preprocessing.StandardScaler()\n",
    "age_scaler_param=scaler.fit(df['Age'])\n",
    "df['Age_scaled']=scaler.fit_transform(df['Age'],age_scaler_param)\n",
    "\n",
    "fare_scale_param = scaler.fit(df['Fare'])\n",
    "df['Fare_scaled'] = scaler.fit_transform(df['Fare'], fare_scale_param)\n",
    "\n",
    "\n",
    "\n",
    "\"\"\"\n",
    "-----------------------向量化，转为numpy格式矩阵---------------------------\n",
    "\"\"\"\n",
    "from sklearn import linear_model\n",
    "\n",
    "train_df=df.filter(regex='Survived|Age_.*|SibSp|Parch|Fare_.*|Cabin_.*|Embarked_.*|Sex_.*|Pclass_.*')\n",
    "train_np=train_df.as_matrix()\n",
    "\n",
    "y=train_np[:,0]#survival的结果\n",
    "\n",
    "X=train_np[:,1:]\n",
    "\n",
    "clf=linear_model.LogisticRegression(C=1.0,penalty='l1',tol=1e-6) #L1正则，惩罚因子1，最终误差在1e-6下\n",
    "clf.fit(X,y)\n",
    "model_score=clf.score(X,y) #0.809\n",
    "\n",
    "\"\"\"\n",
    "------------------对测试集数据进行相同的处理和预测------------------------------\n",
    "\n",
    "\"\"\"\n",
    "\n",
    "data_test.loc[(data_test.Fare.isnull()),'Fare']=0\n",
    "\n",
    "tmp_df=data_test[['Age','Fare','Parch','SibSp','Pclass']]\n",
    "null_age=tmp_df[data_test.Age.isnull()].as_matrix()\n",
    "X1=null_age[:,1:]\n",
    "#用同样的特征属性X输入到RandomForestRegressor中，填补年龄空缺\n",
    "predictedAge=rfr.predict(X1)\n",
    "data_test.loc[(data_test.Age.isnull()),'Age']=predictedAge\n",
    "\n",
    "data_test=set_Cabin_type(data_test)\n",
    "\n",
    "dummies_Cabin = pd.get_dummies(data_test['Cabin'], prefix= 'Cabin')\n",
    "dummies_Embarked = pd.get_dummies(data_test['Embarked'], prefix= 'Embarked')\n",
    "dummies_Sex = pd.get_dummies(data_test['Sex'], prefix= 'Sex')\n",
    "dummies_Pclass = pd.get_dummies(data_test['Pclass'], prefix= 'Pclass')\n",
    "\n",
    "df_test = pd.concat([data_test, dummies_Cabin, dummies_Embarked, dummies_Sex, dummies_Pclass], axis=1)\n",
    "df_test.drop(['Pclass', 'Name', 'Sex', 'Ticket', 'Cabin', 'Embarked'], axis=1, inplace=True)\n",
    "df_test['Age_scaled'] = scaler.fit_transform(df_test['Age'], age_scaler_param)\n",
    "df_test['Fare_scaled'] = scaler.fit_transform(df_test['Fare'], fare_scale_param)\n",
    "\n",
    "test = df_test.filter(regex='Age_.*|SibSp|Parch|Fare_.*|Cabin_.*|Embarked_.*|Sex_.*|Pclass_.*')\n",
    "#测试模型\n",
    "predictions=clf.predict(test)\n",
    "result=pd.DataFrame({'PassengerId':data_test['PassengerId'].as_matrix(),'Survived':predictions.astype(np.int32)})\n",
    "result.to_csv(\"logistic_regression_predictions1.csv\",index=False)\n",
    "\n",
    "da=pd.read_csv(\"logistic_regression_predictions1.csv\")\n",
    "\n",
    "\n",
    "\n",
    "\n",
    "\"\"\"\n",
    "-------------------------通过交叉验证判断模型是否过拟合----------------------------------------\n",
    "\"\"\"\n",
    "import numpy as np\n",
    "import matplotlib.pyplot as plt\n",
    "from sklearn.learning_curve import learning_curve\n",
    "\n",
    "# 用sklearn的learning_curve得到training_score和cv_score，使用matplotlib画出learning curve\n",
    "def plot_learning_curve(estimator, title, X, y, ylim=None, cv=None, n_jobs=1, \n",
    "                        train_sizes=np.linspace(.05, 1., 20), verbose=0, plot=True):\n",
    "    \"\"\"\n",
    "    画出data在某模型上的learning curve.\n",
    "    参数解释\n",
    "    ----------\n",
    "    estimator : 你用的分类器。\n",
    "    title : 表格的标题。\n",
    "    X : 输入的feature，numpy类型\n",
    "    y : 输入的target vector\n",
    "    ylim : tuple格式的(ymin, ymax), 设定图像中纵坐标的最低点和最高点\n",
    "    cv : 做cross-validation的时候，数据分成的份数，其中一份作为cv集，其余n-1份作为training(默认为3份)\n",
    "    n_jobs : 并行的的任务数(默认1)\n",
    "    \"\"\"\n",
    "    train_sizes, train_scores, test_scores = learning_curve(\n",
    "        estimator, X, y, cv=cv, n_jobs=n_jobs, train_sizes=train_sizes, verbose=verbose)\n",
    "\n",
    "    train_scores_mean = np.mean(train_scores, axis=1)\n",
    "    train_scores_std = np.std(train_scores, axis=1)\n",
    "    test_scores_mean = np.mean(test_scores, axis=1)\n",
    "    test_scores_std = np.std(test_scores, axis=1)\n",
    "\n",
    "    if plot:\n",
    "        plt.figure()\n",
    "        plt.title(title)\n",
    "        if ylim is not None:\n",
    "            plt.ylim(*ylim)\n",
    "        plt.xlabel(u\"训练样本数\")\n",
    "        plt.ylabel(u\"得分\")\n",
    "        plt.gca().invert_yaxis()\n",
    "        plt.grid()\n",
    "\n",
    "        plt.fill_between(train_sizes, train_scores_mean - train_scores_std, train_scores_mean + train_scores_std, \n",
    "                         alpha=0.1, color=\"b\")\n",
    "        plt.fill_between(train_sizes, test_scores_mean - test_scores_std, test_scores_mean + test_scores_std, \n",
    "                         alpha=0.1, color=\"r\")\n",
    "        plt.plot(train_sizes, train_scores_mean, 'o-', color=\"b\", label=u\"训练集上得分\")\n",
    "        plt.plot(train_sizes, test_scores_mean, 'o-', color=\"r\", label=u\"交叉验证集上得分\")\n",
    "\n",
    "        plt.legend(loc=\"best\")\n",
    "\n",
    "        plt.draw()\n",
    "        plt.gca().invert_yaxis()\n",
    "        plt.show()\n",
    "\n",
    "    midpoint = ((train_scores_mean[-1] + train_scores_std[-1]) + (test_scores_mean[-1] - test_scores_std[-1])) / 2\n",
    "    diff = (train_scores_mean[-1] + train_scores_std[-1]) - (test_scores_mean[-1] - test_scores_std[-1])\n",
    "    return midpoint, diff\n",
    "\n",
    "#plot_learning_curve(clf, u\"学习曲线\", X, y)\n",
    "\n",
    "\"\"\"\n",
    "从learning curve上没有发现过拟合现象（overfitting的表现一般是训练集上得分高，\n",
    "而交叉验证集上要低很多，中间的gap比较大），因此可以再mining些feature来训练\n",
    "\"\"\"\n",
    "\n",
    "#通过模型系数theta来查看各个属性与结果的相关程度\n",
    "pd.DataFrame({\"columes\":list(train_df.columns)[1:],\"coef\":list(clf.coef_.T)})\n",
    "\"\"\"\n",
    "正相关和负相关\n",
    "                 coef      columes\n",
    "0     [-0.3442288083]        SibSp\n",
    "1   [-0.104931485646]        Parch\n",
    "2               [0.0]     Cabin_No\n",
    "3    [0.902141633979]    Cabin_Yes  有cabin信息获救几率大\n",
    "4               [0.0]   Embarked_C\n",
    "5               [0.0]   Embarked_Q\n",
    "6   [-0.417262701772]   Embarked_S\n",
    "7     [1.95657801471]   Sex_female  女性获救几率大，正相关\n",
    "8   [-0.677418530198]     Sex_male  头等舱获救几率大\n",
    "9    [0.341141757161]     Pclass_1\n",
    "10              [0.0]     Pclass_2\n",
    "11   [-1.19414131133]     Pclass_3\n",
    "12  [-0.523782222235]   Age_scaled  年龄越小获救的几率越大，负相关\n",
    "13  [0.0844327966037]  Fare_scaled\n",
    "\"\"\"\n",
    "\n",
    "\n",
    "\n",
    "\"\"\"\n",
    "-------------一般是把linearRegressor作为baseline，然后使用不同的分类器比如SVM、RadomForest、NN等--------\n",
    "\n",
    "\"\"\"\n",
    "\n",
    "\n",
    "\"\"\"\n",
    "假设现在模型出现overfitting，那我们干脆就不要用全部的训练集，每次取训练集的一个subset，做训练，这样，\n",
    "我们虽然用的是同一个机器学习算法，但是得到的模型却是不一样的；同时，因为我们没有任何一份子数据集是全的，因此即使出现过拟合，\n",
    "也是在子训练集上出现过拟合，而不是全体数据上，这样做一个融合，可能对最后的结果有一定的帮助。对，这就是常用的Bagging。\n",
    "\"\"\"\n",
    "\n",
    "from sklearn.ensemble import BaggingRegressor\n",
    "\n",
    "train_df=df.filter(regex='Survived|Age_.*|SibSp|Parch|Fare_.*|Cabin_.*|Embarked_.*|Sex_.*|Pclass.*|Mother|Child|Family|Title')\n",
    "train_np=train_df.as_matrix()\n",
    "\n",
    "y=train_np[:,0]\n",
    "X=train_np[:,1:]\n",
    "\n",
    "clf=linear_model.LogisticRegression(C=1.0,penalty='l1',tol=1e-6)\n",
    "bagging_clf=BaggingRegressor(clf,n_estimators=10,max_samples=0.8,max_features=1.0,\n",
    "                             bootstrap=True,bootstrap_features=False,n_jobs=1)\n",
    "bagging_clf.fit(X,y)\n",
    "\n",
    "\n",
    "test_df=df.filter(regex='Age_.*|SibSp|Parch|Fare_.*|Cabin_.*|Embarked_.*|Sex_.*|Pclass.*|Mother|Child|Family|Title')\n",
    "predictions=bagging_clf.predict(test)\n",
    "result = pd.DataFrame({'PassengerId':data_test['PassengerId'].as_matrix(), 'Survived':predictions.astype(np.int32)})\n",
    "result.to_csv(\"logistic_regression_predictions2.csv\", index=False)"
   ]
  },
  {
   "cell_type": "code",
   "execution_count": null,
   "metadata": {},
   "outputs": [],
   "source": []
  }
 ],
 "metadata": {
  "kernelspec": {
   "display_name": "Python 3",
   "language": "python",
   "name": "python3"
  },
  "language_info": {
   "codemirror_mode": {
    "name": "ipython",
    "version": 3
   },
   "file_extension": ".py",
   "mimetype": "text/x-python",
   "name": "python",
   "nbconvert_exporter": "python",
   "pygments_lexer": "ipython3",
   "version": "3.6.5"
  }
 },
 "nbformat": 4,
 "nbformat_minor": 2
}
