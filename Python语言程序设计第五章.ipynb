{
 "cells": [
  {
   "cell_type": "markdown",
   "metadata": {},
   "source": [
    "# 第五章 函数和代码复用\n",
    "## 函数的基本使用\n",
    "### 函数的定义\n",
    "- 函数是一段具有特定功能的、可重用的语句组，用函数名来表示并通过函数名进行完成功能调用。\n",
    "- 函数也可以看作是一段具有名字的子程序，可以在需要的地方调用执行，不需要在每个执行地方重复编写这些语句。每次使用函数可以提供不同的参数作为输入，以实现对不同数据的处理；函数执行后，还可以反馈相应的处理结果。  \n",
    "\n",
    "Python定义一个函数使用def保留字，语法形式如下：\n",
    "```\n",
    "def <函数名>(<参数列表>):\n",
    "   <函数体>\n",
    "   return <返回值列表>\n",
    "```\n",
    "![](attach/function1.png)\n",
    "\n",
    "#### 微实例5.1：生日歌。\n",
    "过生日时要为朋友唱生日歌，歌词为：  \n",
    "Happy birthday to you!  \n",
    "Happy birthday to you!  \n",
    "Happy birthday, dear <名字>  \n",
    "Happy birthday to you!  \n",
    "编写程序为Mike和Lily输出生日歌。最简单的实现方法是重复使用print()语句  \n"
   ]
  },
  {
   "cell_type": "code",
   "execution_count": 5,
   "metadata": {
    "collapsed": true
   },
   "outputs": [],
   "source": [
    "#需要打印所有变量（而不只是最后一个）\n",
    "from IPython.core.interactiveshell import InteractiveShell\n",
    "InteractiveShell.ast_node_interactivity = \"all\""
   ]
  },
  {
   "cell_type": "code",
   "execution_count": 1,
   "metadata": {},
   "outputs": [
    {
     "name": "stdout",
     "output_type": "stream",
     "text": [
      "Happy birthday to you!\n",
      "Happy birthday to you!\n",
      "Happy birthday, dear Mike!\n",
      "Happy birthday to you!\n"
     ]
    }
   ],
   "source": [
    "#重复使用print（）语句\n",
    "print(\"Happy birthday to you!\")\n",
    "print(\"Happy birthday to you!\")\n",
    "print(\"Happy birthday, dear Mike!\")\n",
    "print(\"Happy birthday to you!\")\n"
   ]
  },
  {
   "cell_type": "code",
   "execution_count": 3,
   "metadata": {},
   "outputs": [
    {
     "name": "stdout",
     "output_type": "stream",
     "text": [
      "Happy birthday to you!\n",
      "Happy birthday to you!\n",
      "Happy birthday, dear Mike!\n",
      "Happy birthday to you!\n",
      "\n",
      "Happy birthday to you!\n",
      "Happy birthday to you!\n",
      "Happy birthday, dear Lily!\n",
      "Happy birthday to you!\n"
     ]
    }
   ],
   "source": [
    "#使用函数\n",
    "def happy():\n",
    "    print(\"Happy birthday to you!\")\n",
    "def happyB(name):\n",
    "    happy()\n",
    "    happy()\n",
    "    print(\"Happy birthday, dear {}!\".format(name))\n",
    "    happy()\n",
    "happyB(\"Mike\")\n",
    "print()\n",
    "happyB(\"Lily\")\n"
   ]
  },
  {
   "cell_type": "code",
   "execution_count": 2,
   "metadata": {},
   "outputs": [
    {
     "name": "stdout",
     "output_type": "stream",
     "text": [
      "Sum is 55\n"
     ]
    }
   ],
   "source": [
    "#函数实例：打印累加和\n",
    "#参数：起始数，终止数\n",
    "#返回：累加和\n",
    "def print_sum(start,stop):\n",
    "    result = 0\n",
    "    for i in range(start, stop + 1):\n",
    "        result += i\n",
    "    print(\"Sum is {}\".format(result))\n",
    "#调用函数\n",
    "print_sum(1,10)"
   ]
  },
  {
   "cell_type": "markdown",
   "metadata": {},
   "source": [
    "![](attach/function2.png)"
   ]
  },
  {
   "cell_type": "markdown",
   "metadata": {},
   "source": [
    "### 函数调用的过程\n",
    "程序调用一个函数需要执行以下四个步骤：  \n",
    "（1）调用程序在调用处暂停执行；  \n",
    "（2）在调用时将实参复制给函数的形参；  \n",
    "（3）执行函数体语句；  \n",
    "（4）函数调用结束给出返回值，程序回到调用前的暂停处继续执行。  \n",
    "\n",
    "### lambda函数\n",
    "Python的有33个保留字，其中一个是lambda，该保留字用于定义一种特殊的函数——匿名函数，又称lambda函数。  \n",
    "匿名函数并非没有名字，而是将函数名作为函数结果返回，如下：  \n",
    "<函数名> = lambda <参数列表>: <表达式>  \n",
    "lambda函数与正常函数一样，等价于下面形式：  \n",
    "```\n",
    "def <函数名>(<参数列表>):\n",
    "     return <表达式>\n",
    "```\n",
    "简单说，lambda函数用于定义简单的、能够在一行内表示的函数，返回一个函数类型，实例如下。\n"
   ]
  },
  {
   "cell_type": "code",
   "execution_count": 6,
   "metadata": {},
   "outputs": [
    {
     "data": {
      "text/plain": [
       "function"
      ]
     },
     "execution_count": 6,
     "metadata": {},
     "output_type": "execute_result"
    },
    {
     "data": {
      "text/plain": [
       "22"
      ]
     },
     "execution_count": 6,
     "metadata": {},
     "output_type": "execute_result"
    }
   ],
   "source": [
    "f = lambda x, y : x + y\n",
    "type(f)\n",
    "f(10,12)"
   ]
  },
  {
   "cell_type": "markdown",
   "metadata": {},
   "source": [
    "## 函数的参数传递\n",
    "### 可选参数和可变数量参数\n",
    "在定义函数时，有些参数可以存在默认值\n"
   ]
  },
  {
   "cell_type": "code",
   "execution_count": 7,
   "metadata": {},
   "outputs": [
    {
     "name": "stdout",
     "output_type": "stream",
     "text": [
      "knock~knock~\n",
      "knock~knock~knock~knock~\n"
     ]
    }
   ],
   "source": [
    "def dup(str, times = 2):\n",
    "        print(str*times)\n",
    "dup(\"knock~\")\n",
    "dup(\"knock~\",4)\n"
   ]
  },
  {
   "cell_type": "markdown",
   "metadata": {},
   "source": [
    "在函数定义时，可以设计可变数量参数，通过参数前增加星号（*）实现\n"
   ]
  },
  {
   "cell_type": "code",
   "execution_count": 9,
   "metadata": {},
   "outputs": [
    {
     "name": "stdout",
     "output_type": "stream",
     "text": [
      "<class 'tuple'>\n",
      "(2, 3, 4, 5)\n"
     ]
    },
    {
     "data": {
      "text/plain": [
       "15"
      ]
     },
     "execution_count": 9,
     "metadata": {},
     "output_type": "execute_result"
    }
   ],
   "source": [
    "def vfunc(a, *b):\n",
    "        print(type(b))\n",
    "        print(b)\n",
    "        for n in b:\n",
    "             a += n\n",
    "        return a\n",
    "vfunc(1,2,3,4,5)\n"
   ]
  },
  {
   "cell_type": "markdown",
   "metadata": {},
   "source": [
    "### 参数的位置和名称传递\n",
    "Python提供了按照形参名称输入实参的方式，调用如下：\n",
    "```\n",
    "result = func(x2=4, y2=5, z2=6, x1=1, y1=2, z1=3)\n",
    "```\n",
    "由于调用函数时指定了参数名称，所以参数之间的顺序可以任意调整。\n"
   ]
  },
  {
   "cell_type": "markdown",
   "metadata": {},
   "source": [
    "### 变量的返回值\n",
    "- return语句用来退出函数并将程序返回到函数被调用的位置继续执行。\n",
    "- return语句同时可以将0个、1个或多个函数运算完的结果返回给函数被调用处的变量，例如。\n"
   ]
  },
  {
   "cell_type": "code",
   "execution_count": 10,
   "metadata": {},
   "outputs": [
    {
     "name": "stdout",
     "output_type": "stream",
     "text": [
      "knock~knock~\n"
     ]
    }
   ],
   "source": [
    "def func(a, b):\n",
    "    return a*b\n",
    "s = func(\"knock~\", 2)\n",
    "print(s)\n"
   ]
  },
  {
   "cell_type": "markdown",
   "metadata": {},
   "source": [
    "函数可以没有return，此时函数并不返回值，如微实例5.1的happy()函数。函数也可以用return返回多个值，多个值以元组类型保存，例如。 \n"
   ]
  },
  {
   "cell_type": "code",
   "execution_count": 11,
   "metadata": {},
   "outputs": [
    {
     "name": "stdout",
     "output_type": "stream",
     "text": [
      "(2, 'knock~') <class 'tuple'>\n"
     ]
    }
   ],
   "source": [
    "def func(a, b):\n",
    "        return b,a\n",
    "s = func(\"knock~\", 2)\n",
    "print(s, type(s))\n"
   ]
  },
  {
   "cell_type": "markdown",
   "metadata": {},
   "source": [
    "### 函数对变量的作用\n",
    "一个程序中的变量包括两类：全局变量和局部变量。\n",
    "- 全局变量指在函数之外定义的变量，一般没有缩进，在程序执行全过程有效。\n",
    "- 局部变量指在函数内部使用的变量，仅在函数内部有效，当函数退出时变量将不存在。  \n"
   ]
  },
  {
   "cell_type": "code",
   "execution_count": 12,
   "metadata": {},
   "outputs": [
    {
     "ename": "NameError",
     "evalue": "name 'c' is not defined",
     "output_type": "error",
     "traceback": [
      "\u001b[1;31m---------------------------------------------------------------------------\u001b[0m",
      "\u001b[1;31mNameError\u001b[0m                                 Traceback (most recent call last)",
      "\u001b[1;32m<ipython-input-12-b329afe441ac>\u001b[0m in \u001b[0;36m<module>\u001b[1;34m()\u001b[0m\n\u001b[0;32m      4\u001b[0m     \u001b[1;32mreturn\u001b[0m \u001b[0mc\u001b[0m\u001b[1;33m\u001b[0m\u001b[0m\n\u001b[0;32m      5\u001b[0m \u001b[0ms\u001b[0m \u001b[1;33m=\u001b[0m \u001b[0mfunc\u001b[0m\u001b[1;33m(\u001b[0m\u001b[1;34m\"knock~\"\u001b[0m\u001b[1;33m,\u001b[0m \u001b[1;36m2\u001b[0m\u001b[1;33m)\u001b[0m\u001b[1;33m\u001b[0m\u001b[0m\n\u001b[1;32m----> 6\u001b[1;33m \u001b[0mprint\u001b[0m\u001b[1;33m(\u001b[0m\u001b[0mc\u001b[0m\u001b[1;33m)\u001b[0m\u001b[1;33m\u001b[0m\u001b[0m\n\u001b[0m",
      "\u001b[1;31mNameError\u001b[0m: name 'c' is not defined"
     ]
    }
   ],
   "source": [
    "n = 1    #n是全局变量\n",
    "def func(a, b):\n",
    "    c = a * b     #c是局部变量，a和b作为函数参数也是局部变量\n",
    "    return c\n",
    "s = func(\"knock~\", 2)\n",
    "print(c)\n"
   ]
  },
  {
   "cell_type": "markdown",
   "metadata": {},
   "source": [
    "这个例子说明，当函数执行完退出后，其内部变量将被释放。如果函数内部使用全局变量呢？"
   ]
  },
  {
   "cell_type": "code",
   "execution_count": 13,
   "metadata": {},
   "outputs": [
    {
     "name": "stdout",
     "output_type": "stream",
     "text": [
      "knock~knock~ 1\n"
     ]
    }
   ],
   "source": [
    "n = 1    #n是全局变量\n",
    "def func(a, b):\n",
    "    n = b     #这个n是在函数内存中新生成的局部变量，不是全局变量 \n",
    "    return a*b\n",
    "s = func(\"knock~\", 2)\n",
    "print(s, n)  #测试一下n值是否改变\n"
   ]
  },
  {
   "cell_type": "markdown",
   "metadata": {},
   "source": [
    "函数func()内部使用了变量n，并且将变量参数b赋值给变量n，为何全局变量n值没有改变？  \n",
    "如果希望让func()函数将n当作全局变量，需要在变量n使用前显式声明该变量为全局变量，代码如下。\n"
   ]
  },
  {
   "cell_type": "code",
   "execution_count": 15,
   "metadata": {},
   "outputs": [
    {
     "name": "stdout",
     "output_type": "stream",
     "text": [
      "knock~knock~ 2\n"
     ]
    }
   ],
   "source": [
    "n = 1    #n是全局变量\n",
    "def func(a, b):\n",
    "    global n\n",
    "    n = b     #将局部变量b赋值给全局变量n \n",
    "    return a*b\n",
    "s = func(\"knock~\", 2)\n",
    "print(s, n)  #测试一下n值是否改变\n"
   ]
  },
  {
   "cell_type": "markdown",
   "metadata": {},
   "source": [
    "如果此时的全局变量不是整数n，而是列表类型ls，会怎么样呢？理解如下代码。\n"
   ]
  },
  {
   "cell_type": "code",
   "execution_count": 16,
   "metadata": {},
   "outputs": [
    {
     "name": "stdout",
     "output_type": "stream",
     "text": [
      "knock~knock~ [2]\n"
     ]
    }
   ],
   "source": [
    "ls = []    #ls是全局列表变量\n",
    "def func(a, b):\n",
    "    ls.append(b)   #将局部变量b增加到全局列表变量ls中 \n",
    "    return a*b\n",
    "s = func(\"knock~\", 2)\n",
    "print(s, ls)  #测试一下ls值是否改变\n"
   ]
  },
  {
   "cell_type": "markdown",
   "metadata": {},
   "source": [
    "如果func()函数内部存在一个真实创建过且名称为ls的列表，则func()将操作该列表而不会修改全局变量，例子如下。\n"
   ]
  },
  {
   "cell_type": "code",
   "execution_count": 18,
   "metadata": {},
   "outputs": [
    {
     "name": "stdout",
     "output_type": "stream",
     "text": [
      "knock~knock~knock~ []\n"
     ]
    }
   ],
   "source": [
    "ls = []    #ls是全局列表变量\n",
    "def func(a, b):\n",
    "    ls = []     #创建了名称为ls的局部列表变量列\n",
    "    ls.append(b)   #将局部变量b增加到全局列表变量ls中 \n",
    "    return a*b\n",
    "s = func(\"knock~\", 3)\n",
    "print(s, ls)  #测试一下ls值是否改变\n"
   ]
  },
  {
   "cell_type": "markdown",
   "metadata": {},
   "source": [
    "**Python函数对变量的作用遵守如下原则：**\n",
    "- 简单数据类型变量无论是否与全局变量重名，仅在函数内部创建和使用，函数退出后变量被释放；\n",
    "- 简单数据类型变量在用global保留字声明后，作为全局变量；\n",
    "- 对于组合数据类型的全局变量，如果在函数内部没有被真实创建的同名变量，则函数内部可直接使用并修改全局变量的值；\n",
    "- 如果函数内部真实创建了组合数据类型变量，无论是否有同名全局变量，函数仅对局部变量进行操作。\n"
   ]
  },
  {
   "cell_type": "markdown",
   "metadata": {},
   "source": [
    "## datetime库的使用\n",
    "### datetime库概述\n",
    "以不同格式显示日期和时间是程序中最常用到的功能。Python提供了一个处理时间的标准函数库datetime，它提供了一系列由简单到复杂的时间处理方法。datetime库可以从系统中获得时间，并以用户选择的格式输出。  \n",
    "datetime库以类的方式提供多种日期和时间表达方式：  \n",
    "- datetime.date：日期表示类，可以表示年、月、日等\n",
    "- datetime.time：时间表示类，可以表示小时、分钟、秒、毫秒等\n",
    "- datetime.datetime：日期和时间表示的类，功能覆盖date和time类\n",
    "- datetime.timedelta：时间间隔有关的类\n",
    "- datetime.tzinfo：与时区有关的信息表示类\n"
   ]
  },
  {
   "cell_type": "markdown",
   "metadata": {},
   "source": [
    "### datetime库解析\n",
    "使用datetime.now()获得当前日期和时间对象，使用方法如下：\n",
    "```\n",
    " datetime.now()\n",
    "```\n",
    "作用：返回一个datetime类型，表示当前的日期和时间，精确到微秒。\n"
   ]
  },
  {
   "cell_type": "code",
   "execution_count": 19,
   "metadata": {},
   "outputs": [
    {
     "data": {
      "text/plain": [
       "datetime.datetime(2017, 7, 16, 15, 29, 51, 458207)"
      ]
     },
     "execution_count": 19,
     "metadata": {},
     "output_type": "execute_result"
    }
   ],
   "source": [
    "from datetime import datetime\n",
    "today = datetime.now()\n",
    "today\n"
   ]
  },
  {
   "cell_type": "markdown",
   "metadata": {},
   "source": [
    "也可以直接使用datetime()构造一个日期和时间对象，使用方法如下：\n",
    "```\n",
    "datetime(year, month, day, hour=0, minute=0,second=0, microsecond=0)\n",
    "```\n",
    "作用：返回一个datetime类型，表示指定的日期和时间，可以精确到微秒。\n"
   ]
  },
  {
   "cell_type": "code",
   "execution_count": 22,
   "metadata": {},
   "outputs": [
    {
     "data": {
      "text/plain": [
       "datetime.datetime(2016, 9, 16, 22, 33, 32, 7)"
      ]
     },
     "execution_count": 22,
     "metadata": {},
     "output_type": "execute_result"
    },
    {
     "data": {
      "text/plain": [
       "'2016-09-16T22:33:32.000007'"
      ]
     },
     "execution_count": 22,
     "metadata": {},
     "output_type": "execute_result"
    },
    {
     "data": {
      "text/plain": [
       "5"
      ]
     },
     "execution_count": 22,
     "metadata": {},
     "output_type": "execute_result"
    },
    {
     "data": {
      "text/plain": [
       "'2016-09-16 22:33:32'"
      ]
     },
     "execution_count": 22,
     "metadata": {},
     "output_type": "execute_result"
    }
   ],
   "source": [
    "#调用datetime()函数直接创建一个datetime对象，表示2016年9月16日22:33，32秒7微秒\n",
    "someday = datetime(2016,9,16,22,33,32,7)\n",
    "someday\n",
    "#datetime对象有3个常用的时间格式化方法\n",
    "someday.isoformat()\n",
    "someday.isoweekday()\n",
    "someday.strftime(\"%Y-%m-%d %H:%M:%S\")\n"
   ]
  },
  {
   "cell_type": "markdown",
   "metadata": {},
   "source": [
    "strftime()格式化字符串的数字左侧会自动补零，上述格式也可以与print()的格式化函数一起使用\n"
   ]
  },
  {
   "cell_type": "code",
   "execution_count": 24,
   "metadata": {},
   "outputs": [
    {
     "data": {
      "text/plain": [
       "'2017-07-16'"
      ]
     },
     "execution_count": 24,
     "metadata": {},
     "output_type": "execute_result"
    },
    {
     "data": {
      "text/plain": [
       "'Sunday, 16. July 2017 03:34PM'"
      ]
     },
     "execution_count": 24,
     "metadata": {},
     "output_type": "execute_result"
    },
    {
     "name": "stdout",
     "output_type": "stream",
     "text": [
      "今天是2017年07月16日\n"
     ]
    }
   ],
   "source": [
    "from datetime import datetime\n",
    "now = datetime.now()\n",
    "now.strftime(\"%Y-%m-%d\")\n",
    "now.strftime(\"%A, %d. %B %Y %I:%M%p\")\n",
    "print(\"今天是{0:%Y}年{0:%m}月{0:%d}日\".format(now))\n"
   ]
  },
  {
   "cell_type": "markdown",
   "metadata": {},
   "source": [
    "## 七段数码管绘制\n",
    "七段数码管（seven-segment indicator）由7段数码管拼接而成，每段有亮或不亮两种情况，改进型的七段数码管还包括一个小数点位置。  \n",
    "七段数码管能形成27=128种不同状态，其中部分状态能够显示易于人们理解的数字或字母含义，因此被广泛使用  \n",
    "每个0到9的数字都有相同的七段数码管样式，因此，可以通过设计函数复用数字的绘制过程。进一步，每个七段数码管包括7个数码管样式，除了数码管位置不同外，绘制风格一致，也可以通过函数复用单个数码段的绘制过程。\n"
   ]
  },
  {
   "cell_type": "code",
   "execution_count": 1,
   "metadata": {
    "collapsed": true
   },
   "outputs": [],
   "source": [
    "import turtle, datetime\n",
    "def drawLine(draw):   #绘制单段数码管\n",
    "    turtle.pendown() if draw else turtle.penup()\n",
    "    turtle.fd(40)\n",
    "    turtle.right(90)\n",
    "def drawDigit(d): #根据数字绘制七段数码管\n",
    "    drawLine(True) if d in [2,3,4,5,6,8,9] else drawLine(False)\n",
    "    drawLine(True)  if d in [0,1,3,4,5,6,7,8,9] else drawLine(False)\n",
    "    drawLine(True) if d in [0,2,3,5,6,8,9] else drawLine(False)\n",
    "    drawLine(True) if d in [0,2,6,8] else drawLine(False)\n",
    "    turtle.left(90)\n",
    "    drawLine(True) if d in [0,4,5,6,8,9] else drawLine(False)\n",
    "    drawLine(True) if d in [0,2,3,5,6,7,8,9] else drawLine(False)\n",
    "    drawLine(True) if d in [0,1,2,3,4,7,8,9] else drawLine(False)\n",
    "    turtle.left(180)\n",
    "    turtle.penup()\n",
    "    turtle.fd(20) \n",
    "def drawDate(date):  #获得要输出的数字\n",
    "    for i in date:\n",
    "        drawDigit(eval(i))  #注意: 通过eval()函数将数字变为整数\n",
    "def main():\n",
    "    turtle.setup(800, 350, 200, 200)\n",
    "    turtle.penup()\n",
    "    turtle.fd(-300)\n",
    "    turtle.pensize(5)\n",
    "    drawDate(datetime.datetime.now().strftime('%Y%m%d'))\n",
    "    turtle.hideturtle()\n",
    "main()\n",
    "turtle.exitonclick()"
   ]
  },
  {
   "cell_type": "markdown",
   "metadata": {},
   "source": [
    "改进的代码："
   ]
  },
  {
   "cell_type": "code",
   "execution_count": 3,
   "metadata": {},
   "outputs": [],
   "source": [
    "import turtle, datetime\n",
    "def drawGap(): #绘制数码管间隔\n",
    "    turtle.penup()\n",
    "    turtle.fd(5)\n",
    "def drawLine(draw):   #绘制单段数码管\n",
    "    drawGap()\n",
    "    turtle.pendown() if draw else turtle.penup()\n",
    "    turtle.fd(40)\n",
    "    drawGap()    \n",
    "    turtle.right(90)\n",
    "def drawDigit(d): #根据数字绘制七段数码管\n",
    "    drawLine(True) if d in [2,3,4,5,6,8,9] else drawLine(False)\n",
    "    drawLine(True) if d in [0,1,3,4,5,6,7,8,9] else drawLine(False)\n",
    "    drawLine(True) if d in [0,2,3,5,6,8,9] else drawLine(False)\n",
    "    drawLine(True) if d in [0,2,6,8] else drawLine(False)\n",
    "    turtle.left(90)\n",
    "    drawLine(True) if d in [0,4,5,6,8,9] else drawLine(False)\n",
    "    drawLine(True) if d in [0,2,3,5,6,7,8,9] else drawLine(False)\n",
    "    drawLine(True) if d in [0,1,2,3,4,7,8,9] else drawLine(False)\n",
    "    turtle.left(180)\n",
    "    turtle.penup()\n",
    "    turtle.fd(20) \n",
    "def drawDate(date):\n",
    "    turtle.pencolor(\"red\")\n",
    "    for i in date:\n",
    "        if i == '-':\n",
    "            turtle.write('年',font=(\"Arial\", 18, \"normal\"))\n",
    "            turtle.pencolor(\"green\")\n",
    "            turtle.fd(40) \n",
    "        elif i == '=':\n",
    "            turtle.write('月',font=(\"Arial\", 18, \"normal\"))\n",
    "            turtle.pencolor(\"blue\")\n",
    "            turtle.fd(40)\n",
    "        elif i == '+':\n",
    "            turtle.write('日',font=(\"Arial\", 18, \"normal\"))\n",
    "        else:\n",
    "            drawDigit(eval(i))\n",
    "def main():\n",
    "    turtle.setup(800, 350, 200, 200)\n",
    "    turtle.penup()\n",
    "    turtle.fd(-350)\n",
    "    turtle.pensize(5)\n",
    "    drawDate(datetime.datetime.now().strftime('%Y-%m=%d+'))\n",
    "    turtle.hideturtle()\n",
    "main()\n",
    "turtle.exitonclick()"
   ]
  },
  {
   "cell_type": "markdown",
   "metadata": {},
   "source": [
    "## 代码的复用和模块化设计\n",
    "函数是程序的一种基本抽象方式，它将一系列代码组织起来通过命名供其他程序使用。函数封装的直接好处是代码复用，任何其他代码只要输入参数即可调用函数，从而避免相同功能代码在被调用处重复编写。代码复用产生了另一个好处，当更新函数功能时，所有被调用处的功能都被更新。  \n",
    "当程序的长度在百行以上，如果不划分模块就算是最好的程序员也很难理解程序含义程序的可读性就已经很糟糕了。解决这一问题的最好方法是将一个程序分割成短小的程序段，每一段程序完成一个小的功能。无论面向过程和面向对象编程，对程序合理划分功能模块并基于模块设计程序是一种常用方法，被称为“模块化设计”。  \n",
    "**模块化设计一般有两个基本要求：**  \n",
    "- 紧耦合：尽可能合理划分功能块，功能块内部耦合紧密；\n",
    "- 松耦合：模块间关系尽可能简单，功能块之间耦合度低。\n",
    "\n",
    "使用函数只是模块化设计的必要非充分条件，根据计算需求合理划分函数十分重要。一般来说，完成特定功能或被经常复用的一组语句应该采用函数来封装，并尽可能减少函数间参数和返回值的数量。\n"
   ]
  },
  {
   "cell_type": "markdown",
   "metadata": {},
   "source": [
    "## 函数的递归\n",
    "### 递归的定义\n",
    "函数作为一种代码封装，可以被其他程序调用，当然，也可以被函数内部代码调用。这种函数定义中调用函数自身的方式称为递归。就像一个人站在装满镜子的房间中，看到的影像就是递归的结果。递归在数学和计算机应用上非常强大，能够非常简洁的解决重要问题。  \n",
    "数学上有个经典的递归例子叫阶乘。  \n",
    "阶乘的例子揭示了递归的2个关键特征：  \n",
    "（1）存在一个或多个基例，基例不需要再次递归，它是确定的表达式；  \n",
    "（2）所有递归链要以一个或多个基例结尾。  \n"
   ]
  },
  {
   "cell_type": "markdown",
   "metadata": {},
   "source": [
    "### 递归的使用方法\n",
    "#### 微实例5.21：阶乘的计算。\n",
    "根据用户输入的整数n，计算并输出n的阶乘值。\n"
   ]
  },
  {
   "cell_type": "code",
   "execution_count": 32,
   "metadata": {},
   "outputs": [
    {
     "name": "stdout",
     "output_type": "stream",
     "text": [
      "请输入一个整数: 6\n",
      "720\n"
     ]
    }
   ],
   "source": [
    "def fact(n):\n",
    "    if n == 0:\n",
    "        return 1\n",
    "    else:\n",
    "        return n * fact(n-1)\n",
    "num = eval(input(\"请输入一个整数: \"))\n",
    "print(fact(abs(int(num))))\n"
   ]
  },
  {
   "cell_type": "markdown",
   "metadata": {},
   "source": [
    "#### 微实例5.32：字符串反转。\n",
    "对于用户输入的字符串s，输出反转后的字符串。    \n",
    "解决这个问题的基本思想是把字符串看作一个递归对象。  \n"
   ]
  },
  {
   "cell_type": "code",
   "execution_count": 3,
   "metadata": {},
   "outputs": [
    {
     "ename": "RecursionError",
     "evalue": "maximum recursion depth exceeded",
     "output_type": "error",
     "traceback": [
      "\u001b[1;31m---------------------------------------------------------------------------\u001b[0m",
      "\u001b[1;31mRecursionError\u001b[0m                            Traceback (most recent call last)",
      "\u001b[1;32m<ipython-input-3-74f5c92adb66>\u001b[0m in \u001b[0;36m<module>\u001b[1;34m()\u001b[0m\n\u001b[0;32m      1\u001b[0m \u001b[1;32mdef\u001b[0m \u001b[0mreverse\u001b[0m\u001b[1;33m(\u001b[0m\u001b[0ms\u001b[0m\u001b[1;33m)\u001b[0m\u001b[1;33m:\u001b[0m\u001b[1;33m\u001b[0m\u001b[0m\n\u001b[0;32m      2\u001b[0m     \u001b[1;32mreturn\u001b[0m \u001b[0mreverse\u001b[0m\u001b[1;33m(\u001b[0m\u001b[0ms\u001b[0m\u001b[1;33m[\u001b[0m\u001b[1;36m1\u001b[0m\u001b[1;33m:\u001b[0m\u001b[1;33m]\u001b[0m\u001b[1;33m)\u001b[0m \u001b[1;33m+\u001b[0m \u001b[0ms\u001b[0m\u001b[1;33m[\u001b[0m\u001b[1;36m0\u001b[0m\u001b[1;33m]\u001b[0m\u001b[1;33m\u001b[0m\u001b[0m\n\u001b[1;32m----> 3\u001b[1;33m \u001b[0mreverse\u001b[0m\u001b[1;33m(\u001b[0m\u001b[1;34m\"ABC\"\u001b[0m\u001b[1;33m)\u001b[0m\u001b[1;33m\u001b[0m\u001b[0m\n\u001b[0m",
      "\u001b[1;32m<ipython-input-3-74f5c92adb66>\u001b[0m in \u001b[0;36mreverse\u001b[1;34m(s)\u001b[0m\n\u001b[0;32m      1\u001b[0m \u001b[1;32mdef\u001b[0m \u001b[0mreverse\u001b[0m\u001b[1;33m(\u001b[0m\u001b[0ms\u001b[0m\u001b[1;33m)\u001b[0m\u001b[1;33m:\u001b[0m\u001b[1;33m\u001b[0m\u001b[0m\n\u001b[1;32m----> 2\u001b[1;33m     \u001b[1;32mreturn\u001b[0m \u001b[0mreverse\u001b[0m\u001b[1;33m(\u001b[0m\u001b[0ms\u001b[0m\u001b[1;33m[\u001b[0m\u001b[1;36m1\u001b[0m\u001b[1;33m:\u001b[0m\u001b[1;33m]\u001b[0m\u001b[1;33m)\u001b[0m \u001b[1;33m+\u001b[0m \u001b[0ms\u001b[0m\u001b[1;33m[\u001b[0m\u001b[1;36m0\u001b[0m\u001b[1;33m]\u001b[0m\u001b[1;33m\u001b[0m\u001b[0m\n\u001b[0m\u001b[0;32m      3\u001b[0m \u001b[0mreverse\u001b[0m\u001b[1;33m(\u001b[0m\u001b[1;34m\"ABC\"\u001b[0m\u001b[1;33m)\u001b[0m\u001b[1;33m\u001b[0m\u001b[0m\n",
      "... last 1 frames repeated, from the frame below ...\n",
      "\u001b[1;32m<ipython-input-3-74f5c92adb66>\u001b[0m in \u001b[0;36mreverse\u001b[1;34m(s)\u001b[0m\n\u001b[0;32m      1\u001b[0m \u001b[1;32mdef\u001b[0m \u001b[0mreverse\u001b[0m\u001b[1;33m(\u001b[0m\u001b[0ms\u001b[0m\u001b[1;33m)\u001b[0m\u001b[1;33m:\u001b[0m\u001b[1;33m\u001b[0m\u001b[0m\n\u001b[1;32m----> 2\u001b[1;33m     \u001b[1;32mreturn\u001b[0m \u001b[0mreverse\u001b[0m\u001b[1;33m(\u001b[0m\u001b[0ms\u001b[0m\u001b[1;33m[\u001b[0m\u001b[1;36m1\u001b[0m\u001b[1;33m:\u001b[0m\u001b[1;33m]\u001b[0m\u001b[1;33m)\u001b[0m \u001b[1;33m+\u001b[0m \u001b[0ms\u001b[0m\u001b[1;33m[\u001b[0m\u001b[1;36m0\u001b[0m\u001b[1;33m]\u001b[0m\u001b[1;33m\u001b[0m\u001b[0m\n\u001b[0m\u001b[0;32m      3\u001b[0m \u001b[0mreverse\u001b[0m\u001b[1;33m(\u001b[0m\u001b[1;34m\"ABC\"\u001b[0m\u001b[1;33m)\u001b[0m\u001b[1;33m\u001b[0m\u001b[0m\n",
      "\u001b[1;31mRecursionError\u001b[0m: maximum recursion depth exceeded"
     ]
    }
   ],
   "source": [
    "def reverse(s):\n",
    "    return reverse(s[1:]) + s[0]\n",
    "reverse(\"ABC\")\n"
   ]
  },
  {
   "cell_type": "markdown",
   "metadata": {},
   "source": [
    "错误的原因是没有基例，修改如下："
   ]
  },
  {
   "cell_type": "code",
   "execution_count": 34,
   "metadata": {},
   "outputs": [
    {
     "data": {
      "text/plain": [
       "'CBA'"
      ]
     },
     "execution_count": 34,
     "metadata": {},
     "output_type": "execute_result"
    }
   ],
   "source": [
    "def reverse(s):\n",
    "    if s == \"\":\n",
    "        return s\n",
    "    else:\n",
    "        return reverse(s[1:]) + s[0]\n",
    "reverse(\"ABC\")"
   ]
  },
  {
   "cell_type": "markdown",
   "metadata": {},
   "source": [
    "观察这个函数的工作过程。s[0]是首字符，s[1:]是剩余字符串，将它们反向连接，可以得到反转字符串。"
   ]
  },
  {
   "cell_type": "markdown",
   "metadata": {},
   "source": [
    "## 科赫曲线绘制\n",
    "自然界有很多图形很规则，符合一定的数学规律，例如，蜜蜂蜂窝是天然的等边六角形等。科赫(Koch)曲线在众多经典数学曲线中非常著名，由瑞典数学家冯·科赫(H·V·Koch)于1904年提出，由于其形状类似雪花，也被称为雪花曲线。  \n",
    "科赫曲线的基本概念和绘制方法如下：  \n",
    "正整数n代表科赫曲线的阶数，表示生成科赫曲线过程的操作次数。科赫曲线初始化阶数为0，表示一个长度为L的直线。对于直线L，将其等分为三段，中间一段用边长为L/3的等边三角形的两个边替代，得到1阶科赫曲线，它包含四条线段。进一步对每条线段重复同样的操作后得到2阶科赫曲线。继续重复同样的操作n次可以得到n阶科赫曲线。  \n",
    "科赫曲线属于分形几何分支，它的绘制过程体现了递归思想，绘制过程代码。\n"
   ]
  },
  {
   "cell_type": "code",
   "execution_count": 5,
   "metadata": {},
   "outputs": [],
   "source": [
    "import turtle\n",
    "def koch(size, n):\n",
    "    if n == 0:\n",
    "        turtle.fd(size)\n",
    "    else:\n",
    "        for angle in [0, 60, -120, 60]:\n",
    "           turtle.left(angle)\n",
    "           koch(size/3, n-1) \n",
    "def main():\n",
    "    turtle.setup(800,400)\n",
    "    turtle.speed(0)  #控制绘制速度\n",
    "    turtle.penup()\n",
    "    turtle.goto(-300, -50)\n",
    "    turtle.pendown()\n",
    "    turtle.pensize(2)\n",
    "    koch(600,3)     # 0阶科赫曲线长度，阶数\n",
    "    turtle.hideturtle()\n",
    "main()\n",
    "turtle.exitonclick()"
   ]
  },
  {
   "cell_type": "markdown",
   "metadata": {},
   "source": [
    "**科赫曲线的雪花效果**"
   ]
  },
  {
   "cell_type": "code",
   "execution_count": null,
   "metadata": {
    "collapsed": true
   },
   "outputs": [],
   "source": [
    "import turtle\n",
    "def koch(size, n):\n",
    "    if n == 0:\n",
    "        turtle.fd(size)\n",
    "    else:\n",
    "        for angle in [0, 60, -120, 60]:\n",
    "           turtle.left(angle)\n",
    "           koch(size/3, n-1) \n",
    "def main():\n",
    "    turtle.setup(600,600)\n",
    "    turtle.speed(0)\n",
    "    turtle.penup()\n",
    "    turtle.goto(-200, 100)\n",
    "    turtle.pendown()\n",
    "    turtle.pensize(2)\n",
    "    level = 5\n",
    "    koch(400,level)\n",
    "    turtle.right(120)\n",
    "    koch(400,level)\n",
    "    turtle.right(120)\n",
    "    koch(400,level)\n",
    "    turtle.hideturtle()\n",
    "main()"
   ]
  },
  {
   "cell_type": "markdown",
   "metadata": {},
   "source": [
    "## Python内置函数\n",
    "Python解释器提供了68个内置函数，其中，前36个已经或将在课程中出现，需要掌握。\n"
   ]
  },
  {
   "cell_type": "code",
   "execution_count": 41,
   "metadata": {},
   "outputs": [
    {
     "data": {
      "text/plain": [
       "False"
      ]
     },
     "execution_count": 41,
     "metadata": {},
     "output_type": "execute_result"
    },
    {
     "data": {
      "text/plain": [
       "True"
      ]
     },
     "execution_count": 41,
     "metadata": {},
     "output_type": "execute_result"
    },
    {
     "data": {
      "text/plain": [
       "-1553274804152303886"
      ]
     },
     "execution_count": 41,
     "metadata": {},
     "output_type": "execute_result"
    },
    {
     "data": {
      "text/plain": [
       "1965726597064"
      ]
     },
     "execution_count": 41,
     "metadata": {},
     "output_type": "execute_result"
    },
    {
     "data": {
      "text/plain": [
       "1965750150104"
      ]
     },
     "execution_count": 41,
     "metadata": {},
     "output_type": "execute_result"
    }
   ],
   "source": [
    "ls = [1,2,5,0]\n",
    "all(ls)\n",
    "any(ls)\n",
    "hash(\"中国，你好\")\n",
    "id(ls)\n",
    "id(\"中国，你好\")"
   ]
  },
  {
   "cell_type": "code",
   "execution_count": 46,
   "metadata": {},
   "outputs": [
    {
     "data": {
      "text/plain": [
       "[0, 5, 2, 1]"
      ]
     },
     "execution_count": 46,
     "metadata": {},
     "output_type": "execute_result"
    },
    {
     "data": {
      "text/plain": [
       "[0, 1, 2, 5]"
      ]
     },
     "execution_count": 46,
     "metadata": {},
     "output_type": "execute_result"
    },
    {
     "data": {
      "text/plain": [
       "[1, 2, 5, 0]"
      ]
     },
     "execution_count": 46,
     "metadata": {},
     "output_type": "execute_result"
    },
    {
     "data": {
      "text/plain": [
       "[5, 2, 1, 0]"
      ]
     },
     "execution_count": 46,
     "metadata": {},
     "output_type": "execute_result"
    }
   ],
   "source": [
    "list(reversed(ls))\n",
    "sorted(ls)\n",
    "ls\n",
    "sorted(ls,reverse=True)"
   ]
  },
  {
   "cell_type": "markdown",
   "metadata": {},
   "source": [
    "## 练习题"
   ]
  },
  {
   "cell_type": "markdown",
   "metadata": {
    "collapsed": true
   },
   "source": [
    "1、课后练习：根据下列信息计算在1901年1月1日至2000年12月31日间共有多少个星期天落在每月的第一天上？  \n",
    "a)  1900.1.1是星期一  \n",
    "b)  1月，3月，5月，7月，8月，10月和12月是31天  \n",
    "c)  4月，6月，9月和11月是30天  \n",
    "d)  2月是28天，在闰年是29天  \n",
    "e)  公元年数能被4整除且又不能被100整除是闰年  \n",
    "f)  能直接被400整除也是闰年"
   ]
  },
  {
   "cell_type": "markdown",
   "metadata": {},
   "source": [
    "2、数字197可以被称为循环素数，因为197的三个数位循环移位后的数字：197,971,719均为素数。100以内这样的数字包括13个，2,3,5,7,11,13,17,31,37,71,73,79,97。要求任意正整数n以内一共有多少个这样的循环素数。"
   ]
  },
  {
   "cell_type": "code",
   "execution_count": null,
   "metadata": {
    "collapsed": true
   },
   "outputs": [],
   "source": []
  }
 ],
 "metadata": {
  "hide_input": false,
  "kernelspec": {
   "display_name": "Python 3",
   "language": "python",
   "name": "python3"
  },
  "language_info": {
   "codemirror_mode": {
    "name": "ipython",
    "version": 3
   },
   "file_extension": ".py",
   "mimetype": "text/x-python",
   "name": "python",
   "nbconvert_exporter": "python",
   "pygments_lexer": "ipython3",
   "version": "3.6.5"
  },
  "toc": {
   "colors": {
    "hover_highlight": "#DAA520",
    "navigate_num": "#000000",
    "navigate_text": "#333333",
    "running_highlight": "#FF0000",
    "selected_highlight": "#FFD700",
    "sidebar_border": "#EEEEEE",
    "wrapper_background": "#FFFFFF"
   },
   "moveMenuLeft": true,
   "nav_menu": {
    "height": "30px",
    "width": "252px"
   },
   "navigate_menu": true,
   "number_sections": false,
   "sideBar": true,
   "threshold": 4,
   "toc_cell": false,
   "toc_section_display": "block",
   "toc_window_display": true,
   "widenNotebook": false
  }
 },
 "nbformat": 4,
 "nbformat_minor": 2
}
