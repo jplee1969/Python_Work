{
 "cells": [
  {
   "attachments": {},
   "cell_type": "markdown",
   "metadata": {},
   "source": [
    "# 第六章 组合数据类型\n",
    "## 组合数据类型概述\n",
    "计算机不仅对单个变量表示的数据进行处理，更多情况，计算机需要对一组数据进行批量处理。一些例子包括：  \n",
    "- 给定一组单词{python, data, function, list, loop}，计算并输出每个单词的长度；\n",
    "- 给定一个学院学生信息，统计一下男女生比例；\n",
    "- 一次实验产生了很多组数据，对这些大量数据进行分析；  \n",
    "组合数据类型能够将多个同类型或不同类型的数据组织起来，通过单一的表示使数据操作更有序更容易。根据数据之间的关系，组合数据类型可以分为三类：  \n",
    "**序列类型、集合类型和映射类型。**  \n",
    "- 序列类型是一个元素向量，元素之间存在先后关系，通过序号访问，元素之间不排他。\n",
    "- 集合类型是一个元素集合，元素之间无序，相同元素在集合中唯一存在。\n",
    "- 映射类型是“键-值”数据项的组合，每个元素是一个键值对，表示为(key, value)。  \n",
    "\n",
    "### 序列类型\n",
    "序列类型是一维元素向量，元素之间存在先后关系，通过序号访问。    \n",
    "当需要访问序列中某特定值时，只需要通过下标标出即可。\n",
    "序列类型支持成员关系操作符（in）、长度计算函数（len()）、分片（[]），元素本身也可以是序列类型。  \n",
    "Python语言中有很多数据类型都是序列类型，其中比较重要的是：str（字符串）、tuple（元组）和list（列表）。\n",
    "- 元组是包含0个或多个数据项的不可变序列类型。元组生成后是固定的，其中任何数据项不能替换或删除。  \n",
    "- 列表则是一个可以修改数据项的序列类型，使用也最灵活  \n",
    "\n",
    "元组（tuple）是序列类型中比较特殊的类型，因为它一旦创建就不能被修改。元组类型在表达固定数据项、函数多返回值、多变量同步赋值、循环遍历等情况下十分有用。Python中元组采用逗号和圆括号（可选）来表示。\n"
   ]
  },
  {
   "cell_type": "code",
   "execution_count": 2,
   "metadata": {
    "collapsed": true
   },
   "outputs": [],
   "source": [
    "#需要打印所有变量（而不只是最后一个）\n",
    "from IPython.core.interactiveshell import InteractiveShell\n",
    "InteractiveShell.ast_node_interactivity = \"all\""
   ]
  },
  {
   "cell_type": "code",
   "execution_count": 3,
   "metadata": {},
   "outputs": [
    {
     "data": {
      "text/plain": [
       "('cat', 'dog', 'tiger', 'human')"
      ]
     },
     "execution_count": 3,
     "metadata": {},
     "output_type": "execute_result"
    },
    {
     "data": {
      "text/plain": [
       "('red', 4352, 'blue', ('cat', 'dog', 'tiger', 'human'))"
      ]
     },
     "execution_count": 3,
     "metadata": {},
     "output_type": "execute_result"
    },
    {
     "data": {
      "text/plain": [
       "'blue'"
      ]
     },
     "execution_count": 3,
     "metadata": {},
     "output_type": "execute_result"
    },
    {
     "data": {
      "text/plain": [
       "'tiger'"
      ]
     },
     "execution_count": 3,
     "metadata": {},
     "output_type": "execute_result"
    }
   ],
   "source": [
    "creature = \"cat\", \"dog\", \"tiger\", \"human\"\n",
    "creature\n",
    "color = (\"red\", 0x001100, \"blue\", creature)\n",
    "color\n",
    "color[2]\n",
    "color[-1][2]\n"
   ]
  },
  {
   "cell_type": "code",
   "execution_count": 4,
   "metadata": {},
   "outputs": [
    {
     "data": {
      "text/plain": [
       "(3, 27)"
      ]
     },
     "execution_count": 4,
     "metadata": {},
     "output_type": "execute_result"
    },
    {
     "name": "stdout",
     "output_type": "stream",
     "text": [
      "tiger dog\n",
      "1.0\n",
      "5.385164807134504\n",
      "8.54400374531753\n"
     ]
    }
   ],
   "source": [
    "def func(x):  #函数多返回值\n",
    "    return x, x**3\n",
    "func(3)\n",
    "\n",
    "a, b = 'dog', 'tiger'  #多变量同步赋值\n",
    "a, b = (b, a)      #多变量同步赋值，括号可省略\n",
    "print(a,b)\n",
    "\n",
    "import math\n",
    "for x, y in ((1,0), (2,5), (3,8)):  #循环遍历\n",
    "    print(math.hypot(x,y))            #求多个坐标值到原点的距离\n"
   ]
  },
  {
   "attachments": {},
   "cell_type": "markdown",
   "metadata": {},
   "source": [
    "### 集合类型\n",
    "集合类型与数学中集合的概念一致，即包含0个或多个数据项的无序组合。集合中元素不可重复，元素类型只能是固定数据类型，例如：整数、浮点数、字符串、元组等，列表、字典和集合类型本身都是可变数据类型，不能作为集合的元素出现。  \n",
    "由于集合是无序组合，它没有索引和位置的概念，不能分片，集合中元素可以动态增加或删除。集合用大括号（{}）表示，可以用赋值语句生成一个集合。  \n"
   ]
  },
  {
   "cell_type": "code",
   "execution_count": 5,
   "metadata": {},
   "outputs": [
    {
     "data": {
      "text/plain": [
       "{424, 425, (10, 'CS'), 'BIT'}"
      ]
     },
     "execution_count": 5,
     "metadata": {},
     "output_type": "execute_result"
    },
    {
     "data": {
      "text/plain": [
       "{424, 425, (10, 'CS'), 'BIT'}"
      ]
     },
     "execution_count": 5,
     "metadata": {},
     "output_type": "execute_result"
    }
   ],
   "source": [
    "S = {425, \"BIT\", (10, \"CS\"), 424}\n",
    "S\n",
    "T = {425, \"BIT\", (10, \"CS\"), 424, 425, \"BIT\"}\n",
    "T\n"
   ]
  },
  {
   "attachments": {},
   "cell_type": "markdown",
   "metadata": {},
   "source": [
    "由于集合元素是无序的，集合的打印效果与定义顺序可以不一致。由于集合元素独一无二，使用集合类型能够过滤掉重复元素。set(x)函数可以用于生成集合。\n"
   ]
  },
  {
   "cell_type": "code",
   "execution_count": 8,
   "metadata": {},
   "outputs": [
    {
     "data": {
      "text/plain": [
       "{'a', 'e', 'l', 'p'}"
      ]
     },
     "execution_count": 8,
     "metadata": {},
     "output_type": "execute_result"
    },
    {
     "data": {
      "text/plain": [
       "{'cat', 'dog', 'human', 'tiger'}"
      ]
     },
     "execution_count": 8,
     "metadata": {},
     "output_type": "execute_result"
    }
   ],
   "source": [
    "W = set('apple')\n",
    "W  #自动按字母序排列\n",
    "V = set((\"cat\", \"dog\", \"tiger\", \"human\"))\n",
    "V"
   ]
  },
  {
   "attachments": {},
   "cell_type": "markdown",
   "metadata": {},
   "source": [
    "集合类型的4种基本操作，交集（&）、并集（|）、差集（-）、补集（^），操作逻辑与数学定义相同  \n",
    "集合类型主要用于三个场景：成员关系测试、元素去重和删除数据项  "
   ]
  },
  {
   "cell_type": "code",
   "execution_count": 13,
   "metadata": {},
   "outputs": [
    {
     "data": {
      "text/plain": [
       "True"
      ]
     },
     "execution_count": 13,
     "metadata": {},
     "output_type": "execute_result"
    },
    {
     "data": {
      "text/plain": [
       "{'PYTHON', 123, 'GOOD', 'BIT'}"
      ]
     },
     "execution_count": 13,
     "metadata": {},
     "output_type": "execute_result"
    },
    {
     "data": {
      "text/plain": [
       "(123, 'GOOD', 'BIT')"
      ]
     },
     "execution_count": 13,
     "metadata": {},
     "output_type": "execute_result"
    }
   ],
   "source": [
    "\"BIT\" in {\"PYTHON\", \"BIT\", 123, \"GOOD\"} #成员关系测试\n",
    "tup = (\"PYTHON\", \"BIT\", 123, \"GOOD\", 123) #元素去重\n",
    "set(tup)\n",
    "newtup = tuple(set(tup)-{'PYTHON'}) # 去重同时删除数据项\n",
    "newtup"
   ]
  },
  {
   "attachments": {},
   "cell_type": "markdown",
   "metadata": {},
   "source": [
    "集合类型与其他类型最大的不同在于它不包含重复元素，因此，当需要对一维数据进行去重或进行数据重复处理时，一般通过集合来完成。\n"
   ]
  },
  {
   "attachments": {},
   "cell_type": "markdown",
   "metadata": {},
   "source": [
    "### 映射类型\n",
    "映射类型是“键-值”数据项的组合，每个元素是一个键值对，即元素是(key, value)，元素之间是无序的。键值对(key, value)是一种二元关系。在Python中，映射类型主要以字典（dict）体现。  \n"
   ]
  },
  {
   "cell_type": "code",
   "execution_count": 14,
   "metadata": {},
   "outputs": [
    {
     "data": {
      "text/plain": [
       "{'age': 20, 'name': '张三'}"
      ]
     },
     "execution_count": 14,
     "metadata": {},
     "output_type": "execute_result"
    },
    {
     "data": {
      "text/plain": [
       "'张三'"
      ]
     },
     "execution_count": 14,
     "metadata": {},
     "output_type": "execute_result"
    }
   ],
   "source": [
    "dic = {'name':'张三','age':20}\n",
    "dic\n",
    "dic['name']"
   ]
  },
  {
   "attachments": {},
   "cell_type": "markdown",
   "metadata": {},
   "source": [
    "## 列表类型和操作\n",
    "### 列表类型的概念\n",
    "列表（list）是包含0个或多个对象引用的有序序列，属于序列类型。与元组不同，列表的长度和内容都是可变的，可自由对列表中数据项进行增加、删除或替换。列表没有长度限制，元素类型可以不同，使用非常灵活。  \n",
    "由于列表属于序列类型，所以列表也支持成员关系操作符（in）、长度计算函数（len()）、分片（[]）。列表可以同时使用正向递增序号和反向递减序号，可以采用标准的比较操作符（<、<=、==、!=、>=、>）进行比较，列表的比较实际上是单个数据项的逐个比较。  \n",
    "列表用中括号（[]）表示，也可以通过list()函数将元组或字符串转化成列表。直接使用list()函数会返回一个空列表。  "
   ]
  },
  {
   "cell_type": "code",
   "execution_count": 15,
   "metadata": {},
   "outputs": [
    {
     "data": {
      "text/plain": [
       "[425, 'BIT', [10, 'CS'], 425]"
      ]
     },
     "execution_count": 15,
     "metadata": {},
     "output_type": "execute_result"
    },
    {
     "data": {
      "text/plain": [
       "'C'"
      ]
     },
     "execution_count": 15,
     "metadata": {},
     "output_type": "execute_result"
    },
    {
     "data": {
      "text/plain": [
       "'C'"
      ]
     },
     "execution_count": 15,
     "metadata": {},
     "output_type": "execute_result"
    },
    {
     "data": {
      "text/plain": [
       "[425, 'BIT', [10, 'CS'], 425]"
      ]
     },
     "execution_count": 15,
     "metadata": {},
     "output_type": "execute_result"
    },
    {
     "data": {
      "text/plain": [
       "['中', '国', '是', '一', '个', '伟', '大', '的', '国', '家']"
      ]
     },
     "execution_count": 15,
     "metadata": {},
     "output_type": "execute_result"
    },
    {
     "data": {
      "text/plain": [
       "[]"
      ]
     },
     "execution_count": 15,
     "metadata": {},
     "output_type": "execute_result"
    }
   ],
   "source": [
    "ls = [425, \"BIT\", [10, \"CS\"], 425]\n",
    "ls\n",
    "ls[2][-1][0]\n",
    "'C'\n",
    "list((425, \"BIT\", [10, \"CS\"], 425))\n",
    "list(\"中国是一个伟大的国家\")\n",
    "list()\n"
   ]
  },
  {
   "attachments": {},
   "cell_type": "markdown",
   "metadata": {},
   "source": [
    "与整数和字符串不同，列表要处理一组数据，因此，列表必须通过显式的数据赋值才能生成，简单将一个列表赋值给另一个列表不会生成新的列表对象。  "
   ]
  },
  {
   "cell_type": "code",
   "execution_count": 16,
   "metadata": {},
   "outputs": [
    {
     "data": {
      "text/plain": [
       "[0, 'BIT', 1024]"
      ]
     },
     "execution_count": 16,
     "metadata": {},
     "output_type": "execute_result"
    }
   ],
   "source": [
    "ls = [425, \"BIT\", 1024]  #用数据赋值产生列表ls\n",
    "lt = ls       #lt是ls所对应数据的引用，lt并不包含真实数据\n",
    "ls[0] = 0     \n",
    "lt\n"
   ]
  },
  {
   "attachments": {},
   "cell_type": "markdown",
   "metadata": {},
   "source": [
    "### 列表类型的操作\n"
   ]
  },
  {
   "cell_type": "code",
   "execution_count": 17,
   "metadata": {},
   "outputs": [
    {
     "data": {
      "text/plain": [
       "[0, 1, 2, 3, 4]"
      ]
     },
     "execution_count": 17,
     "metadata": {},
     "output_type": "execute_result"
    },
    {
     "data": {
      "text/plain": [
       "3"
      ]
     },
     "execution_count": 17,
     "metadata": {},
     "output_type": "execute_result"
    },
    {
     "data": {
      "text/plain": [
       "True"
      ]
     },
     "execution_count": 17,
     "metadata": {},
     "output_type": "execute_result"
    },
    {
     "data": {
      "text/plain": [
       "[0, 1, 2, 'python', 4]"
      ]
     },
     "execution_count": 17,
     "metadata": {},
     "output_type": "execute_result"
    },
    {
     "data": {
      "text/plain": [
       "[0, 'bit', 'computer', 'python', 4]"
      ]
     },
     "execution_count": 17,
     "metadata": {},
     "output_type": "execute_result"
    }
   ],
   "source": [
    "vlist = list(range(5))\n",
    "vlist\n",
    "len(vlist[2:])      #计算从第3个位置开始到结尾的子串长度\n",
    "2 in vlist           #判断2是否在列表vlist中\n",
    "vlist[3]=\"python\"   #修改序号3的元素值和类型\n",
    "vlist \n",
    "vlist[1:3]=[\"bit\", \"computer\"] \n",
    "vlist \n"
   ]
  },
  {
   "attachments": {},
   "cell_type": "markdown",
   "metadata": {},
   "source": [
    "与元组一样，列表可以通过for…in语句对其元素进行遍历，基本语法结构如下：  \n",
    "```\n",
    "for \t<任意变量名>  in  <列表名>:\n",
    "             语句块\n",
    "```\n"
   ]
  },
  {
   "cell_type": "code",
   "execution_count": 18,
   "metadata": {},
   "outputs": [
    {
     "name": "stdout",
     "output_type": "stream",
     "text": [
      "0 bit computer python 4 "
     ]
    }
   ],
   "source": [
    "for e in vlist:\n",
    "    print(e, end=\" \")\n"
   ]
  },
  {
   "attachments": {},
   "cell_type": "markdown",
   "metadata": {},
   "source": [
    "**列表是一个十分灵活的数据结构，它具有处理任意长度、混合类型的能力，并提供了丰富的基础操作符和方法。当程序需要使用组合数据类型管理批量数据时，请尽量使用列表类型。**  "
   ]
  },
  {
   "attachments": {},
   "cell_type": "markdown",
   "metadata": {},
   "source": [
    "## 基本统计值计算\n",
    "以最简单的统计问题为例，求解一组不定长数据的基本统计值，即平均值、标准差、中位数。  \n",
    "由于平均数、标准差和中位数是三个不同的计算目标，使用函数方式编写计算程序。  \n",
    ">  getNum()函数从用户输入获得数据  \n",
    ">  mean()函数计算平均值  \n",
    ">  dev()函数计算标准差  \n",
    ">  median()函数计算中位数  \n"
   ]
  },
  {
   "cell_type": "code",
   "execution_count": 21,
   "metadata": {},
   "outputs": [
    {
     "name": "stdout",
     "output_type": "stream",
     "text": [
      "请输入数字(直接输入回车退出): 98\n",
      "请输入数字(直接输入回车退出): 97\n",
      "请输入数字(直接输入回车退出): 96\n",
      "请输入数字(直接输入回车退出): 99\n",
      "请输入数字(直接输入回车退出): 95\n",
      "请输入数字(直接输入回车退出): \n",
      "平均值:97.0,方差:1.6,中位数:96.\n"
     ]
    }
   ],
   "source": [
    "from math import sqrt\n",
    "def getNum():       #获取用户输入\n",
    "    nums = []\n",
    "    iNumStr = input(\"请输入数字(直接输入回车退出): \")\n",
    "    while iNumStr != \"\":\n",
    "        nums.append(eval(iNumStr))\n",
    "        iNumStr = input(\"请输入数字(直接输入回车退出): \")\n",
    "    return nums\n",
    "def mean(numbers):  #计算平均值\n",
    "    s = 0.0\n",
    "    for num in numbers:\n",
    "        s = s + num\n",
    "    return s / len(numbers)\n",
    "def dev(numbers, mean): #计算方差\n",
    "    sdev = 0.0\n",
    "    for num in numbers:\n",
    "        sdev = sdev + (num - mean)**2\n",
    "    return sqrt(sdev / (len(numbers)-1))\n",
    "def median(numbers):    #计算中位数\n",
    "    sorted(numbers)\n",
    "    size = len(numbers)\n",
    "    if size % 2 == 0:\n",
    "        med = (numbers[size//2-1] + numbers[size//2])/2\n",
    "    else:\n",
    "        med = numbers[size//2]\n",
    "    return med\n",
    "n =  getNum()  #主体函数\n",
    "m =  mean(n)\n",
    "print(\"平均值:{},方差:{:.2},中位数:{}.\".format(m,dev(n,m),median(n)))\n"
   ]
  },
  {
   "attachments": {},
   "cell_type": "markdown",
   "metadata": {},
   "source": [
    "程序先后调用getNum()、mean()、dev()和median()函数。利用函数的模块化设计能够复用代码并增加代码的可读性。每个函数内部都采用了简单的语句。  \n",
    "列表在实现基本数据统计时发挥了重要作用，表现在：  \n",
    "- 列表是一个动态长度的数据结构，可以根据需求增加或减少元素；  \n",
    "- 列表的一系列方法或操作符为计算提供了简单的元素运算手段；  \n",
    "- 列表提供了对每个元素的简单访问方式及所有元素的遍历方式。  \n"
   ]
  },
  {
   "attachments": {},
   "cell_type": "markdown",
   "metadata": {},
   "source": [
    "## 字典类型的计算\n",
    "### 字典类型的基本概念\n",
    "通过任意键信息查找一组数据中值信息的过程叫映射，Python语言中通过字典实现映射。Python语言中的字典可以通过大括号({})建立，建立模式如下：  \n",
    "{<键1>:<值1>, <键2>:<值2>, … , <键n>:<值n>}  \n",
    "其中，键和值通过冒号连接，不同键值对通过逗号隔开。  \n"
   ]
  },
  {
   "cell_type": "code",
   "execution_count": 22,
   "metadata": {},
   "outputs": [
    {
     "name": "stdout",
     "output_type": "stream",
     "text": [
      "{'中国': '北京', '美国': '华盛顿', '法国': '巴黎'}\n"
     ]
    }
   ],
   "source": [
    "Dcountry={\"中国\":\"北京\", \"美国\":\"华盛顿\", \"法国\":\"巴黎\"}\n",
    "print(Dcountry)\n"
   ]
  },
  {
   "attachments": {},
   "cell_type": "markdown",
   "metadata": {},
   "source": [
    "字典打印出来的顺序与创建之初的顺序不同，这不是错误。字典是集合类型的延续，各个元素并没有顺序之分。  \n",
    "字典最主要的用法是查找与特定键相对应的值，这通过索引符号来实现。 \n"
   ]
  },
  {
   "cell_type": "code",
   "execution_count": 24,
   "metadata": {},
   "outputs": [
    {
     "data": {
      "text/plain": [
       "'北京'"
      ]
     },
     "execution_count": 24,
     "metadata": {},
     "output_type": "execute_result"
    }
   ],
   "source": [
    "Dcountry[\"中国\"]"
   ]
  },
  {
   "cell_type": "markdown",
   "metadata": {},
   "source": [
    "一般来说，字典中键值对的访问模式如下，采用中括号格式：  \n",
    "       <值> = <字典变量>[<键>]  \n",
    "字典中对某个键值的修改可以通过中括号的访问和赋值实现：\n"
   ]
  },
  {
   "cell_type": "code",
   "execution_count": 25,
   "metadata": {},
   "outputs": [
    {
     "data": {
      "text/plain": [
       "{'中国': '大北京', '法国': '巴黎', '美国': '华盛顿'}"
      ]
     },
     "execution_count": 25,
     "metadata": {},
     "output_type": "execute_result"
    }
   ],
   "source": [
    "Dcountry[\"中国\"]='大北京'\n",
    "Dcountry\n"
   ]
  },
  {
   "attachments": {},
   "cell_type": "markdown",
   "metadata": {},
   "source": [
    "### 字典类型的操作\n"
   ]
  },
  {
   "cell_type": "code",
   "execution_count": 26,
   "metadata": {},
   "outputs": [
    {
     "name": "stdout",
     "output_type": "stream",
     "text": [
      "{'中国': '北京', '美国': '华盛顿', '法国': '巴黎', '英国': '伦敦'}\n"
     ]
    },
    {
     "data": {
      "text/plain": [
       "{'2^10': 1024}"
      ]
     },
     "execution_count": 26,
     "metadata": {},
     "output_type": "execute_result"
    }
   ],
   "source": [
    "#通过中括号可以增加新的元素 \n",
    "Dcountry={\"中国\":\"北京\", \"美国\":\"华盛顿\", \"法国\":\"巴黎\"}\n",
    "Dcountry[\"英国\"]=\"伦敦\"\n",
    "print(Dcountry)\n",
    "#直接使用大括号（{}）可以创建一个空的字典，并通过中括号（[]）向其增加元素\n",
    "Dp={}\n",
    "Dp['2^10']=1024\n",
    "Dp"
   ]
  },
  {
   "cell_type": "markdown",
   "metadata": {},
   "source": [
    "字典类型的函数和方法举例："
   ]
  },
  {
   "cell_type": "code",
   "execution_count": 28,
   "metadata": {},
   "outputs": [
    {
     "data": {
      "text/plain": [
       "dict_keys(['中国', '美国', '法国'])"
      ]
     },
     "execution_count": 28,
     "metadata": {},
     "output_type": "execute_result"
    },
    {
     "data": {
      "text/plain": [
       "['北京', '华盛顿', '巴黎']"
      ]
     },
     "execution_count": 28,
     "metadata": {},
     "output_type": "execute_result"
    },
    {
     "data": {
      "text/plain": [
       "dict_items([('中国', '北京'), ('美国', '华盛顿'), ('法国', '巴黎')])"
      ]
     },
     "execution_count": 28,
     "metadata": {},
     "output_type": "execute_result"
    },
    {
     "data": {
      "text/plain": [
       "True"
      ]
     },
     "execution_count": 28,
     "metadata": {},
     "output_type": "execute_result"
    },
    {
     "data": {
      "text/plain": [
       "'华盛顿'"
      ]
     },
     "execution_count": 28,
     "metadata": {},
     "output_type": "execute_result"
    },
    {
     "data": {
      "text/plain": [
       "'悉尼'"
      ]
     },
     "execution_count": 28,
     "metadata": {},
     "output_type": "execute_result"
    }
   ],
   "source": [
    "Dcountry={\"中国\":\"北京\", \"美国\":\"华盛顿\", \"法国\":\"巴黎\"}\n",
    "Dcountry.keys()\n",
    "list(Dcountry.values())\n",
    "Dcountry.items()\n",
    "'中国' in Dcountry   #只对键进行判断\n",
    "Dcountry.get('美国', '悉尼') #'美国'在字典中存在\n",
    "Dcountry.get('澳大利亚', '悉尼') #'澳大利亚'在字典中不存在\n"
   ]
  },
  {
   "attachments": {},
   "cell_type": "markdown",
   "metadata": {},
   "source": [
    "与其他组合类型一样，字典可以通过for…in语句对其元素进行遍历，基本语法结构如下：\n",
    "```\n",
    "for \t<变量名>  in  <字典名>:\n",
    "        语句块\n",
    "```"
   ]
  },
  {
   "cell_type": "code",
   "execution_count": 29,
   "metadata": {},
   "outputs": [
    {
     "name": "stdout",
     "output_type": "stream",
     "text": [
      "中国\n",
      "美国\n",
      "法国\n"
     ]
    }
   ],
   "source": [
    "for key in Dcountry:\n",
    "    print(key)\n"
   ]
  },
  {
   "attachments": {},
   "cell_type": "markdown",
   "metadata": {},
   "source": [
    "字典是实现键值对映射的数据结构，请理解如下基本原则：  \n",
    "- 字典是一个键值对的集合，该集合以键为索引，一个键信息只对应一个值信息； \n",
    "- 字典中元素以键信息为索引访问；\n",
    "- 字典长度是可变的，可以通过对键信息赋值实现增加或修改键值对。 \n"
   ]
  },
  {
   "attachments": {},
   "cell_type": "markdown",
   "metadata": {},
   "source": [
    "### jieba库的使用\n",
    "### jieba库的概述\n",
    "jieba是Python中一个重要的第三方中文分词函数库  \n",
    "jieba库是第三方库，不是安装包自带，需要通过pip指令安装  \n",
    "```\n",
    "pip install jieba   # 或者 pip3 install jieba\n",
    "```"
   ]
  },
  {
   "cell_type": "code",
   "execution_count": 30,
   "metadata": {},
   "outputs": [
    {
     "name": "stderr",
     "output_type": "stream",
     "text": [
      "Building prefix dict from the default dictionary ...\n",
      "Dumping model to file cache F:\\Temp\\jieba.cache\n",
      "Loading model cost 2.958 seconds.\n",
      "Prefix dict has been built succesfully.\n"
     ]
    },
    {
     "data": {
      "text/plain": [
       "['中国', '是', '一个', '伟大', '的', '国家']"
      ]
     },
     "execution_count": 30,
     "metadata": {},
     "output_type": "execute_result"
    }
   ],
   "source": [
    "import jieba\n",
    "jieba.lcut(\"中国是一个伟大的国家\")\n"
   ]
  },
  {
   "attachments": {},
   "cell_type": "markdown",
   "metadata": {},
   "source": [
    "### jieba库的解析\n"
   ]
  },
  {
   "cell_type": "code",
   "execution_count": 31,
   "metadata": {},
   "outputs": [
    {
     "data": {
      "text/plain": [
       "['中华人民共和国', '是', '一个', '伟大', '的', '国家']"
      ]
     },
     "execution_count": 31,
     "metadata": {},
     "output_type": "execute_result"
    },
    {
     "data": {
      "text/plain": [
       "['中华',\n",
       " '中华人民',\n",
       " '中华人民共和国',\n",
       " '华人',\n",
       " '人民',\n",
       " '人民共和国',\n",
       " '共和',\n",
       " '共和国',\n",
       " '国是',\n",
       " '一个',\n",
       " '伟大',\n",
       " '的',\n",
       " '国家']"
      ]
     },
     "execution_count": 31,
     "metadata": {},
     "output_type": "execute_result"
    },
    {
     "data": {
      "text/plain": [
       "['中华', '华人', '人民', '共和', '共和国', '中华人民共和国', '是', '一个', '伟大', '的', '国家']"
      ]
     },
     "execution_count": 31,
     "metadata": {},
     "output_type": "execute_result"
    }
   ],
   "source": [
    "import jieba\n",
    "jieba.lcut(\"中华人民共和国是一个伟大的国家\")\n",
    "jieba.lcut(\"中华人民共和国是一个伟大的国家\", cut_all=True)\n",
    "jieba.lcut_for_search(\"中华人民共和国是一个伟大的国家\")\n"
   ]
  },
  {
   "attachments": {},
   "cell_type": "markdown",
   "metadata": {},
   "source": [
    "## 文本词频统计\n",
    "### 《Hamlet》英文词频统计\n"
   ]
  },
  {
   "cell_type": "code",
   "execution_count": 35,
   "metadata": {},
   "outputs": [
    {
     "name": "stdout",
     "output_type": "stream",
     "text": [
      "the        1137\n",
      "and         965\n",
      "to          754\n",
      "of          667\n",
      "you         550\n",
      "a           542\n",
      "i           541\n",
      "my          514\n",
      "hamlet      461\n",
      "in          436\n"
     ]
    }
   ],
   "source": [
    "def getText():\n",
    "    txt = open(\"f:/code/python/Hamlet.txt\", \"r\",encoding='utf8').read()\n",
    "    txt = txt.lower()\n",
    "    for ch in '!\"#$%&()*+,-./:;<=>?@[\\\\]^_‘{|}~':\n",
    "        txt = txt.replace(ch,\" \")   #将文本中特殊字符替换为空格\n",
    "    return txt\n",
    "hamletTxt = getText()\n",
    "words  = hamletTxt.split()\n",
    "counts = {}\n",
    "for word in words:\n",
    "    counts[word] = counts.get(word,0) + 1\n",
    "items = list(counts.items())\n",
    "items.sort(key=lambda x:x[1], reverse=True) \n",
    "for i in range(10):\n",
    "    word, count = items[i]\n",
    "    print (\"{0:<10}{1:>5}\".format(word, count))\n"
   ]
  },
  {
   "attachments": {},
   "cell_type": "markdown",
   "metadata": {},
   "source": [
    "观察输出结果可以看到，高频单词大多数是冠词、代词、连接词等语法型词汇，并不能代表文章的含义。进一步，可以采用集合类型构建一个排除词汇库excludes，在输出结果中排除这个词汇库中内容。\n"
   ]
  },
  {
   "cell_type": "code",
   "execution_count": 41,
   "metadata": {},
   "outputs": [
    {
     "name": "stdout",
     "output_type": "stream",
     "text": [
      "hamlet      461\n",
      "lord        309\n",
      "with        268\n",
      "so          197\n",
      "king        194\n",
      "have        181\n",
      "will        169\n",
      "horatio     157\n",
      "do          151\n",
      "no          142\n"
     ]
    }
   ],
   "source": [
    "excludes = {\"the\",\"and\",\"of\",\"you\",\"a\",\"i\",\"my\",\"in\",\"it\",\"his\",\"not\",\"is\",\"to\",\"that\",\"this\",\"for\",\"your\",\"me\",\"but\",\"be\",\"as\",\"he\",\"him\",\"what\"}\n",
    "def getText():\n",
    "    txt = open(\"f:/code/python/Hamlet.txt\", \"r\", encoding='utf8').read()\n",
    "    txt = txt.lower()\n",
    "    for ch in '!\"#$%&()*+,-./:;<=>?@[\\\\]^_‘{|}~':\n",
    "        txt = txt.replace(ch, \" \")   #将文本中特殊字符替换为空格\n",
    "    return txt\n",
    "hamletTxt = getText()\n",
    "words  = hamletTxt.split()\n",
    "counts = {}\n",
    "for word in words:\n",
    "    counts[word] = counts.get(word,0) + 1\n",
    "for word in excludes:\n",
    "    del(counts[word])\n",
    "items = list(counts.items())\n",
    "items.sort(key=lambda x:x[1], reverse=True) \n",
    "for i in range(10):\n",
    "    word, count = items[i]\n",
    "    print (\"{0:<10}{1:>5}\".format(word, count))\n"
   ]
  },
  {
   "attachments": {},
   "cell_type": "markdown",
   "metadata": {},
   "source": [
    "### 《三国演义》人物出场统计 \n"
   ]
  },
  {
   "cell_type": "code",
   "execution_count": 49,
   "metadata": {},
   "outputs": [
    {
     "name": "stdout",
     "output_type": "stream",
     "text": [
      "曹操          936\n",
      "孔明          831\n",
      "将军          772\n",
      "却说          656\n",
      "玄德          570\n",
      "关公          509\n",
      "丞相          491\n",
      "二人          466\n",
      "不可          441\n",
      "荆州          421\n",
      "不能          387\n",
      "孔明曰         385\n",
      "玄德曰         383\n",
      "如此          378\n",
      "张飞          348\n"
     ]
    }
   ],
   "source": [
    "import jieba\n",
    "txt = open(\"f:/code/Python/三国演义.txt\", \"r\", encoding='utf8').read()\n",
    "words  = jieba.lcut(txt)\n",
    "counts = {}\n",
    "for word in words:\n",
    "    if len(word) == 1:  #排除单个字符的分词结果\n",
    "        continue\n",
    "    else:\n",
    "        counts[word] = counts.get(word,0) + 1\n",
    "items = list(counts.items())\n",
    "items.sort(key=lambda x:x[1], reverse=True) \n",
    "for i in range(15):\n",
    "    word, count = items[i]\n",
    "    print (\"{0:<10}{1:>5}\".format(word, count))\n"
   ]
  },
  {
   "attachments": {},
   "cell_type": "markdown",
   "metadata": {},
   "source": [
    "观察输出结果，同一个人物会有不同的名字，这种情况需要整合处理。同时，与英文词频统计类似，需要排除一些人名无关词汇，如“却说”、“将军”等。\n"
   ]
  },
  {
   "cell_type": "code",
   "execution_count": 51,
   "metadata": {},
   "outputs": [
    {
     "name": "stdout",
     "output_type": "stream",
     "text": [
      "曹操         1434\n",
      "孔明         1373\n",
      "刘备         1224\n",
      "关羽          779\n",
      "张飞          348\n"
     ]
    }
   ],
   "source": [
    "import jieba\n",
    "excludes = {\"将军\",\"却说\",\"荆州\",\"二人\",\"不可\",\"不能\",\"如此\"}\n",
    "txt = open(\"f:/code/Python/三国演义.txt\", \"r\", encoding='utf8').read()\n",
    "words  = jieba.lcut(txt)\n",
    "counts = {}\n",
    "for word in words:\n",
    "    if len(word) == 1:\n",
    "        continue\n",
    "    elif word == \"诸葛亮\" or word == \"孔明曰\":\n",
    "        rword = \"孔明\"\n",
    "    elif word == \"关公\" or word == \"云长\":\n",
    "        rword = \"关羽\"\n",
    "    elif word == \"玄德\" or word == \"玄德曰\":\n",
    "        rword = \"刘备\"\n",
    "    elif word == \"孟德\" or word == \"丞相\":\n",
    "        rword = \"曹操\"\n",
    "    else:\n",
    "        rword = word\n",
    "    counts[rword] = counts.get(rword,0) + 1\n",
    "for word in excludes:\n",
    "    del(counts[word])\n",
    "items = list(counts.items())\n",
    "items.sort(key=lambda x:x[1], reverse=True) \n",
    "for i in range(5):\n",
    "    word, count = items[i]\n",
    "    print (\"{0:<10}{1:>5}\".format(word, count))\n"
   ]
  },
  {
   "cell_type": "markdown",
   "metadata": {},
   "source": [
    "请继续完善程序，排除更多无关词汇干扰，总结出场最多的20个人物都有哪些。这里，给出参考答案。  \n",
    "曹操（1451）、孔明（1383）、刘备（1252）、关羽（784）、张飞（358）、  \n",
    "吕布（300）、赵云（278）、孙权（264）、司马懿（221）、周瑜（217）、  \n",
    "袁绍（191）、马超（185）、魏延（180）、黄忠（168）、姜维（151）、  \n",
    "马岱（127）、庞德（122）、孟获（122）、刘表（120）、夏侯惇（116）  \n"
   ]
  },
  {
   "attachments": {},
   "cell_type": "markdown",
   "metadata": {},
   "source": [
    "### Python之禅\n",
    "什么样的程序是好的？如何编写漂亮的代码？这都是学习编程一段时间最经常提出的问题，却最难回答。程序设计语言如同自然语言，好的代码就像文学作品，不仅达意，更要优美。那什么是“好”？什么是“优美”？领悟编程代码优美的过程类似参禅，除了不断练习，也需要理解一些原则。  \n",
    "Python编译器以函数库的形式内置了一个有趣的文件，被称为“Python之禅”（The Zen of Python）。当调用如下一行语句后，会出现一段有趣的运行结果。\n"
   ]
  },
  {
   "cell_type": "code",
   "execution_count": 52,
   "metadata": {},
   "outputs": [
    {
     "name": "stdout",
     "output_type": "stream",
     "text": [
      "The Zen of Python, by Tim Peters\n",
      "\n",
      "Beautiful is better than ugly.\n",
      "Explicit is better than implicit.\n",
      "Simple is better than complex.\n",
      "Complex is better than complicated.\n",
      "Flat is better than nested.\n",
      "Sparse is better than dense.\n",
      "Readability counts.\n",
      "Special cases aren't special enough to break the rules.\n",
      "Although practicality beats purity.\n",
      "Errors should never pass silently.\n",
      "Unless explicitly silenced.\n",
      "In the face of ambiguity, refuse the temptation to guess.\n",
      "There should be one-- and preferably only one --obvious way to do it.\n",
      "Although that way may not be obvious at first unless you're Dutch.\n",
      "Now is better than never.\n",
      "Although never is often better than *right* now.\n",
      "If the implementation is hard to explain, it's a bad idea.\n",
      "If the implementation is easy to explain, it may be a good idea.\n",
      "Namespaces are one honking great idea -- let's do more of those!\n"
     ]
    }
   ],
   "source": [
    "import this"
   ]
  },
  {
   "cell_type": "markdown",
   "metadata": {},
   "source": [
    "Python之禅   作者：Tim Peters  \n",
    " \n",
    "优美胜于丑陋  \n",
    "明了胜于隐晦  \n",
    "简洁胜于复杂  \n",
    "复杂胜于凌乱  \n",
    "扁平胜于嵌套  \n",
    "间隔胜于紧凑  \n",
    "可读性很重要  \n",
    "即便假借特例的实用性之名，也不要违背上述规则  \n",
    "除非你确定需要，任何错误都应该有应对  \n",
    "当存在多种可能，不要尝试去猜测  \n",
    "只要你不是Guido，对于问题尽量找一种，最好是唯一明显的解决方案  \n",
    "做也许好过不做，但不假思索就动手还不如不做  \n",
    "如果你无法向人描述你的实现方案，那肯定不是一个好方案  \n",
    "如果实现方案容易解释，可能是个好方案  \n",
    "命名空间是绝妙的理念，要多运用  \n"
   ]
  },
  {
   "attachments": {},
   "cell_type": "markdown",
   "metadata": {},
   "source": [
    "除了Python之禅所表达的Python设计理念，该程序还有另一段魅力： \n"
   ]
  },
  {
   "cell_type": "code",
   "execution_count": 59,
   "metadata": {},
   "outputs": [
    {
     "name": "stdout",
     "output_type": "stream",
     "text": [
      "\n",
      "The Zen of Python, by Tim Peters \n",
      "Beautiful is better than ugly.\n",
      "Explicit is better than implicit.\n",
      "Simple is better than complex.\n",
      "Complex is better than complicated.\n",
      "Flat is better than nested.\n",
      "Sparse is better than dense.\n",
      "Readability counts.\n",
      "Special cases aren't special enough to break the rules.\n",
      "Although practicality beats purity.\n",
      "Errors should never pass silently.\n",
      "Unless explicitly silenced.\n",
      "In the face of ambiguity, refuse the temptation to guess.\n",
      "There should be one-- and preferably only one --obvious way to do it.\n",
      "Although that way may not be obvious at first unless you're Dutch.\n",
      "Now is better than never.\n",
      "Although never is often better than *right* now.\n",
      "If the implementation is hard to explain, it's a bad idea.\n",
      "If the implementation is easy to explain, it may be a good idea.\n",
      "Namespaces are one honking great idea -- let's do more of those!\n",
      "\n"
     ]
    }
   ],
   "source": [
    "s = \"\"\"\n",
    "Gur Mra bs Clguba, ol Gvz Crgref \n",
    "Ornhgvshy vf orggre guna htyl.\n",
    "Rkcyvpvg vf orggre guna vzcyvpvg.\n",
    "Fvzcyr vf orggre guna pbzcyrk.\n",
    "Pbzcyrk vf orggre guna pbzcyvpngrq.\n",
    "Syng vf orggre guna arfgrq.\n",
    "Fcnefr vf orggre guna qrafr.\n",
    "Ernqnovyvgl pbhagf.\n",
    "Fcrpvny pnfrf nera'g fcrpvny rabhtu gb oernx gur ehyrf.\n",
    "Nygubhtu cenpgvpnyvgl orngf chevgl.\n",
    "Reebef fubhyq arire cnff fvyragyl.\n",
    "Hayrff rkcyvpvgyl fvyraprq.\n",
    "Va gur snpr bs nzovthvgl, ershfr gur grzcgngvba gb thrff.\n",
    "Gurer fubhyq or bar-- naq cersrenoyl bayl bar --boivbhf jnl gb qb vg.\n",
    "Nygubhtu gung jnl znl abg or boivbhf ng svefg hayrff lbh'er Qhgpu.\n",
    "Abj vf orggre guna arire.\n",
    "Nygubhtu arire vf bsgra orggre guna *evtug* abj.\n",
    "Vs gur vzcyrzragngvba vf uneq gb rkcynva, vg'f n onq vqrn.\n",
    "Vs gur vzcyrzragngvba vf rnfl gb rkcynva, vg znl or n tbbq vqrn.\n",
    "Anzrfcnprf ner bar ubaxvat terng vqrn -- yrg'f qb zber bs gubfr!\n",
    "\"\"\"\n",
    "d = {}\n",
    "for c in (65, 97):\n",
    "    for i in range(26):\n",
    "        d[chr(i+c)] = chr((i+13) % 26 + c)\n",
    "print(\"\".join([d.get(c, c) for c in s]))\n"
   ]
  },
  {
   "cell_type": "markdown",
   "metadata": {},
   "source": [
    "密文：A B C D E F G H I J K L M N O P Q R S T U V W X Y Z  \n",
    "原文：N O P Q R S T U V W X Y Z A B C D E F G H I J K L M  \n",
    "密文：a b c d e f g h i j k l m n o p q r s t u v w x y z  \n",
    "原文：n o p q r s t u v w x y z a b c d e f g h i j k l m   \n",
    "\n",
    "这个算法可以看作是凯撒密码的一种扩展，相比凯撒密码，采用循环移动13个位置，加密和解密可以用同一个程序。  \n"
   ]
  },
  {
   "cell_type": "markdown",
   "metadata": {},
   "source": [
    "## 练习题"
   ]
  },
  {
   "cell_type": "code",
   "execution_count": null,
   "metadata": {
    "collapsed": true
   },
   "outputs": [],
   "source": []
  }
 ],
 "metadata": {
  "hide_input": false,
  "kernelspec": {
   "display_name": "Python 3",
   "language": "python",
   "name": "python3"
  },
  "language_info": {
   "codemirror_mode": {
    "name": "ipython",
    "version": 3
   },
   "file_extension": ".py",
   "mimetype": "text/x-python",
   "name": "python",
   "nbconvert_exporter": "python",
   "pygments_lexer": "ipython3",
   "version": "3.6.1"
  },
  "toc": {
   "colors": {
    "hover_highlight": "#DAA520",
    "navigate_num": "#000000",
    "navigate_text": "#333333",
    "running_highlight": "#FF0000",
    "selected_highlight": "#FFD700",
    "sidebar_border": "#EEEEEE",
    "wrapper_background": "#FFFFFF"
   },
   "moveMenuLeft": true,
   "nav_menu": {
    "height": "372px",
    "width": "252px"
   },
   "navigate_menu": true,
   "number_sections": true,
   "sideBar": true,
   "threshold": 4,
   "toc_cell": false,
   "toc_section_display": "block",
   "toc_window_display": false,
   "widenNotebook": false
  }
 },
 "nbformat": 4,
 "nbformat_minor": 2
}
